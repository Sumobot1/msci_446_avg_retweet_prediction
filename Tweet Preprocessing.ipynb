{
 "cells": [
  {
   "cell_type": "code",
   "execution_count": 1,
   "metadata": {},
   "outputs": [],
   "source": [
    "import pandas as pd\n",
    "from datetime import datetime, timedelta\n",
    "import numpy as np\n",
    "import re"
   ]
  },
  {
   "cell_type": "code",
   "execution_count": 2,
   "metadata": {},
   "outputs": [],
   "source": [
    "trumptweets = pd.read_csv('./tweets/Trump_Tweets.csv')\n",
    "trumptweets = trumptweets.dropna()\n",
    "stocks = pd.read_csv('./stocks/spx_preprocessed.csv')\n",
    "stocks['Date']= pd.to_datetime(stocks['Date']) "
   ]
  },
  {
   "cell_type": "code",
   "execution_count": 3,
   "metadata": {},
   "outputs": [
    {
     "data": {
      "text/html": [
       "<div>\n",
       "<style scoped>\n",
       "    .dataframe tbody tr th:only-of-type {\n",
       "        vertical-align: middle;\n",
       "    }\n",
       "\n",
       "    .dataframe tbody tr th {\n",
       "        vertical-align: top;\n",
       "    }\n",
       "\n",
       "    .dataframe thead th {\n",
       "        text-align: right;\n",
       "    }\n",
       "</style>\n",
       "<table border=\"1\" class=\"dataframe\">\n",
       "  <thead>\n",
       "    <tr style=\"text-align: right;\">\n",
       "      <th></th>\n",
       "      <th>source</th>\n",
       "      <th>text</th>\n",
       "      <th>created_at</th>\n",
       "      <th>retweet_count</th>\n",
       "      <th>favorite_count</th>\n",
       "      <th>is_retweet</th>\n",
       "      <th>id_str</th>\n",
       "    </tr>\n",
       "  </thead>\n",
       "  <tbody>\n",
       "    <tr>\n",
       "      <td>0</td>\n",
       "      <td>Twitter Media Studio</td>\n",
       "      <td>Thank you to @MarthaRaddatz and @TerryMoran fo...</td>\n",
       "      <td>10-27-2019 21:24:55</td>\n",
       "      <td>11176.0</td>\n",
       "      <td>41087</td>\n",
       "      <td>false</td>\n",
       "      <td>1.188567e+18</td>\n",
       "    </tr>\n",
       "    <tr>\n",
       "      <td>1</td>\n",
       "      <td>Twitter for iPhone</td>\n",
       "      <td>RT @StateDept: Last night the United States br...</td>\n",
       "      <td>10-27-2019 16:50:08</td>\n",
       "      <td>16384.0</td>\n",
       "      <td>0</td>\n",
       "      <td>true</td>\n",
       "      <td>1.188498e+18</td>\n",
       "    </tr>\n",
       "    <tr>\n",
       "      <td>2</td>\n",
       "      <td>Twitter for iPhone</td>\n",
       "      <td>RT @WhiteHouse: Thank you to the service membe...</td>\n",
       "      <td>10-27-2019 16:49:45</td>\n",
       "      <td>11357.0</td>\n",
       "      <td>0</td>\n",
       "      <td>true</td>\n",
       "      <td>1.188498e+18</td>\n",
       "    </tr>\n",
       "    <tr>\n",
       "      <td>3</td>\n",
       "      <td>Twitter for iPhone</td>\n",
       "      <td>https://t.co/7esnNSoa5D</td>\n",
       "      <td>10-27-2019 16:25:12</td>\n",
       "      <td>25546.0</td>\n",
       "      <td>108756</td>\n",
       "      <td>false</td>\n",
       "      <td>1.188492e+18</td>\n",
       "    </tr>\n",
       "    <tr>\n",
       "      <td>4</td>\n",
       "      <td>Twitter for iPhone</td>\n",
       "      <td>https://t.co/yJ0VKdNxHP</td>\n",
       "      <td>10-27-2019 14:31:33</td>\n",
       "      <td>22275.0</td>\n",
       "      <td>76549</td>\n",
       "      <td>false</td>\n",
       "      <td>1.188463e+18</td>\n",
       "    </tr>\n",
       "  </tbody>\n",
       "</table>\n",
       "</div>"
      ],
      "text/plain": [
       "                 source                                               text  \\\n",
       "0  Twitter Media Studio  Thank you to @MarthaRaddatz and @TerryMoran fo...   \n",
       "1    Twitter for iPhone  RT @StateDept: Last night the United States br...   \n",
       "2    Twitter for iPhone  RT @WhiteHouse: Thank you to the service membe...   \n",
       "3    Twitter for iPhone                            https://t.co/7esnNSoa5D   \n",
       "4    Twitter for iPhone                            https://t.co/yJ0VKdNxHP   \n",
       "\n",
       "            created_at  retweet_count favorite_count is_retweet        id_str  \n",
       "0  10-27-2019 21:24:55        11176.0          41087      false  1.188567e+18  \n",
       "1  10-27-2019 16:50:08        16384.0              0       true  1.188498e+18  \n",
       "2  10-27-2019 16:49:45        11357.0              0       true  1.188498e+18  \n",
       "3  10-27-2019 16:25:12        25546.0         108756      false  1.188492e+18  \n",
       "4  10-27-2019 14:31:33        22275.0          76549      false  1.188463e+18  "
      ]
     },
     "execution_count": 3,
     "metadata": {},
     "output_type": "execute_result"
    }
   ],
   "source": [
    "trumptweets.head(5)"
   ]
  },
  {
   "cell_type": "code",
   "execution_count": 4,
   "metadata": {},
   "outputs": [],
   "source": [
    "trumptweets = trumptweets.drop([\"source\", \"id_str\"], axis=1)"
   ]
  },
  {
   "cell_type": "code",
   "execution_count": 5,
   "metadata": {},
   "outputs": [],
   "source": [
    "trumptweets['created_at']= pd.to_datetime(trumptweets['created_at'], format=\"%m-%d-%Y %H:%M:%S\") "
   ]
  },
  {
   "cell_type": "code",
   "execution_count": 6,
   "metadata": {},
   "outputs": [
    {
     "name": "stdout",
     "output_type": "stream",
     "text": [
      "<class 'pandas.core.frame.DataFrame'>\n",
      "Int64Index: 39096 entries, 0 to 39160\n",
      "Data columns (total 5 columns):\n",
      "text              39096 non-null object\n",
      "created_at        39096 non-null datetime64[ns]\n",
      "retweet_count     39096 non-null float64\n",
      "favorite_count    39096 non-null object\n",
      "is_retweet        39096 non-null object\n",
      "dtypes: datetime64[ns](1), float64(1), object(3)\n",
      "memory usage: 1.8+ MB\n"
     ]
    }
   ],
   "source": [
    "trumptweets.info()"
   ]
  },
  {
   "cell_type": "markdown",
   "metadata": {},
   "source": [
    "### We only want tweets where there are associated stock prices"
   ]
  },
  {
   "cell_type": "code",
   "execution_count": 7,
   "metadata": {},
   "outputs": [],
   "source": [
    "trumptweets = trumptweets[trumptweets[\"created_at\"].between(str(stocks[\"Date\"].min() - timedelta(days=1)), str(stocks[\"Date\"].max() + timedelta(days=1)))]"
   ]
  },
  {
   "cell_type": "code",
   "execution_count": 8,
   "metadata": {},
   "outputs": [],
   "source": [
    "trumptweets = trumptweets.sort_values(by=\"created_at\")\n",
    "trumptweets = trumptweets.reset_index(drop=True)\n",
    "stocks = stocks.sort_values(by=\"Date\")\n",
    "stocks = stocks.reset_index(drop=True)"
   ]
  },
  {
   "cell_type": "code",
   "execution_count": 9,
   "metadata": {},
   "outputs": [
    {
     "data": {
      "text/html": [
       "<div>\n",
       "<style scoped>\n",
       "    .dataframe tbody tr th:only-of-type {\n",
       "        vertical-align: middle;\n",
       "    }\n",
       "\n",
       "    .dataframe tbody tr th {\n",
       "        vertical-align: top;\n",
       "    }\n",
       "\n",
       "    .dataframe thead th {\n",
       "        text-align: right;\n",
       "    }\n",
       "</style>\n",
       "<table border=\"1\" class=\"dataframe\">\n",
       "  <thead>\n",
       "    <tr style=\"text-align: right;\">\n",
       "      <th></th>\n",
       "      <th>Date</th>\n",
       "      <th>Open</th>\n",
       "      <th>Close</th>\n",
       "      <th>1 Day Open</th>\n",
       "      <th>1 Day Close</th>\n",
       "      <th>2 Day Open</th>\n",
       "      <th>2 Day Close</th>\n",
       "      <th>EOW Close</th>\n",
       "      <th>SOW Open</th>\n",
       "    </tr>\n",
       "  </thead>\n",
       "  <tbody>\n",
       "    <tr>\n",
       "      <td>0</td>\n",
       "      <td>2010-01-04</td>\n",
       "      <td>1116.560059</td>\n",
       "      <td>1132.989990</td>\n",
       "      <td>1132.660034</td>\n",
       "      <td>1136.520020</td>\n",
       "      <td>1135.709961</td>\n",
       "      <td>1137.140015</td>\n",
       "      <td>1144.979980</td>\n",
       "      <td>1145.959961</td>\n",
       "    </tr>\n",
       "    <tr>\n",
       "      <td>1</td>\n",
       "      <td>2010-01-05</td>\n",
       "      <td>1132.660034</td>\n",
       "      <td>1136.520020</td>\n",
       "      <td>1135.709961</td>\n",
       "      <td>1137.140015</td>\n",
       "      <td>1136.270020</td>\n",
       "      <td>1141.689941</td>\n",
       "      <td>1144.979980</td>\n",
       "      <td>1145.959961</td>\n",
       "    </tr>\n",
       "    <tr>\n",
       "      <td>2</td>\n",
       "      <td>2010-01-06</td>\n",
       "      <td>1135.709961</td>\n",
       "      <td>1137.140015</td>\n",
       "      <td>1136.270020</td>\n",
       "      <td>1141.689941</td>\n",
       "      <td>1140.520020</td>\n",
       "      <td>1144.979980</td>\n",
       "      <td>1144.979980</td>\n",
       "      <td>1145.959961</td>\n",
       "    </tr>\n",
       "    <tr>\n",
       "      <td>3</td>\n",
       "      <td>2010-01-07</td>\n",
       "      <td>1136.270020</td>\n",
       "      <td>1141.689941</td>\n",
       "      <td>1140.520020</td>\n",
       "      <td>1144.979980</td>\n",
       "      <td>1145.959961</td>\n",
       "      <td>1146.979980</td>\n",
       "      <td>1144.979980</td>\n",
       "      <td>1145.959961</td>\n",
       "    </tr>\n",
       "    <tr>\n",
       "      <td>4</td>\n",
       "      <td>2010-01-08</td>\n",
       "      <td>1140.520020</td>\n",
       "      <td>1144.979980</td>\n",
       "      <td>1145.959961</td>\n",
       "      <td>1146.979980</td>\n",
       "      <td>1143.810059</td>\n",
       "      <td>1136.219971</td>\n",
       "      <td>1144.979980</td>\n",
       "      <td>1145.959961</td>\n",
       "    </tr>\n",
       "    <tr>\n",
       "      <td>5</td>\n",
       "      <td>2010-01-11</td>\n",
       "      <td>1145.959961</td>\n",
       "      <td>1146.979980</td>\n",
       "      <td>1143.810059</td>\n",
       "      <td>1136.219971</td>\n",
       "      <td>1137.310059</td>\n",
       "      <td>1145.680054</td>\n",
       "      <td>1136.030029</td>\n",
       "      <td>1136.030029</td>\n",
       "    </tr>\n",
       "    <tr>\n",
       "      <td>6</td>\n",
       "      <td>2010-01-12</td>\n",
       "      <td>1143.810059</td>\n",
       "      <td>1136.219971</td>\n",
       "      <td>1137.310059</td>\n",
       "      <td>1145.680054</td>\n",
       "      <td>1145.680054</td>\n",
       "      <td>1148.459961</td>\n",
       "      <td>1136.030029</td>\n",
       "      <td>1136.030029</td>\n",
       "    </tr>\n",
       "    <tr>\n",
       "      <td>7</td>\n",
       "      <td>2010-01-13</td>\n",
       "      <td>1137.310059</td>\n",
       "      <td>1145.680054</td>\n",
       "      <td>1145.680054</td>\n",
       "      <td>1148.459961</td>\n",
       "      <td>1147.719971</td>\n",
       "      <td>1136.030029</td>\n",
       "      <td>1136.030029</td>\n",
       "      <td>1136.030029</td>\n",
       "    </tr>\n",
       "    <tr>\n",
       "      <td>8</td>\n",
       "      <td>2010-01-14</td>\n",
       "      <td>1145.680054</td>\n",
       "      <td>1148.459961</td>\n",
       "      <td>1147.719971</td>\n",
       "      <td>1136.030029</td>\n",
       "      <td>1136.030029</td>\n",
       "      <td>1150.229980</td>\n",
       "      <td>1136.030029</td>\n",
       "      <td>1136.030029</td>\n",
       "    </tr>\n",
       "    <tr>\n",
       "      <td>9</td>\n",
       "      <td>2010-01-15</td>\n",
       "      <td>1147.719971</td>\n",
       "      <td>1136.030029</td>\n",
       "      <td>1136.030029</td>\n",
       "      <td>1150.229980</td>\n",
       "      <td>1147.949951</td>\n",
       "      <td>1138.040039</td>\n",
       "      <td>1136.030029</td>\n",
       "      <td>1136.030029</td>\n",
       "    </tr>\n",
       "  </tbody>\n",
       "</table>\n",
       "</div>"
      ],
      "text/plain": [
       "        Date         Open        Close   1 Day Open  1 Day Close   2 Day Open  \\\n",
       "0 2010-01-04  1116.560059  1132.989990  1132.660034  1136.520020  1135.709961   \n",
       "1 2010-01-05  1132.660034  1136.520020  1135.709961  1137.140015  1136.270020   \n",
       "2 2010-01-06  1135.709961  1137.140015  1136.270020  1141.689941  1140.520020   \n",
       "3 2010-01-07  1136.270020  1141.689941  1140.520020  1144.979980  1145.959961   \n",
       "4 2010-01-08  1140.520020  1144.979980  1145.959961  1146.979980  1143.810059   \n",
       "5 2010-01-11  1145.959961  1146.979980  1143.810059  1136.219971  1137.310059   \n",
       "6 2010-01-12  1143.810059  1136.219971  1137.310059  1145.680054  1145.680054   \n",
       "7 2010-01-13  1137.310059  1145.680054  1145.680054  1148.459961  1147.719971   \n",
       "8 2010-01-14  1145.680054  1148.459961  1147.719971  1136.030029  1136.030029   \n",
       "9 2010-01-15  1147.719971  1136.030029  1136.030029  1150.229980  1147.949951   \n",
       "\n",
       "   2 Day Close    EOW Close     SOW Open  \n",
       "0  1137.140015  1144.979980  1145.959961  \n",
       "1  1141.689941  1144.979980  1145.959961  \n",
       "2  1144.979980  1144.979980  1145.959961  \n",
       "3  1146.979980  1144.979980  1145.959961  \n",
       "4  1136.219971  1144.979980  1145.959961  \n",
       "5  1145.680054  1136.030029  1136.030029  \n",
       "6  1148.459961  1136.030029  1136.030029  \n",
       "7  1136.030029  1136.030029  1136.030029  \n",
       "8  1150.229980  1136.030029  1136.030029  \n",
       "9  1138.040039  1136.030029  1136.030029  "
      ]
     },
     "execution_count": 9,
     "metadata": {},
     "output_type": "execute_result"
    }
   ],
   "source": [
    "stocks.head(10)"
   ]
  },
  {
   "cell_type": "markdown",
   "metadata": {},
   "source": [
    "### Search for closest value, round up or down depending..."
   ]
  },
  {
   "cell_type": "code",
   "execution_count": 10,
   "metadata": {},
   "outputs": [],
   "source": [
    "def get_closest_value(arr, target, round_dir):\n",
    "    n = len(arr)\n",
    "    left = 0\n",
    "    right = n - 1\n",
    "    mid = 0\n",
    "\n",
    "    # edge case - last or above all\n",
    "    if target >= arr[n - 1]:\n",
    "        return arr[n - 1]\n",
    "    # edge case - first or below all\n",
    "    if target <= arr[0]:\n",
    "        return arr[0]\n",
    "    # BSearch solution: Time & Space: Log(N)\n",
    "\n",
    "    while left < right:\n",
    "        mid = (left + right) // 2  # find the mid\n",
    "        if target < arr[mid]:\n",
    "            right = mid\n",
    "        elif target > arr[mid]:\n",
    "            left = mid + 1\n",
    "        else:\n",
    "            return arr[mid]\n",
    "\n",
    "    if target < arr[mid]:\n",
    "        return find_closest(arr[mid - 1], arr[mid], target, round_dir)\n",
    "    else:\n",
    "        return find_closest(arr[mid], arr[mid + 1], target, round_dir)\n",
    "\n",
    "\n",
    "# findClosest\n",
    "# We find the closest by taking the difference\n",
    "# between the target and both values. It assumes\n",
    "# that val2 is greater than val1 and target lies\n",
    "# between these two. \n",
    "def find_closest(val1, val2, target, round_dir):\n",
    "    if val1 == target:\n",
    "        return val1\n",
    "    elif val2 == target:\n",
    "        return val2\n",
    "    return min(val1, val2) if round_dir.lower() == \"down\" else max(val1, val2)\n",
    "#     return val2 if target - val1 >= val2 - target else val1"
   ]
  },
  {
   "cell_type": "markdown",
   "metadata": {},
   "source": [
    "### Find stock date/metric directly before/after the tweet was made (this should be the nearest timestep)"
   ]
  },
  {
   "cell_type": "code",
   "execution_count": 11,
   "metadata": {},
   "outputs": [],
   "source": [
    "tweet_dates, stock_dates = trumptweets[\"created_at\"].tolist(), stocks[\"Date\"].tolist()\n",
    "before_dates, before_metrics, after_dates, after_metrics = [], [], [], []\n",
    "for tweet_date in tweet_dates:\n",
    "    if tweet_date.hour < 9:\n",
    "        # Use previous day's close as before price\n",
    "        stock_date = get_closest_value(stock_dates, datetime.combine(tweet_date.date()-timedelta(days=1), datetime.min.time()), \"down\")\n",
    "        before_dates.append(stock_date)\n",
    "        before_metrics.append(\"Close\")\n",
    "        # Use current day's open as after price\n",
    "        after_stock_date = get_closest_value(stock_dates, datetime.combine(tweet_date.date(), datetime.min.time()), \"up\")\n",
    "        after_dates.append(after_stock_date)\n",
    "        after_metrics.append(\"Open\")\n",
    "    elif tweet_date.hour >= 17:\n",
    "        # Use current day's close as before price\n",
    "        stock_date = get_closest_value(stock_dates, datetime.combine(tweet_date.date(), datetime.min.time()), \"down\")\n",
    "        before_dates.append(stock_date)\n",
    "        before_metrics.append(\"Close\")\n",
    "        # Use next day's open as after price\n",
    "        after_stock_date = get_closest_value(stock_dates, datetime.combine(tweet_date.date()+timedelta(days=1), datetime.min.time()), \"up\")\n",
    "        after_dates.append(after_stock_date)\n",
    "        after_metrics.append(\"Open\")\n",
    "    else:\n",
    "        # Use current day's open as before price\n",
    "        stock_date = get_closest_value(stock_dates, datetime.combine(tweet_date.date(), datetime.min.time()), \"down\")\n",
    "        before_dates.append(stock_date)\n",
    "        if stock_date.date() == tweet_date.date():\n",
    "            before_metrics.append(\"Open\")\n",
    "        else:\n",
    "            before_metrics.append(\"Close\")\n",
    "        # Use current day's close as after price\n",
    "        after_stock_date = get_closest_value(stock_dates, datetime.combine(tweet_date.date(), datetime.min.time()), \"up\")\n",
    "        after_dates.append(after_stock_date)\n",
    "        if after_stock_date.date() == tweet_date.date():\n",
    "            after_metrics.append(\"Close\")\n",
    "        else:\n",
    "            after_metrics.append(\"Open\")"
   ]
  },
  {
   "cell_type": "code",
   "execution_count": 12,
   "metadata": {},
   "outputs": [],
   "source": [
    "trumptweets[\"before_date\"] = pd.Series(before_dates)\n",
    "trumptweets[\"before_metric\"] = pd.Series(before_metrics)\n",
    "trumptweets[\"after_date\"] = pd.Series(after_dates)\n",
    "trumptweets[\"after_metric\"] = pd.Series(after_metrics)"
   ]
  },
  {
   "cell_type": "markdown",
   "metadata": {},
   "source": [
    "### We got them all (yeet)"
   ]
  },
  {
   "cell_type": "code",
   "execution_count": 13,
   "metadata": {},
   "outputs": [
    {
     "data": {
      "text/html": [
       "<div>\n",
       "<style scoped>\n",
       "    .dataframe tbody tr th:only-of-type {\n",
       "        vertical-align: middle;\n",
       "    }\n",
       "\n",
       "    .dataframe tbody tr th {\n",
       "        vertical-align: top;\n",
       "    }\n",
       "\n",
       "    .dataframe thead th {\n",
       "        text-align: right;\n",
       "    }\n",
       "</style>\n",
       "<table border=\"1\" class=\"dataframe\">\n",
       "  <thead>\n",
       "    <tr style=\"text-align: right;\">\n",
       "      <th></th>\n",
       "      <th>text</th>\n",
       "      <th>created_at</th>\n",
       "      <th>retweet_count</th>\n",
       "      <th>favorite_count</th>\n",
       "      <th>is_retweet</th>\n",
       "      <th>before_date</th>\n",
       "      <th>before_metric</th>\n",
       "      <th>after_date</th>\n",
       "      <th>after_metric</th>\n",
       "    </tr>\n",
       "  </thead>\n",
       "  <tbody>\n",
       "  </tbody>\n",
       "</table>\n",
       "</div>"
      ],
      "text/plain": [
       "Empty DataFrame\n",
       "Columns: [text, created_at, retweet_count, favorite_count, is_retweet, before_date, before_metric, after_date, after_metric]\n",
       "Index: []"
      ]
     },
     "execution_count": 13,
     "metadata": {},
     "output_type": "execute_result"
    }
   ],
   "source": [
    "trumptweets[trumptweets.isnull().any(axis=1)]"
   ]
  },
  {
   "cell_type": "markdown",
   "metadata": {},
   "source": [
    "### Get price associated with before/after dates and metrics"
   ]
  },
  {
   "cell_type": "code",
   "execution_count": 14,
   "metadata": {},
   "outputs": [],
   "source": [
    "tweet_stock = pd.merge(left=trumptweets,right=stocks[[\"Date\", \"Open\", \"Close\"]], how='left', left_on='before_date', right_on='Date')\n",
    "tweet_stock['before_open'] = np.where(tweet_stock['before_metric'] == \"Open\", 1, 0)\n",
    "tweet_stock['before_close'] = np.where(tweet_stock['before_metric'] == \"Close\", 1, 0)\n",
    "tweet_stock['before_price'] = tweet_stock[\"Open\"] * tweet_stock[\"before_open\"] + tweet_stock[\"Close\"] * tweet_stock['before_close']\n",
    "tweet_stock = tweet_stock.drop(['before_open', 'before_close', \"Open\", \"Close\", \"Date\"], axis=1)"
   ]
  },
  {
   "cell_type": "code",
   "execution_count": 15,
   "metadata": {},
   "outputs": [],
   "source": [
    "tweet_stock = pd.merge(left=tweet_stock, right=stocks, how='left', left_on='after_date', right_on='Date')\n",
    "tweet_stock['after_open'] = np.where(tweet_stock['after_metric'] == \"Open\", 1, 0)\n",
    "tweet_stock['after_close'] = np.where(tweet_stock['after_metric'] == \"Close\", 1, 0)\n",
    "tweet_stock[\"after_price\"] = tweet_stock[\"Open\"] * tweet_stock[\"after_open\"] + tweet_stock[\"Close\"] * tweet_stock['after_close']\n",
    "tweet_stock = tweet_stock.drop(['after_open', 'after_close', \"Open\", \"Close\", \"Date\"], axis=1)"
   ]
  },
  {
   "cell_type": "code",
   "execution_count": 16,
   "metadata": {},
   "outputs": [],
   "source": [
    "tweet_stock = tweet_stock.drop(['before_date', 'before_metric', 'after_date', 'after_metric'], axis=1)"
   ]
  },
  {
   "cell_type": "code",
   "execution_count": 17,
   "metadata": {},
   "outputs": [
    {
     "data": {
      "text/html": [
       "<div>\n",
       "<style scoped>\n",
       "    .dataframe tbody tr th:only-of-type {\n",
       "        vertical-align: middle;\n",
       "    }\n",
       "\n",
       "    .dataframe tbody tr th {\n",
       "        vertical-align: top;\n",
       "    }\n",
       "\n",
       "    .dataframe thead th {\n",
       "        text-align: right;\n",
       "    }\n",
       "</style>\n",
       "<table border=\"1\" class=\"dataframe\">\n",
       "  <thead>\n",
       "    <tr style=\"text-align: right;\">\n",
       "      <th></th>\n",
       "      <th>text</th>\n",
       "      <th>created_at</th>\n",
       "      <th>retweet_count</th>\n",
       "      <th>favorite_count</th>\n",
       "      <th>is_retweet</th>\n",
       "      <th>before_price</th>\n",
       "      <th>1 Day Open</th>\n",
       "      <th>1 Day Close</th>\n",
       "      <th>2 Day Open</th>\n",
       "      <th>2 Day Close</th>\n",
       "      <th>EOW Close</th>\n",
       "      <th>SOW Open</th>\n",
       "      <th>after_price</th>\n",
       "    </tr>\n",
       "  </thead>\n",
       "  <tbody>\n",
       "    <tr>\n",
       "      <td>0</td>\n",
       "      <td>Celebrity Apprentice returns to NBC Sunday 3/1...</td>\n",
       "      <td>2010-01-12 18:05:08</td>\n",
       "      <td>20.0</td>\n",
       "      <td>3</td>\n",
       "      <td>false</td>\n",
       "      <td>1136.219971</td>\n",
       "      <td>1145.680054</td>\n",
       "      <td>1148.459961</td>\n",
       "      <td>1147.719971</td>\n",
       "      <td>1136.030029</td>\n",
       "      <td>1136.030029</td>\n",
       "      <td>1136.030029</td>\n",
       "      <td>1137.310059</td>\n",
       "    </tr>\n",
       "    <tr>\n",
       "      <td>1</td>\n",
       "      <td>Trump Tycoon App for iPhone &amp; iPod Touch - It'...</td>\n",
       "      <td>2010-01-15 16:28:02</td>\n",
       "      <td>23.0</td>\n",
       "      <td>20</td>\n",
       "      <td>false</td>\n",
       "      <td>1147.719971</td>\n",
       "      <td>1136.030029</td>\n",
       "      <td>1150.229980</td>\n",
       "      <td>1147.949951</td>\n",
       "      <td>1138.040039</td>\n",
       "      <td>1136.030029</td>\n",
       "      <td>1136.030029</td>\n",
       "      <td>1136.030029</td>\n",
       "    </tr>\n",
       "    <tr>\n",
       "      <td>2</td>\n",
       "      <td>from Donald Trump: \"I saw Lady Gaga last night...</td>\n",
       "      <td>2010-01-21 16:58:43</td>\n",
       "      <td>3813.0</td>\n",
       "      <td>3223</td>\n",
       "      <td>false</td>\n",
       "      <td>1138.680054</td>\n",
       "      <td>1115.489990</td>\n",
       "      <td>1091.760010</td>\n",
       "      <td>1092.400024</td>\n",
       "      <td>1096.780029</td>\n",
       "      <td>1091.760010</td>\n",
       "      <td>1092.400024</td>\n",
       "      <td>1116.479980</td>\n",
       "    </tr>\n",
       "    <tr>\n",
       "      <td>3</td>\n",
       "      <td>Golf Channel &amp; Donald Trump's World of Golf ho...</td>\n",
       "      <td>2010-01-22 20:51:00</td>\n",
       "      <td>12.0</td>\n",
       "      <td>1</td>\n",
       "      <td>false</td>\n",
       "      <td>1091.760010</td>\n",
       "      <td>1095.800049</td>\n",
       "      <td>1092.170044</td>\n",
       "      <td>1091.939941</td>\n",
       "      <td>1097.500000</td>\n",
       "      <td>1073.869995</td>\n",
       "      <td>1073.890015</td>\n",
       "      <td>1092.400024</td>\n",
       "    </tr>\n",
       "    <tr>\n",
       "      <td>4</td>\n",
       "      <td>Superbowl Sunday is a great American tradition...</td>\n",
       "      <td>2010-02-07 16:54:42</td>\n",
       "      <td>16.0</td>\n",
       "      <td>3</td>\n",
       "      <td>false</td>\n",
       "      <td>1066.189941</td>\n",
       "      <td>1060.060059</td>\n",
       "      <td>1070.520020</td>\n",
       "      <td>1069.680054</td>\n",
       "      <td>1068.130005</td>\n",
       "      <td>1075.510010</td>\n",
       "      <td>1079.130005</td>\n",
       "      <td>1065.510010</td>\n",
       "    </tr>\n",
       "    <tr>\n",
       "      <td>...</td>\n",
       "      <td>...</td>\n",
       "      <td>...</td>\n",
       "      <td>...</td>\n",
       "      <td>...</td>\n",
       "      <td>...</td>\n",
       "      <td>...</td>\n",
       "      <td>...</td>\n",
       "      <td>...</td>\n",
       "      <td>...</td>\n",
       "      <td>...</td>\n",
       "      <td>...</td>\n",
       "      <td>...</td>\n",
       "      <td>...</td>\n",
       "    </tr>\n",
       "    <tr>\n",
       "      <td>39035</td>\n",
       "      <td>https://t.co/yJ0VKdNxHP</td>\n",
       "      <td>2019-10-27 14:31:33</td>\n",
       "      <td>22275.0</td>\n",
       "      <td>76549</td>\n",
       "      <td>false</td>\n",
       "      <td>3022.550049</td>\n",
       "      <td>3035.389893</td>\n",
       "      <td>3036.889893</td>\n",
       "      <td>3039.739990</td>\n",
       "      <td>3046.770020</td>\n",
       "      <td>3066.909912</td>\n",
       "      <td>3078.959961</td>\n",
       "      <td>3032.120117</td>\n",
       "    </tr>\n",
       "    <tr>\n",
       "      <td>39036</td>\n",
       "      <td>https://t.co/7esnNSoa5D</td>\n",
       "      <td>2019-10-27 16:25:12</td>\n",
       "      <td>25546.0</td>\n",
       "      <td>108756</td>\n",
       "      <td>false</td>\n",
       "      <td>3022.550049</td>\n",
       "      <td>3035.389893</td>\n",
       "      <td>3036.889893</td>\n",
       "      <td>3039.739990</td>\n",
       "      <td>3046.770020</td>\n",
       "      <td>3066.909912</td>\n",
       "      <td>3078.959961</td>\n",
       "      <td>3032.120117</td>\n",
       "    </tr>\n",
       "    <tr>\n",
       "      <td>39037</td>\n",
       "      <td>RT @WhiteHouse: Thank you to the service membe...</td>\n",
       "      <td>2019-10-27 16:49:45</td>\n",
       "      <td>11357.0</td>\n",
       "      <td>0</td>\n",
       "      <td>true</td>\n",
       "      <td>3022.550049</td>\n",
       "      <td>3035.389893</td>\n",
       "      <td>3036.889893</td>\n",
       "      <td>3039.739990</td>\n",
       "      <td>3046.770020</td>\n",
       "      <td>3066.909912</td>\n",
       "      <td>3078.959961</td>\n",
       "      <td>3032.120117</td>\n",
       "    </tr>\n",
       "    <tr>\n",
       "      <td>39038</td>\n",
       "      <td>RT @StateDept: Last night the United States br...</td>\n",
       "      <td>2019-10-27 16:50:08</td>\n",
       "      <td>16384.0</td>\n",
       "      <td>0</td>\n",
       "      <td>true</td>\n",
       "      <td>3022.550049</td>\n",
       "      <td>3035.389893</td>\n",
       "      <td>3036.889893</td>\n",
       "      <td>3039.739990</td>\n",
       "      <td>3046.770020</td>\n",
       "      <td>3066.909912</td>\n",
       "      <td>3078.959961</td>\n",
       "      <td>3032.120117</td>\n",
       "    </tr>\n",
       "    <tr>\n",
       "      <td>39039</td>\n",
       "      <td>Thank you to @MarthaRaddatz and @TerryMoran fo...</td>\n",
       "      <td>2019-10-27 21:24:55</td>\n",
       "      <td>11176.0</td>\n",
       "      <td>41087</td>\n",
       "      <td>false</td>\n",
       "      <td>3022.550049</td>\n",
       "      <td>3035.389893</td>\n",
       "      <td>3036.889893</td>\n",
       "      <td>3039.739990</td>\n",
       "      <td>3046.770020</td>\n",
       "      <td>3066.909912</td>\n",
       "      <td>3078.959961</td>\n",
       "      <td>3032.120117</td>\n",
       "    </tr>\n",
       "  </tbody>\n",
       "</table>\n",
       "<p>39040 rows × 13 columns</p>\n",
       "</div>"
      ],
      "text/plain": [
       "                                                    text          created_at  \\\n",
       "0      Celebrity Apprentice returns to NBC Sunday 3/1... 2010-01-12 18:05:08   \n",
       "1      Trump Tycoon App for iPhone & iPod Touch - It'... 2010-01-15 16:28:02   \n",
       "2      from Donald Trump: \"I saw Lady Gaga last night... 2010-01-21 16:58:43   \n",
       "3      Golf Channel & Donald Trump's World of Golf ho... 2010-01-22 20:51:00   \n",
       "4      Superbowl Sunday is a great American tradition... 2010-02-07 16:54:42   \n",
       "...                                                  ...                 ...   \n",
       "39035                            https://t.co/yJ0VKdNxHP 2019-10-27 14:31:33   \n",
       "39036                            https://t.co/7esnNSoa5D 2019-10-27 16:25:12   \n",
       "39037  RT @WhiteHouse: Thank you to the service membe... 2019-10-27 16:49:45   \n",
       "39038  RT @StateDept: Last night the United States br... 2019-10-27 16:50:08   \n",
       "39039  Thank you to @MarthaRaddatz and @TerryMoran fo... 2019-10-27 21:24:55   \n",
       "\n",
       "       retweet_count favorite_count is_retweet  before_price   1 Day Open  \\\n",
       "0               20.0              3      false   1136.219971  1145.680054   \n",
       "1               23.0             20      false   1147.719971  1136.030029   \n",
       "2             3813.0           3223      false   1138.680054  1115.489990   \n",
       "3               12.0              1      false   1091.760010  1095.800049   \n",
       "4               16.0              3      false   1066.189941  1060.060059   \n",
       "...              ...            ...        ...           ...          ...   \n",
       "39035        22275.0          76549      false   3022.550049  3035.389893   \n",
       "39036        25546.0         108756      false   3022.550049  3035.389893   \n",
       "39037        11357.0              0       true   3022.550049  3035.389893   \n",
       "39038        16384.0              0       true   3022.550049  3035.389893   \n",
       "39039        11176.0          41087      false   3022.550049  3035.389893   \n",
       "\n",
       "       1 Day Close   2 Day Open  2 Day Close    EOW Close     SOW Open  \\\n",
       "0      1148.459961  1147.719971  1136.030029  1136.030029  1136.030029   \n",
       "1      1150.229980  1147.949951  1138.040039  1136.030029  1136.030029   \n",
       "2      1091.760010  1092.400024  1096.780029  1091.760010  1092.400024   \n",
       "3      1092.170044  1091.939941  1097.500000  1073.869995  1073.890015   \n",
       "4      1070.520020  1069.680054  1068.130005  1075.510010  1079.130005   \n",
       "...            ...          ...          ...          ...          ...   \n",
       "39035  3036.889893  3039.739990  3046.770020  3066.909912  3078.959961   \n",
       "39036  3036.889893  3039.739990  3046.770020  3066.909912  3078.959961   \n",
       "39037  3036.889893  3039.739990  3046.770020  3066.909912  3078.959961   \n",
       "39038  3036.889893  3039.739990  3046.770020  3066.909912  3078.959961   \n",
       "39039  3036.889893  3039.739990  3046.770020  3066.909912  3078.959961   \n",
       "\n",
       "       after_price  \n",
       "0      1137.310059  \n",
       "1      1136.030029  \n",
       "2      1116.479980  \n",
       "3      1092.400024  \n",
       "4      1065.510010  \n",
       "...            ...  \n",
       "39035  3032.120117  \n",
       "39036  3032.120117  \n",
       "39037  3032.120117  \n",
       "39038  3032.120117  \n",
       "39039  3032.120117  \n",
       "\n",
       "[39040 rows x 13 columns]"
      ]
     },
     "execution_count": 17,
     "metadata": {},
     "output_type": "execute_result"
    }
   ],
   "source": [
    "tweet_stock"
   ]
  },
  {
   "cell_type": "markdown",
   "metadata": {},
   "source": [
    "### Now we need to change these to outputs - Up/No change = 1, Down = 0"
   ]
  },
  {
   "cell_type": "code",
   "execution_count": 18,
   "metadata": {},
   "outputs": [],
   "source": [
    "tweet_stock[\"after_dir\"] = np.where(tweet_stock['after_price'] - tweet_stock[\"before_price\"] > 0, 1, 0)"
   ]
  },
  {
   "cell_type": "code",
   "execution_count": 19,
   "metadata": {},
   "outputs": [],
   "source": [
    "tweet_stock[\"1_open_dir\"] = np.where(tweet_stock[\"1 Day Open\"] - tweet_stock[\"before_price\"] > 0, 1, 0)\n",
    "tweet_stock[\"1_close_dir\"] = np.where(tweet_stock[\"1 Day Close\"] - tweet_stock[\"before_price\"] > 0, 1, 0)\n",
    "tweet_stock[\"2_open_dir\"] = np.where(tweet_stock[\"2 Day Open\"] - tweet_stock[\"before_price\"] > 0, 1, 0)\n",
    "tweet_stock[\"2_close_dir\"] = np.where(tweet_stock[\"2 Day Close\"] - tweet_stock[\"before_price\"] > 0, 1, 0)\n",
    "tweet_stock[\"eow_close_dir\"] = np.where(tweet_stock[\"EOW Close\"] - tweet_stock[\"before_price\"] > 0, 1, 0)\n",
    "tweet_stock[\"sow_open_dir\"] = np.where(tweet_stock[\"SOW Open\"] - tweet_stock[\"before_price\"] > 0, 1, 0)"
   ]
  },
  {
   "cell_type": "code",
   "execution_count": 20,
   "metadata": {},
   "outputs": [
    {
     "data": {
      "text/plain": [
       "{0, 1}"
      ]
     },
     "execution_count": 20,
     "metadata": {},
     "output_type": "execute_result"
    }
   ],
   "source": [
    "set(tweet_stock['after_dir'].tolist())"
   ]
  },
  {
   "cell_type": "markdown",
   "metadata": {},
   "source": [
    "## We only care if the change is significant - let's take a look at after_price - before_price here only!!!!!"
   ]
  },
  {
   "cell_type": "code",
   "execution_count": 21,
   "metadata": {},
   "outputs": [
    {
     "name": "stdout",
     "output_type": "stream",
     "text": [
      "avg drop:  5.7550944555856445 sd_drop:  9.616544089711576\n",
      "avg inc:  5.702514808508466 sd_inc:  7.186161278596358\n"
     ]
    }
   ],
   "source": [
    "stock_drops = tweet_stock[tweet_stock['after_dir'] == 0]\n",
    "average_drop = np.mean(np.abs(stock_drops['after_price'] - stock_drops['before_price']))\n",
    "sd_drop = np.std(np.abs(stock_drops['after_price'] - stock_drops['before_price']))\n",
    "print(\"avg drop: \", average_drop, \"sd_drop: \", sd_drop)\n",
    "stock_incs = tweet_stock[tweet_stock['after_dir'] == 1]\n",
    "average_inc = np.mean(np.abs(stock_incs['after_price'] - stock_incs['before_price']))\n",
    "sd_inc = np.std(np.abs(stock_incs['after_price'] - stock_incs['before_price']))\n",
    "print(\"avg inc: \", average_inc, \"sd_inc: \", sd_inc)"
   ]
  },
  {
   "cell_type": "code",
   "execution_count": 22,
   "metadata": {},
   "outputs": [],
   "source": [
    "# tweet_stock['is_significant'] = tweet_stock[((tweet_stock['after_dir'] == 0) & (tweet_stock['after_price'] - tweet_stock['before_price'] < -1*(average_drop+0.5*sd_drop)))]\n",
    "#                                             | ((tweet_stock['after_dir'] == 1) & (tweet_stock['after_price'] - tweet_stock['before_price'] > (average_inc+0.5*sd_inc))))]"
   ]
  },
  {
   "cell_type": "code",
   "execution_count": 23,
   "metadata": {},
   "outputs": [],
   "source": [
    "percent_sd = 0.01\n",
    "tweet_stock['sig_up'] = np.where(((tweet_stock['after_dir'] == 1) & (tweet_stock['after_price'] - tweet_stock['before_price'] > (average_inc+percent_sd*sd_inc))), 1, 0)\n",
    "tweet_stock['sig_down'] = np.where(((tweet_stock['after_dir'] == 0) & (tweet_stock['after_price'] - tweet_stock['before_price'] < -1*(average_drop+percent_sd*sd_drop))), 1, 0)\n",
    "tweet_stock['is_sig'] = tweet_stock['sig_up'] + tweet_stock['sig_down']"
   ]
  },
  {
   "cell_type": "code",
   "execution_count": 24,
   "metadata": {},
   "outputs": [
    {
     "data": {
      "text/plain": [
       "{0, 1}"
      ]
     },
     "execution_count": 24,
     "metadata": {},
     "output_type": "execute_result"
    }
   ],
   "source": [
    "set(tweet_stock['after_dir'].tolist())"
   ]
  },
  {
   "cell_type": "code",
   "execution_count": 25,
   "metadata": {},
   "outputs": [
    {
     "data": {
      "text/plain": [
       "{0, 1}"
      ]
     },
     "execution_count": 25,
     "metadata": {},
     "output_type": "execute_result"
    }
   ],
   "source": [
    "from collections import Counter\n",
    "set(tweet_stock['sig_down'].tolist())"
   ]
  },
  {
   "cell_type": "code",
   "execution_count": 26,
   "metadata": {},
   "outputs": [
    {
     "data": {
      "text/plain": [
       "Counter({0: 33685, 1: 5355})"
      ]
     },
     "execution_count": 26,
     "metadata": {},
     "output_type": "execute_result"
    }
   ],
   "source": [
    "Counter(tweet_stock['sig_down'].tolist())"
   ]
  },
  {
   "cell_type": "code",
   "execution_count": 27,
   "metadata": {},
   "outputs": [
    {
     "data": {
      "text/plain": [
       "Counter({0: 32863, 1: 6177})"
      ]
     },
     "execution_count": 27,
     "metadata": {},
     "output_type": "execute_result"
    }
   ],
   "source": [
    "Counter(tweet_stock['sig_up'].tolist())"
   ]
  },
  {
   "cell_type": "code",
   "execution_count": 28,
   "metadata": {},
   "outputs": [
    {
     "data": {
      "text/plain": [
       "Counter({0: 27508, 1: 11532})"
      ]
     },
     "execution_count": 28,
     "metadata": {},
     "output_type": "execute_result"
    }
   ],
   "source": [
    "Counter(tweet_stock['is_sig'].tolist())"
   ]
  },
  {
   "cell_type": "code",
   "execution_count": 29,
   "metadata": {},
   "outputs": [
    {
     "data": {
      "text/html": [
       "<div>\n",
       "<style scoped>\n",
       "    .dataframe tbody tr th:only-of-type {\n",
       "        vertical-align: middle;\n",
       "    }\n",
       "\n",
       "    .dataframe tbody tr th {\n",
       "        vertical-align: top;\n",
       "    }\n",
       "\n",
       "    .dataframe thead th {\n",
       "        text-align: right;\n",
       "    }\n",
       "</style>\n",
       "<table border=\"1\" class=\"dataframe\">\n",
       "  <thead>\n",
       "    <tr style=\"text-align: right;\">\n",
       "      <th></th>\n",
       "      <th>text</th>\n",
       "      <th>created_at</th>\n",
       "      <th>retweet_count</th>\n",
       "      <th>favorite_count</th>\n",
       "      <th>is_retweet</th>\n",
       "      <th>before_price</th>\n",
       "      <th>1 Day Open</th>\n",
       "      <th>1 Day Close</th>\n",
       "      <th>2 Day Open</th>\n",
       "      <th>2 Day Close</th>\n",
       "      <th>...</th>\n",
       "      <th>after_dir</th>\n",
       "      <th>1_open_dir</th>\n",
       "      <th>1_close_dir</th>\n",
       "      <th>2_open_dir</th>\n",
       "      <th>2_close_dir</th>\n",
       "      <th>eow_close_dir</th>\n",
       "      <th>sow_open_dir</th>\n",
       "      <th>sig_up</th>\n",
       "      <th>sig_down</th>\n",
       "      <th>is_sig</th>\n",
       "    </tr>\n",
       "  </thead>\n",
       "  <tbody>\n",
       "  </tbody>\n",
       "</table>\n",
       "<p>0 rows × 23 columns</p>\n",
       "</div>"
      ],
      "text/plain": [
       "Empty DataFrame\n",
       "Columns: [text, created_at, retweet_count, favorite_count, is_retweet, before_price, 1 Day Open, 1 Day Close, 2 Day Open, 2 Day Close, EOW Close, SOW Open, after_price, after_dir, 1_open_dir, 1_close_dir, 2_open_dir, 2_close_dir, eow_close_dir, sow_open_dir, sig_up, sig_down, is_sig]\n",
       "Index: []\n",
       "\n",
       "[0 rows x 23 columns]"
      ]
     },
     "execution_count": 29,
     "metadata": {},
     "output_type": "execute_result"
    }
   ],
   "source": [
    "tweet_stock[tweet_stock.is_sig == 2].head(10)"
   ]
  },
  {
   "cell_type": "code",
   "execution_count": 30,
   "metadata": {},
   "outputs": [
    {
     "data": {
      "text/plain": [
       "39040"
      ]
     },
     "execution_count": 30,
     "metadata": {},
     "output_type": "execute_result"
    }
   ],
   "source": [
    "len(tweet_stock.index)"
   ]
  },
  {
   "cell_type": "code",
   "execution_count": 31,
   "metadata": {},
   "outputs": [
    {
     "data": {
      "text/plain": [
       "11532"
      ]
     },
     "execution_count": 31,
     "metadata": {},
     "output_type": "execute_result"
    }
   ],
   "source": [
    "len(tweet_stock[tweet_stock['is_sig'] == 1].index)"
   ]
  },
  {
   "cell_type": "code",
   "execution_count": 32,
   "metadata": {},
   "outputs": [],
   "source": [
    "tweet_stock = tweet_stock[tweet_stock['is_sig'] == 1]"
   ]
  },
  {
   "cell_type": "code",
   "execution_count": 33,
   "metadata": {},
   "outputs": [],
   "source": [
    "tweet_stock = tweet_stock.drop([\"before_price\", \"1 Day Open\", \"1 Day Close\", \"2 Day Open\", \"2 Day Close\", \"EOW Close\", \"SOW Open\", \"after_price\"], axis=1)"
   ]
  },
  {
   "cell_type": "markdown",
   "metadata": {},
   "source": [
    "## Easy Text preprocessing\n",
    "- Convert to lower case\n",
    "- Convert links to <link>\n",
    "- Remove excess spaces/newlines"
   ]
  },
  {
   "cell_type": "code",
   "execution_count": 34,
   "metadata": {},
   "outputs": [],
   "source": [
    "from data_science_toolkit.string_ops import remove_newlines, remove_excess_spaces, normalize_links, lower, custom_replace, html_to_unicode, unicode_to_html\n",
    "from data_science_toolkit.utils import parallel_compute\n",
    "import nltk"
   ]
  },
  {
   "cell_type": "code",
   "execution_count": 35,
   "metadata": {},
   "outputs": [],
   "source": [
    "def preprocess_tweet(tweet):\n",
    "    tweet = normalize_links(remove_newlines(html_to_unicode(tweet)), 'msciurl')\n",
    "#     , re.compile(r\"['\\\"]\"), re.compile(r\"\\.\\.\\.\")\n",
    "    # NLTK by default turns mentions into @ <tag>.  Makes for easier analysis this stops the mentions from being separated, and allows them to be used in the clustering and stuff later...\n",
    "    tweet = custom_replace(tweet,\n",
    "                          [re.compile('RT'), re.compile(r\"@(?=\\S)\"), re.compile(r\"#(?=\\S)\")],\n",
    "                          [' ', 'twitmention', 'twithashtag'])\n",
    "    tweet = ' '.join([word for sent in nltk.sent_tokenize(tweet) for word in nltk.word_tokenize(sent)])\n",
    "    return lower(remove_excess_spaces(tweet))"
   ]
  },
  {
   "cell_type": "code",
   "execution_count": 36,
   "metadata": {},
   "outputs": [
    {
     "name": "stderr",
     "output_type": "stream",
     "text": [
      "100%|██████████| 11532/11532 [00:00<00:00, 35857.58it/s]\n"
     ]
    }
   ],
   "source": [
    "tweets = tweet_stock[\"text\"].tolist()\n",
    "processed_tweets = parallel_compute(tweets, preprocess_tweet)"
   ]
  },
  {
   "cell_type": "code",
   "execution_count": 37,
   "metadata": {},
   "outputs": [],
   "source": [
    "tweet_stock['preprocessed_text'] = processed_tweets"
   ]
  },
  {
   "cell_type": "markdown",
   "metadata": {},
   "source": [
    "## Add Other Columns for Analysis"
   ]
  },
  {
   "cell_type": "code",
   "execution_count": 38,
   "metadata": {},
   "outputs": [],
   "source": [
    "tweet_stock[\"created_hour\"] = tweet_stock[\"created_at\"].apply(lambda x: x.hour)"
   ]
  },
  {
   "cell_type": "code",
   "execution_count": 39,
   "metadata": {},
   "outputs": [],
   "source": [
    "tweet_stock['dow'] = tweet_stock['created_at'].dt.dayofweek"
   ]
  },
  {
   "cell_type": "code",
   "execution_count": 40,
   "metadata": {},
   "outputs": [
    {
     "data": {
      "text/plain": [
       "11532"
      ]
     },
     "execution_count": 40,
     "metadata": {},
     "output_type": "execute_result"
    }
   ],
   "source": [
    "len(tweet_stock.index)"
   ]
  },
  {
   "cell_type": "code",
   "execution_count": 41,
   "metadata": {},
   "outputs": [],
   "source": [
    "tweet_stock['is_retweet'] = (tweet_stock['is_retweet'] == 'true').astype(bool)"
   ]
  },
  {
   "cell_type": "code",
   "execution_count": 42,
   "metadata": {},
   "outputs": [],
   "source": [
    "tweet_stock = tweet_stock[tweet_stock['is_retweet'] == False]"
   ]
  },
  {
   "cell_type": "code",
   "execution_count": 43,
   "metadata": {},
   "outputs": [
    {
     "data": {
      "text/plain": [
       "9924"
      ]
     },
     "execution_count": 43,
     "metadata": {},
     "output_type": "execute_result"
    }
   ],
   "source": [
    "len(tweet_stock.index)"
   ]
  },
  {
   "cell_type": "code",
   "execution_count": 44,
   "metadata": {},
   "outputs": [
    {
     "data": {
      "text/html": [
       "<div>\n",
       "<style scoped>\n",
       "    .dataframe tbody tr th:only-of-type {\n",
       "        vertical-align: middle;\n",
       "    }\n",
       "\n",
       "    .dataframe tbody tr th {\n",
       "        vertical-align: top;\n",
       "    }\n",
       "\n",
       "    .dataframe thead th {\n",
       "        text-align: right;\n",
       "    }\n",
       "</style>\n",
       "<table border=\"1\" class=\"dataframe\">\n",
       "  <thead>\n",
       "    <tr style=\"text-align: right;\">\n",
       "      <th></th>\n",
       "      <th>text</th>\n",
       "      <th>created_at</th>\n",
       "      <th>retweet_count</th>\n",
       "      <th>favorite_count</th>\n",
       "      <th>is_retweet</th>\n",
       "      <th>after_dir</th>\n",
       "      <th>1_open_dir</th>\n",
       "      <th>1_close_dir</th>\n",
       "      <th>2_open_dir</th>\n",
       "      <th>2_close_dir</th>\n",
       "      <th>eow_close_dir</th>\n",
       "      <th>sow_open_dir</th>\n",
       "      <th>sig_up</th>\n",
       "      <th>sig_down</th>\n",
       "      <th>is_sig</th>\n",
       "      <th>preprocessed_text</th>\n",
       "      <th>created_hour</th>\n",
       "      <th>dow</th>\n",
       "    </tr>\n",
       "  </thead>\n",
       "  <tbody>\n",
       "    <tr>\n",
       "      <td>1</td>\n",
       "      <td>Trump Tycoon App for iPhone &amp; iPod Touch - It'...</td>\n",
       "      <td>2010-01-15 16:28:02</td>\n",
       "      <td>23.0</td>\n",
       "      <td>20</td>\n",
       "      <td>False</td>\n",
       "      <td>0</td>\n",
       "      <td>0</td>\n",
       "      <td>1</td>\n",
       "      <td>1</td>\n",
       "      <td>0</td>\n",
       "      <td>0</td>\n",
       "      <td>0</td>\n",
       "      <td>0</td>\n",
       "      <td>1</td>\n",
       "      <td>1</td>\n",
       "      <td>trump tycoon app for iphone &amp; ipod touch - it ...</td>\n",
       "      <td>16</td>\n",
       "      <td>4</td>\n",
       "    </tr>\n",
       "    <tr>\n",
       "      <td>2</td>\n",
       "      <td>from Donald Trump: \"I saw Lady Gaga last night...</td>\n",
       "      <td>2010-01-21 16:58:43</td>\n",
       "      <td>3813.0</td>\n",
       "      <td>3223</td>\n",
       "      <td>False</td>\n",
       "      <td>0</td>\n",
       "      <td>0</td>\n",
       "      <td>0</td>\n",
       "      <td>0</td>\n",
       "      <td>0</td>\n",
       "      <td>0</td>\n",
       "      <td>0</td>\n",
       "      <td>0</td>\n",
       "      <td>1</td>\n",
       "      <td>1</td>\n",
       "      <td>from donald trump : `` i saw lady gaga last ni...</td>\n",
       "      <td>16</td>\n",
       "      <td>3</td>\n",
       "    </tr>\n",
       "    <tr>\n",
       "      <td>8</td>\n",
       "      <td>From Donald Trump: Andrea Bocelli @ Mar-a-Lago...</td>\n",
       "      <td>2010-03-05 14:51:32</td>\n",
       "      <td>7.0</td>\n",
       "      <td>6</td>\n",
       "      <td>False</td>\n",
       "      <td>1</td>\n",
       "      <td>1</td>\n",
       "      <td>1</td>\n",
       "      <td>1</td>\n",
       "      <td>1</td>\n",
       "      <td>1</td>\n",
       "      <td>1</td>\n",
       "      <td>1</td>\n",
       "      <td>0</td>\n",
       "      <td>1</td>\n",
       "      <td>from donald trump : andrea bocelli @ mar-a-lag...</td>\n",
       "      <td>14</td>\n",
       "      <td>4</td>\n",
       "    </tr>\n",
       "    <tr>\n",
       "      <td>11</td>\n",
       "      <td>Olympic Gold  Medalist Evan Lysacek just left ...</td>\n",
       "      <td>2010-03-17 15:14:13</td>\n",
       "      <td>13.0</td>\n",
       "      <td>7</td>\n",
       "      <td>False</td>\n",
       "      <td>1</td>\n",
       "      <td>1</td>\n",
       "      <td>1</td>\n",
       "      <td>1</td>\n",
       "      <td>0</td>\n",
       "      <td>0</td>\n",
       "      <td>0</td>\n",
       "      <td>1</td>\n",
       "      <td>0</td>\n",
       "      <td>1</td>\n",
       "      <td>olympic gold medalist evan lysacek just left m...</td>\n",
       "      <td>15</td>\n",
       "      <td>2</td>\n",
       "    </tr>\n",
       "    <tr>\n",
       "      <td>13</td>\n",
       "      <td>Last week's episode of the Celebrity Apprentic...</td>\n",
       "      <td>2010-03-19 14:08:33</td>\n",
       "      <td>9.0</td>\n",
       "      <td>2</td>\n",
       "      <td>False</td>\n",
       "      <td>0</td>\n",
       "      <td>0</td>\n",
       "      <td>0</td>\n",
       "      <td>0</td>\n",
       "      <td>1</td>\n",
       "      <td>0</td>\n",
       "      <td>0</td>\n",
       "      <td>0</td>\n",
       "      <td>1</td>\n",
       "      <td>1</td>\n",
       "      <td>last week 's episode of the celebrity apprenti...</td>\n",
       "      <td>14</td>\n",
       "      <td>4</td>\n",
       "    </tr>\n",
       "    <tr>\n",
       "      <td>14</td>\n",
       "      <td>The Trump Hotel Collection is currently nomina...</td>\n",
       "      <td>2010-03-23 16:26:23</td>\n",
       "      <td>13.0</td>\n",
       "      <td>5</td>\n",
       "      <td>False</td>\n",
       "      <td>1</td>\n",
       "      <td>1</td>\n",
       "      <td>1</td>\n",
       "      <td>1</td>\n",
       "      <td>0</td>\n",
       "      <td>1</td>\n",
       "      <td>1</td>\n",
       "      <td>1</td>\n",
       "      <td>0</td>\n",
       "      <td>1</td>\n",
       "      <td>the trump hotel collection is currently nomina...</td>\n",
       "      <td>16</td>\n",
       "      <td>1</td>\n",
       "    </tr>\n",
       "    <tr>\n",
       "      <td>23</td>\n",
       "      <td>This is a terrific day for downtown New York. ...</td>\n",
       "      <td>2010-04-09 16:36:36</td>\n",
       "      <td>10.0</td>\n",
       "      <td>5</td>\n",
       "      <td>False</td>\n",
       "      <td>1</td>\n",
       "      <td>1</td>\n",
       "      <td>1</td>\n",
       "      <td>1</td>\n",
       "      <td>1</td>\n",
       "      <td>1</td>\n",
       "      <td>1</td>\n",
       "      <td>1</td>\n",
       "      <td>0</td>\n",
       "      <td>1</td>\n",
       "      <td>this is a terrific day for downtown new york ....</td>\n",
       "      <td>16</td>\n",
       "      <td>4</td>\n",
       "    </tr>\n",
       "    <tr>\n",
       "      <td>27</td>\n",
       "      <td>On Sunday Jerome Bettis 'the bus' from the Pit...</td>\n",
       "      <td>2010-04-16 15:55:06</td>\n",
       "      <td>8.0</td>\n",
       "      <td>3</td>\n",
       "      <td>False</td>\n",
       "      <td>0</td>\n",
       "      <td>0</td>\n",
       "      <td>0</td>\n",
       "      <td>0</td>\n",
       "      <td>0</td>\n",
       "      <td>0</td>\n",
       "      <td>0</td>\n",
       "      <td>0</td>\n",
       "      <td>1</td>\n",
       "      <td>1</td>\n",
       "      <td>on sunday jerome bettis 'the bus ' from the pi...</td>\n",
       "      <td>15</td>\n",
       "      <td>4</td>\n",
       "    </tr>\n",
       "    <tr>\n",
       "      <td>30</td>\n",
       "      <td>Melania and I will be appearing on The View to...</td>\n",
       "      <td>2010-04-22 14:31:53</td>\n",
       "      <td>19.0</td>\n",
       "      <td>5</td>\n",
       "      <td>False</td>\n",
       "      <td>1</td>\n",
       "      <td>1</td>\n",
       "      <td>1</td>\n",
       "      <td>1</td>\n",
       "      <td>1</td>\n",
       "      <td>1</td>\n",
       "      <td>1</td>\n",
       "      <td>1</td>\n",
       "      <td>0</td>\n",
       "      <td>1</td>\n",
       "      <td>melania and i will be appearing on the view to...</td>\n",
       "      <td>14</td>\n",
       "      <td>3</td>\n",
       "    </tr>\n",
       "    <tr>\n",
       "      <td>31</td>\n",
       "      <td>To put on your calendar for May: Miss USA 2010...</td>\n",
       "      <td>2010-04-23 15:22:08</td>\n",
       "      <td>25.0</td>\n",
       "      <td>3</td>\n",
       "      <td>False</td>\n",
       "      <td>1</td>\n",
       "      <td>1</td>\n",
       "      <td>1</td>\n",
       "      <td>1</td>\n",
       "      <td>0</td>\n",
       "      <td>1</td>\n",
       "      <td>1</td>\n",
       "      <td>1</td>\n",
       "      <td>0</td>\n",
       "      <td>1</td>\n",
       "      <td>to put on your calendar for may : miss usa 201...</td>\n",
       "      <td>15</td>\n",
       "      <td>4</td>\n",
       "    </tr>\n",
       "  </tbody>\n",
       "</table>\n",
       "</div>"
      ],
      "text/plain": [
       "                                                 text          created_at  \\\n",
       "1   Trump Tycoon App for iPhone & iPod Touch - It'... 2010-01-15 16:28:02   \n",
       "2   from Donald Trump: \"I saw Lady Gaga last night... 2010-01-21 16:58:43   \n",
       "8   From Donald Trump: Andrea Bocelli @ Mar-a-Lago... 2010-03-05 14:51:32   \n",
       "11  Olympic Gold  Medalist Evan Lysacek just left ... 2010-03-17 15:14:13   \n",
       "13  Last week's episode of the Celebrity Apprentic... 2010-03-19 14:08:33   \n",
       "14  The Trump Hotel Collection is currently nomina... 2010-03-23 16:26:23   \n",
       "23  This is a terrific day for downtown New York. ... 2010-04-09 16:36:36   \n",
       "27  On Sunday Jerome Bettis 'the bus' from the Pit... 2010-04-16 15:55:06   \n",
       "30  Melania and I will be appearing on The View to... 2010-04-22 14:31:53   \n",
       "31  To put on your calendar for May: Miss USA 2010... 2010-04-23 15:22:08   \n",
       "\n",
       "    retweet_count favorite_count  is_retweet  after_dir  1_open_dir  \\\n",
       "1            23.0             20       False          0           0   \n",
       "2          3813.0           3223       False          0           0   \n",
       "8             7.0              6       False          1           1   \n",
       "11           13.0              7       False          1           1   \n",
       "13            9.0              2       False          0           0   \n",
       "14           13.0              5       False          1           1   \n",
       "23           10.0              5       False          1           1   \n",
       "27            8.0              3       False          0           0   \n",
       "30           19.0              5       False          1           1   \n",
       "31           25.0              3       False          1           1   \n",
       "\n",
       "    1_close_dir  2_open_dir  2_close_dir  eow_close_dir  sow_open_dir  sig_up  \\\n",
       "1             1           1            0              0             0       0   \n",
       "2             0           0            0              0             0       0   \n",
       "8             1           1            1              1             1       1   \n",
       "11            1           1            0              0             0       1   \n",
       "13            0           0            1              0             0       0   \n",
       "14            1           1            0              1             1       1   \n",
       "23            1           1            1              1             1       1   \n",
       "27            0           0            0              0             0       0   \n",
       "30            1           1            1              1             1       1   \n",
       "31            1           1            0              1             1       1   \n",
       "\n",
       "    sig_down  is_sig                                  preprocessed_text  \\\n",
       "1          1       1  trump tycoon app for iphone & ipod touch - it ...   \n",
       "2          1       1  from donald trump : `` i saw lady gaga last ni...   \n",
       "8          0       1  from donald trump : andrea bocelli @ mar-a-lag...   \n",
       "11         0       1  olympic gold medalist evan lysacek just left m...   \n",
       "13         1       1  last week 's episode of the celebrity apprenti...   \n",
       "14         0       1  the trump hotel collection is currently nomina...   \n",
       "23         0       1  this is a terrific day for downtown new york ....   \n",
       "27         1       1  on sunday jerome bettis 'the bus ' from the pi...   \n",
       "30         0       1  melania and i will be appearing on the view to...   \n",
       "31         0       1  to put on your calendar for may : miss usa 201...   \n",
       "\n",
       "    created_hour  dow  \n",
       "1             16    4  \n",
       "2             16    3  \n",
       "8             14    4  \n",
       "11            15    2  \n",
       "13            14    4  \n",
       "14            16    1  \n",
       "23            16    4  \n",
       "27            15    4  \n",
       "30            14    3  \n",
       "31            15    4  "
      ]
     },
     "execution_count": 44,
     "metadata": {},
     "output_type": "execute_result"
    }
   ],
   "source": [
    "tweet_stock.head(10)"
   ]
  },
  {
   "cell_type": "markdown",
   "metadata": {},
   "source": [
    "### Save"
   ]
  },
  {
   "cell_type": "code",
   "execution_count": 45,
   "metadata": {},
   "outputs": [],
   "source": [
    "tweet_stock.to_csv('./stocks/trump_tweets_sp500.csv', index=False)"
   ]
  },
  {
   "cell_type": "code",
   "execution_count": 46,
   "metadata": {},
   "outputs": [],
   "source": [
    "# NEXT STEPS:\n",
    "# - ACTUALLY GET THE PRICES FOR THESE DAYS TO GET PROPER INPUT/OUTPUT\n",
    "# - SPLIT DATA INTO TRAIN/TEST SETS (MAKE SURE TO RANDOMIZE DATES!)\n",
    "# - EDA (CLASS BALANCE, MOST COMMON WORDS, CLUSTERING FOR COMMON TOPICS)\n",
    "# - CLASSIFICATION (RANDOM FOREST? SOFT MARGIN SVM?)"
   ]
  },
  {
   "cell_type": "code",
   "execution_count": null,
   "metadata": {},
   "outputs": [],
   "source": []
  }
 ],
 "metadata": {
  "kernelspec": {
   "display_name": "Python 3",
   "language": "python",
   "name": "python3"
  },
  "language_info": {
   "codemirror_mode": {
    "name": "ipython",
    "version": 3
   },
   "file_extension": ".py",
   "mimetype": "text/x-python",
   "name": "python",
   "nbconvert_exporter": "python",
   "pygments_lexer": "ipython3",
   "version": "3.7.4"
  }
 },
 "nbformat": 4,
 "nbformat_minor": 4
}
