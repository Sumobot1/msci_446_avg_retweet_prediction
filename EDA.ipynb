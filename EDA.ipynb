{
 "cells": [
  {
   "cell_type": "code",
   "execution_count": 1,
   "metadata": {},
   "outputs": [],
   "source": [
    "import pandas as pd\n",
    "from datetime import datetime, timedelta, date\n",
    "import numpy as np\n",
    "from collections import Counter\n",
    "from data_science_toolkit.data_visualization import get_fig_ax, visualize_class_distribution, top_n_tokens_plot_from_counter\n",
    "import matplotlib.pyplot as plt\n",
    "from nltk.corpus import stopwords\n",
    "import re\n",
    "from nltk.tokenize import word_tokenize \n",
    "from nltk.stem.snowball import SnowballStemmer\n",
    "import nltk, re\n",
    "import itertools\n",
    "from sklearn.feature_extraction.text import TfidfVectorizer, CountVectorizer\n",
    "import re\n",
    "from mlxtend.preprocessing import TransactionEncoder\n",
    "from mlxtend.frequent_patterns import apriori, association_rules\n",
    "from gensim.models.ldamulticore import LdaMulticore\n",
    "from gensim.models import LdaModel, CoherenceModel\n",
    "from gensim import corpora, models, similarities \n",
    "from data_science_toolkit.association_rules import apriori_with_df\n",
    "from data_science_toolkit.data_visualization import generate_histogram"
   ]
  },
  {
   "cell_type": "code",
   "execution_count": 2,
   "metadata": {},
   "outputs": [],
   "source": [
    "output_col = 'above_monthly_avg'\n",
    "file_name = 'trump_tweets_sp500.csv'\n",
    "# file_name = 'elonmusk_twint_preprocessed.csv'"
   ]
  },
  {
   "cell_type": "code",
   "execution_count": 3,
   "metadata": {},
   "outputs": [],
   "source": [
    "%matplotlib inline\n",
    "pd.set_option('display.max_colwidth', -1)\n",
    "pd.set_option('display.max_rows', 500)"
   ]
  },
  {
   "cell_type": "code",
   "execution_count": 4,
   "metadata": {},
   "outputs": [],
   "source": [
    "stop_words = set(stopwords.words('english')).union({'', 'would'})\n",
    "# , '-', '&', '\"', ':', '/'\n",
    "stemmer = SnowballStemmer(\"english\")"
   ]
  },
  {
   "cell_type": "code",
   "execution_count": 5,
   "metadata": {},
   "outputs": [],
   "source": [
    "stock_tweet = pd.read_csv('./stocks/{}'.format(file_name))\n",
    "stock_tweet['created_at']= pd.to_datetime(stock_tweet['created_at']) "
   ]
  },
  {
   "cell_type": "code",
   "execution_count": 6,
   "metadata": {},
   "outputs": [
    {
     "data": {
      "text/html": [
       "<div>\n",
       "<style scoped>\n",
       "    .dataframe tbody tr th:only-of-type {\n",
       "        vertical-align: middle;\n",
       "    }\n",
       "\n",
       "    .dataframe tbody tr th {\n",
       "        vertical-align: top;\n",
       "    }\n",
       "\n",
       "    .dataframe thead th {\n",
       "        text-align: right;\n",
       "    }\n",
       "</style>\n",
       "<table border=\"1\" class=\"dataframe\">\n",
       "  <thead>\n",
       "    <tr style=\"text-align: right;\">\n",
       "      <th></th>\n",
       "      <th>text</th>\n",
       "      <th>retweet_count</th>\n",
       "      <th>retweet</th>\n",
       "      <th>num_videos</th>\n",
       "      <th>created_at</th>\n",
       "      <th>preprocessed_text</th>\n",
       "      <th>created_hour</th>\n",
       "      <th>dow</th>\n",
       "      <th>num_links</th>\n",
       "      <th>num_words</th>\n",
       "      <th>num_photos</th>\n",
       "      <th>above_monthly_avg</th>\n",
       "      <th>percent_caps</th>\n",
       "      <th>num_hashtags</th>\n",
       "      <th>num_mentions</th>\n",
       "    </tr>\n",
       "  </thead>\n",
       "  <tbody>\n",
       "    <tr>\n",
       "      <th>0</th>\n",
       "      <td>The Club For Growth,which asked me for $1,000,000 in an extortion attempt, just put up a Wisconsin ad with incorrect math.What a dumb group!</td>\n",
       "      <td>4791.0</td>\n",
       "      <td>False</td>\n",
       "      <td>0.0</td>\n",
       "      <td>2016-04-01 00:23:25</td>\n",
       "      <td>the club for growth , which asked me for $ 1,000,000 in an extortion attempt , just put up a wisconsin ad with incorrect math.what a dumb group !</td>\n",
       "      <td>0</td>\n",
       "      <td>4</td>\n",
       "      <td>0</td>\n",
       "      <td>0.16</td>\n",
       "      <td>0</td>\n",
       "      <td>1</td>\n",
       "      <td>0.0</td>\n",
       "      <td>0</td>\n",
       "      <td>0</td>\n",
       "    </tr>\n",
       "    <tr>\n",
       "      <th>1</th>\n",
       "      <td>The Club For Growth said in their ad that 465 delegates (Cruz) plus 143 delegates (Kasich) is more than my 739 delegates. Try again!</td>\n",
       "      <td>4434.0</td>\n",
       "      <td>False</td>\n",
       "      <td>0.0</td>\n",
       "      <td>2016-04-01 00:29:49</td>\n",
       "      <td>the club for growth said in their ad that 465 delegates ( cruz ) plus 143 delegates ( kasich ) is more than my 739 delegates . try again !</td>\n",
       "      <td>0</td>\n",
       "      <td>4</td>\n",
       "      <td>0</td>\n",
       "      <td>0.17</td>\n",
       "      <td>0</td>\n",
       "      <td>1</td>\n",
       "      <td>0.0</td>\n",
       "      <td>0</td>\n",
       "      <td>0</td>\n",
       "    </tr>\n",
       "  </tbody>\n",
       "</table>\n",
       "</div>"
      ],
      "text/plain": [
       "                                                                                                                                           text  \\\n",
       "0  The Club For Growth,which asked me for $1,000,000 in an extortion attempt, just put up a Wisconsin ad with incorrect math.What a dumb group!   \n",
       "1  The Club For Growth said in their ad that 465 delegates (Cruz) plus 143 delegates (Kasich) is more than my 739 delegates. Try again!           \n",
       "\n",
       "   retweet_count  retweet  num_videos          created_at  \\\n",
       "0  4791.0         False    0.0        2016-04-01 00:23:25   \n",
       "1  4434.0         False    0.0        2016-04-01 00:29:49   \n",
       "\n",
       "                                                                                                                                   preprocessed_text  \\\n",
       "0  the club for growth , which asked me for $ 1,000,000 in an extortion attempt , just put up a wisconsin ad with incorrect math.what a dumb group !   \n",
       "1  the club for growth said in their ad that 465 delegates ( cruz ) plus 143 delegates ( kasich ) is more than my 739 delegates . try again !          \n",
       "\n",
       "   created_hour  dow  num_links  num_words  num_photos  above_monthly_avg  \\\n",
       "0  0             4    0          0.16       0           1                   \n",
       "1  0             4    0          0.17       0           1                   \n",
       "\n",
       "   percent_caps  num_hashtags  num_mentions  \n",
       "0  0.0           0             0             \n",
       "1  0.0           0             0             "
      ]
     },
     "execution_count": 6,
     "metadata": {},
     "output_type": "execute_result"
    }
   ],
   "source": [
    "stock_tweet.head(2)"
   ]
  },
  {
   "cell_type": "code",
   "execution_count": 8,
   "metadata": {},
   "outputs": [],
   "source": [
    "prep_all_tweets = stock_tweet[\"preprocessed_text\"].tolist()"
   ]
  },
  {
   "cell_type": "markdown",
   "metadata": {},
   "source": [
    "# 1.0 Class Distribution"
   ]
  },
  {
   "cell_type": "code",
   "execution_count": 9,
   "metadata": {},
   "outputs": [
    {
     "name": "stdout",
     "output_type": "stream",
     "text": [
      "Exception in get_axis 'AxesSubplot' object has no attribute 'any'\n"
     ]
    },
    {
     "data": {
      "image/png": "[encoded data removed]",
      "text/plain": [
       "<Figure size 360x360 with 1 Axes>"
      ]
     },
     "metadata": {},
     "output_type": "display_data"
    }
   ],
   "source": [
    "fig, ax = get_fig_ax(1, 1, 5, 5)\n",
    "ax = visualize_class_distribution(stock_tweet[output_col], \n",
    "                                  given_title=\"Retweet Distribution of {}\\n(vs. Monthly Avg.)\".format(file_name), \n",
    "                                  given_label_titles={1: \"Larger\", 0:\"Smaller\"}, axes=ax, row_idx=0, col_idx=0)"
   ]
  },
  {
   "cell_type": "markdown",
   "metadata": {},
   "source": [
    "# 2.0 Most Common Words"
   ]
  },
  {
   "cell_type": "code",
   "execution_count": 11,
   "metadata": {},
   "outputs": [],
   "source": [
    "def filtered_word_array(tweet, words_to_ignore={}):\n",
    "    return [x for x in tweet.split(' ') if x not in stop_words.union(words_to_ignore) and re.search('[a-zA-Z]', x)]"
   ]
  },
  {
   "cell_type": "code",
   "execution_count": 12,
   "metadata": {},
   "outputs": [
    {
     "data": {
      "text/plain": [
       "text                 The era of strategic patience with the North Korea regime has failed. That patience is over. We are working closely with.... pic.twitter.com/nCZ51HnIdx\n",
       "retweet_count        15124                                                                                                                                                  \n",
       "retweet              False                                                                                                                                                  \n",
       "num_videos           1                                                                                                                                                      \n",
       "created_at           2017-06-30 16:55:44                                                                                                                                    \n",
       "preprocessed_text    the era of strategic patience with the north korea regime has failed . that patience is over . we are working closely with ... . twitpicture           \n",
       "created_hour         16                                                                                                                                                     \n",
       "dow                  4                                                                                                                                                      \n",
       "num_links            0                                                                                                                                                      \n",
       "num_words            0.16                                                                                                                                                   \n",
       "num_photos           0                                                                                                                                                      \n",
       "above_monthly_avg    0                                                                                                                                                      \n",
       "percent_caps         0                                                                                                                                                      \n",
       "num_hashtags         0                                                                                                                                                      \n",
       "num_mentions         0                                                                                                                                                      \n",
       "Name: 3500, dtype: object"
      ]
     },
     "execution_count": 12,
     "metadata": {},
     "output_type": "execute_result"
    }
   ],
   "source": [
    "stock_tweet.iloc[3500]"
   ]
  },
  {
   "cell_type": "code",
   "execution_count": 13,
   "metadata": {},
   "outputs": [
    {
     "name": "stdout",
     "output_type": "stream",
     "text": [
      "Exception in get_axis 'AxesSubplot' object has no attribute 'any'\n"
     ]
    },
    {
     "data": {
      "image/png": "[encoded data removed]",
      "text/plain": [
       "<Figure size 1080x360 with 1 Axes>"
      ]
     },
     "metadata": {
      "needs_background": "light"
     },
     "output_type": "display_data"
    }
   ],
   "source": [
    "fig, ax = get_fig_ax(1, 1, 15, 5)\n",
    "ax = top_n_tokens_plot_from_counter(Counter([x for x in filtered_word_array(' '.join(prep_all_tweets))]), \n",
    "                                    20, ax, 0, 0, \"Most common words in {}\".format(file_name))"
   ]
  },
  {
   "cell_type": "markdown",
   "metadata": {},
   "source": [
    "## 2.1 Most Common Words (Larger vs Smaller than monthly average)"
   ]
  },
  {
   "cell_type": "code",
   "execution_count": 14,
   "metadata": {},
   "outputs": [],
   "source": [
    "above_avg = stock_tweet[stock_tweet[output_col] == 1]\n",
    "above_avg_since_election = stock_tweet[stock_tweet[output_col] == 1]\n",
    "below_avg = stock_tweet[stock_tweet[output_col] == 0]\n",
    "below_avg_stock_tweet = stock_tweet[stock_tweet[output_col] == 0]"
   ]
  },
  {
   "cell_type": "code",
   "execution_count": 15,
   "metadata": {},
   "outputs": [],
   "source": [
    "def get_count_no_sw(df):\n",
    "    return Counter(filtered_word_array(' '.join(df['preprocessed_text'].tolist())))"
   ]
  },
  {
   "cell_type": "code",
   "execution_count": 16,
   "metadata": {},
   "outputs": [],
   "source": [
    "above_not_below = get_count_no_sw(above_avg) - get_count_no_sw(below_avg)\n",
    "below_not_above = get_count_no_sw(below_avg) - get_count_no_sw(above_avg)"
   ]
  },
  {
   "cell_type": "code",
   "execution_count": 17,
   "metadata": {},
   "outputs": [
    {
     "name": "stdout",
     "output_type": "stream",
     "text": [
      "Exception in get_axis 'AxesSubplot' object has no attribute 'any'\n"
     ]
    },
    {
     "data": {
      "image/png": "[encoded data removed]",
      "text/plain": [
       "<Figure size 1080x360 with 1 Axes>"
      ]
     },
     "metadata": {
      "needs_background": "light"
     },
     "output_type": "display_data"
    }
   ],
   "source": [
    "fig, ax = get_fig_ax(1, 1, 15, 5)\n",
    "ax = top_n_tokens_plot_from_counter(above_not_below, 30, ax, 0, 0, \n",
    "                                    \"Most common words in {} (Above vs Below Monthly Avg)\".format(file_name))"
   ]
  },
  {
   "cell_type": "code",
   "execution_count": 18,
   "metadata": {},
   "outputs": [
    {
     "name": "stdout",
     "output_type": "stream",
     "text": [
      "Exception in get_axis 'AxesSubplot' object has no attribute 'any'\n"
     ]
    },
    {
     "data": {
      "image/png": "[encoded data removed]",
      "text/plain": [
       "<Figure size 1080x360 with 1 Axes>"
      ]
     },
     "metadata": {
      "needs_background": "light"
     },
     "output_type": "display_data"
    }
   ],
   "source": [
    "fig, ax = get_fig_ax(1, 1, 15, 5)\n",
    "ax = top_n_tokens_plot_from_counter(below_not_above, 30, ax, 0, 0, \n",
    "                                    \"Most common words in {} (Below vs. Above Monthly Avg)\".format(file_name))"
   ]
  },
  {
   "cell_type": "markdown",
   "metadata": {},
   "source": [
    "# 3.0 Apriori - Featuresets\n",
    "- Due to the small number of tweets, etc, we need to use a relatively low support of 0.02 before starting to look for rules"
   ]
  },
  {
   "cell_type": "code",
   "execution_count": 19,
   "metadata": {},
   "outputs": [],
   "source": [
    "def prep_fn(text):\n",
    "    text = text.split(\" \")\n",
    "    final = []\n",
    "    for word in text:\n",
    "        if re.search('[a-zA-Z]', word) and word not in stop_words:\n",
    "            final.append(word)\n",
    "    return final"
   ]
  },
  {
   "cell_type": "code",
   "execution_count": 20,
   "metadata": {},
   "outputs": [
    {
     "data": {
      "text/html": [
       "<div>\n",
       "<style scoped>\n",
       "    .dataframe tbody tr th:only-of-type {\n",
       "        vertical-align: middle;\n",
       "    }\n",
       "\n",
       "    .dataframe tbody tr th {\n",
       "        vertical-align: top;\n",
       "    }\n",
       "\n",
       "    .dataframe thead th {\n",
       "        text-align: right;\n",
       "    }\n",
       "</style>\n",
       "<table border=\"1\" class=\"dataframe\">\n",
       "  <thead>\n",
       "    <tr style=\"text-align: right;\">\n",
       "      <th></th>\n",
       "      <th>support</th>\n",
       "      <th>itemsets</th>\n",
       "    </tr>\n",
       "  </thead>\n",
       "  <tbody>\n",
       "    <tr>\n",
       "      <th>0</th>\n",
       "      <td>0.027681</td>\n",
       "      <td>('s)</td>\n",
       "    </tr>\n",
       "    <tr>\n",
       "      <th>1</th>\n",
       "      <td>0.023845</td>\n",
       "      <td>(also)</td>\n",
       "    </tr>\n",
       "    <tr>\n",
       "      <th>2</th>\n",
       "      <td>0.055278</td>\n",
       "      <td>(america)</td>\n",
       "    </tr>\n",
       "    <tr>\n",
       "      <th>3</th>\n",
       "      <td>0.034517</td>\n",
       "      <td>(american)</td>\n",
       "    </tr>\n",
       "    <tr>\n",
       "      <th>4</th>\n",
       "      <td>0.036602</td>\n",
       "      <td>(back)</td>\n",
       "    </tr>\n",
       "    <tr>\n",
       "      <th>5</th>\n",
       "      <td>0.034934</td>\n",
       "      <td>(bad)</td>\n",
       "    </tr>\n",
       "    <tr>\n",
       "      <th>6</th>\n",
       "      <td>0.020093</td>\n",
       "      <td>(better)</td>\n",
       "    </tr>\n",
       "    <tr>\n",
       "      <th>7</th>\n",
       "      <td>0.061114</td>\n",
       "      <td>(big)</td>\n",
       "    </tr>\n",
       "    <tr>\n",
       "      <th>8</th>\n",
       "      <td>0.043772</td>\n",
       "      <td>(border)</td>\n",
       "    </tr>\n",
       "    <tr>\n",
       "      <th>9</th>\n",
       "      <td>0.020010</td>\n",
       "      <td>(campaign)</td>\n",
       "    </tr>\n",
       "    <tr>\n",
       "      <th>10</th>\n",
       "      <td>0.025513</td>\n",
       "      <td>(china)</td>\n",
       "    </tr>\n",
       "    <tr>\n",
       "      <th>11</th>\n",
       "      <td>0.035601</td>\n",
       "      <td>(clinton)</td>\n",
       "    </tr>\n",
       "    <tr>\n",
       "      <th>12</th>\n",
       "      <td>0.020427</td>\n",
       "      <td>(collusion)</td>\n",
       "    </tr>\n",
       "    <tr>\n",
       "      <th>13</th>\n",
       "      <td>0.072119</td>\n",
       "      <td>(country)</td>\n",
       "    </tr>\n",
       "    <tr>\n",
       "      <th>14</th>\n",
       "      <td>0.026013</td>\n",
       "      <td>(crime)</td>\n",
       "    </tr>\n",
       "    <tr>\n",
       "      <th>15</th>\n",
       "      <td>0.032850</td>\n",
       "      <td>(crooked)</td>\n",
       "    </tr>\n",
       "    <tr>\n",
       "      <th>16</th>\n",
       "      <td>0.026430</td>\n",
       "      <td>(day)</td>\n",
       "    </tr>\n",
       "    <tr>\n",
       "      <th>17</th>\n",
       "      <td>0.024429</td>\n",
       "      <td>(deal)</td>\n",
       "    </tr>\n",
       "    <tr>\n",
       "      <th>18</th>\n",
       "      <td>0.064366</td>\n",
       "      <td>(democrats)</td>\n",
       "    </tr>\n",
       "    <tr>\n",
       "      <th>19</th>\n",
       "      <td>0.028348</td>\n",
       "      <td>(dems)</td>\n",
       "    </tr>\n",
       "    <tr>\n",
       "      <th>20</th>\n",
       "      <td>0.035018</td>\n",
       "      <td>(done)</td>\n",
       "    </tr>\n",
       "    <tr>\n",
       "      <th>21</th>\n",
       "      <td>0.028348</td>\n",
       "      <td>(election)</td>\n",
       "    </tr>\n",
       "    <tr>\n",
       "      <th>22</th>\n",
       "      <td>0.037435</td>\n",
       "      <td>(even)</td>\n",
       "    </tr>\n",
       "    <tr>\n",
       "      <th>23</th>\n",
       "      <td>0.026763</td>\n",
       "      <td>(ever)</td>\n",
       "    </tr>\n",
       "    <tr>\n",
       "      <th>24</th>\n",
       "      <td>0.054944</td>\n",
       "      <td>(fake)</td>\n",
       "    </tr>\n",
       "    <tr>\n",
       "      <th>25</th>\n",
       "      <td>0.020177</td>\n",
       "      <td>(far)</td>\n",
       "    </tr>\n",
       "    <tr>\n",
       "      <th>26</th>\n",
       "      <td>0.027681</td>\n",
       "      <td>(first)</td>\n",
       "    </tr>\n",
       "    <tr>\n",
       "      <th>27</th>\n",
       "      <td>0.055528</td>\n",
       "      <td>(get)</td>\n",
       "    </tr>\n",
       "    <tr>\n",
       "      <th>28</th>\n",
       "      <td>0.025346</td>\n",
       "      <td>(go)</td>\n",
       "    </tr>\n",
       "    <tr>\n",
       "      <th>29</th>\n",
       "      <td>0.037269</td>\n",
       "      <td>(going)</td>\n",
       "    </tr>\n",
       "    <tr>\n",
       "      <th>30</th>\n",
       "      <td>0.042271</td>\n",
       "      <td>(good)</td>\n",
       "    </tr>\n",
       "    <tr>\n",
       "      <th>31</th>\n",
       "      <td>0.197682</td>\n",
       "      <td>(great)</td>\n",
       "    </tr>\n",
       "    <tr>\n",
       "      <th>32</th>\n",
       "      <td>0.023345</td>\n",
       "      <td>(hard)</td>\n",
       "    </tr>\n",
       "    <tr>\n",
       "      <th>33</th>\n",
       "      <td>0.051109</td>\n",
       "      <td>(hillary)</td>\n",
       "    </tr>\n",
       "    <tr>\n",
       "      <th>34</th>\n",
       "      <td>0.022845</td>\n",
       "      <td>(history)</td>\n",
       "    </tr>\n",
       "    <tr>\n",
       "      <th>35</th>\n",
       "      <td>0.020510</td>\n",
       "      <td>(honor)</td>\n",
       "    </tr>\n",
       "    <tr>\n",
       "      <th>36</th>\n",
       "      <td>0.029265</td>\n",
       "      <td>(house)</td>\n",
       "    </tr>\n",
       "    <tr>\n",
       "      <th>37</th>\n",
       "      <td>0.024596</td>\n",
       "      <td>(hunt)</td>\n",
       "    </tr>\n",
       "    <tr>\n",
       "      <th>38</th>\n",
       "      <td>0.034351</td>\n",
       "      <td>(job)</td>\n",
       "    </tr>\n",
       "    <tr>\n",
       "      <th>39</th>\n",
       "      <td>0.025930</td>\n",
       "      <td>(jobs)</td>\n",
       "    </tr>\n",
       "    <tr>\n",
       "      <th>40</th>\n",
       "      <td>0.021844</td>\n",
       "      <td>(know)</td>\n",
       "    </tr>\n",
       "    <tr>\n",
       "      <th>41</th>\n",
       "      <td>0.024512</td>\n",
       "      <td>(last)</td>\n",
       "    </tr>\n",
       "    <tr>\n",
       "      <th>42</th>\n",
       "      <td>0.033433</td>\n",
       "      <td>(like)</td>\n",
       "    </tr>\n",
       "    <tr>\n",
       "      <th>43</th>\n",
       "      <td>0.020260</td>\n",
       "      <td>(long)</td>\n",
       "    </tr>\n",
       "    <tr>\n",
       "      <th>44</th>\n",
       "      <td>0.023345</td>\n",
       "      <td>(look)</td>\n",
       "    </tr>\n",
       "    <tr>\n",
       "      <th>45</th>\n",
       "      <td>0.028764</td>\n",
       "      <td>(made)</td>\n",
       "    </tr>\n",
       "    <tr>\n",
       "      <th>46</th>\n",
       "      <td>0.044606</td>\n",
       "      <td>(make)</td>\n",
       "    </tr>\n",
       "    <tr>\n",
       "      <th>47</th>\n",
       "      <td>0.058446</td>\n",
       "      <td>(many)</td>\n",
       "    </tr>\n",
       "    <tr>\n",
       "      <th>48</th>\n",
       "      <td>0.041771</td>\n",
       "      <td>(media)</td>\n",
       "    </tr>\n",
       "    <tr>\n",
       "      <th>49</th>\n",
       "      <td>0.027180</td>\n",
       "      <td>(military)</td>\n",
       "    </tr>\n",
       "    <tr>\n",
       "      <th>50</th>\n",
       "      <td>0.172086</td>\n",
       "      <td>(msciurl)</td>\n",
       "    </tr>\n",
       "    <tr>\n",
       "      <th>51</th>\n",
       "      <td>0.045606</td>\n",
       "      <td>(much)</td>\n",
       "    </tr>\n",
       "    <tr>\n",
       "      <th>52</th>\n",
       "      <td>0.035184</td>\n",
       "      <td>(must)</td>\n",
       "    </tr>\n",
       "    <tr>\n",
       "      <th>53</th>\n",
       "      <td>0.024179</td>\n",
       "      <td>(n't)</td>\n",
       "    </tr>\n",
       "    <tr>\n",
       "      <th>54</th>\n",
       "      <td>0.047440</td>\n",
       "      <td>(never)</td>\n",
       "    </tr>\n",
       "    <tr>\n",
       "      <th>55</th>\n",
       "      <td>0.053694</td>\n",
       "      <td>(new)</td>\n",
       "    </tr>\n",
       "    <tr>\n",
       "      <th>56</th>\n",
       "      <td>0.062114</td>\n",
       "      <td>(news)</td>\n",
       "    </tr>\n",
       "    <tr>\n",
       "      <th>57</th>\n",
       "      <td>0.022011</td>\n",
       "      <td>(north)</td>\n",
       "    </tr>\n",
       "    <tr>\n",
       "      <th>58</th>\n",
       "      <td>0.029431</td>\n",
       "      <td>(nothing)</td>\n",
       "    </tr>\n",
       "    <tr>\n",
       "      <th>59</th>\n",
       "      <td>0.023679</td>\n",
       "      <td>(obama)</td>\n",
       "    </tr>\n",
       "    <tr>\n",
       "      <th>60</th>\n",
       "      <td>0.038519</td>\n",
       "      <td>(one)</td>\n",
       "    </tr>\n",
       "    <tr>\n",
       "      <th>61</th>\n",
       "      <td>0.099300</td>\n",
       "      <td>(people)</td>\n",
       "    </tr>\n",
       "    <tr>\n",
       "      <th>62</th>\n",
       "      <td>0.074787</td>\n",
       "      <td>(president)</td>\n",
       "    </tr>\n",
       "    <tr>\n",
       "      <th>63</th>\n",
       "      <td>0.023845</td>\n",
       "      <td>(really)</td>\n",
       "    </tr>\n",
       "    <tr>\n",
       "      <th>64</th>\n",
       "      <td>0.026597</td>\n",
       "      <td>(republican)</td>\n",
       "    </tr>\n",
       "    <tr>\n",
       "      <th>65</th>\n",
       "      <td>0.021261</td>\n",
       "      <td>(republicans)</td>\n",
       "    </tr>\n",
       "    <tr>\n",
       "      <th>66</th>\n",
       "      <td>0.020177</td>\n",
       "      <td>(russia)</td>\n",
       "    </tr>\n",
       "    <tr>\n",
       "      <th>67</th>\n",
       "      <td>0.027514</td>\n",
       "      <td>(said)</td>\n",
       "    </tr>\n",
       "    <tr>\n",
       "      <th>68</th>\n",
       "      <td>0.023345</td>\n",
       "      <td>(security)</td>\n",
       "    </tr>\n",
       "    <tr>\n",
       "      <th>69</th>\n",
       "      <td>0.028097</td>\n",
       "      <td>(see)</td>\n",
       "    </tr>\n",
       "    <tr>\n",
       "      <th>70</th>\n",
       "      <td>0.029181</td>\n",
       "      <td>(state)</td>\n",
       "    </tr>\n",
       "    <tr>\n",
       "      <th>71</th>\n",
       "      <td>0.036018</td>\n",
       "      <td>(states)</td>\n",
       "    </tr>\n",
       "    <tr>\n",
       "      <th>72</th>\n",
       "      <td>0.021678</td>\n",
       "      <td>(strong)</td>\n",
       "    </tr>\n",
       "    <tr>\n",
       "      <th>73</th>\n",
       "      <td>0.020344</td>\n",
       "      <td>(tax)</td>\n",
       "    </tr>\n",
       "    <tr>\n",
       "      <th>74</th>\n",
       "      <td>0.095298</td>\n",
       "      <td>(thank)</td>\n",
       "    </tr>\n",
       "    <tr>\n",
       "      <th>75</th>\n",
       "      <td>0.047524</td>\n",
       "      <td>(time)</td>\n",
       "    </tr>\n",
       "    <tr>\n",
       "      <th>76</th>\n",
       "      <td>0.050192</td>\n",
       "      <td>(today)</td>\n",
       "    </tr>\n",
       "    <tr>\n",
       "      <th>77</th>\n",
       "      <td>0.022261</td>\n",
       "      <td>(total)</td>\n",
       "    </tr>\n",
       "    <tr>\n",
       "      <th>78</th>\n",
       "      <td>0.024095</td>\n",
       "      <td>(trade)</td>\n",
       "    </tr>\n",
       "    <tr>\n",
       "      <th>79</th>\n",
       "      <td>0.066116</td>\n",
       "      <td>(trump)</td>\n",
       "    </tr>\n",
       "    <tr>\n",
       "      <th>80</th>\n",
       "      <td>0.021344</td>\n",
       "      <td>(twitmentionfoxnews)</td>\n",
       "    </tr>\n",
       "    <tr>\n",
       "      <th>81</th>\n",
       "      <td>0.193430</td>\n",
       "      <td>(twitpicture)</td>\n",
       "    </tr>\n",
       "    <tr>\n",
       "      <th>82</th>\n",
       "      <td>0.021094</td>\n",
       "      <td>(two)</td>\n",
       "    </tr>\n",
       "    <tr>\n",
       "      <th>83</th>\n",
       "      <td>0.040854</td>\n",
       "      <td>(u.s.)</td>\n",
       "    </tr>\n",
       "    <tr>\n",
       "      <th>84</th>\n",
       "      <td>0.036768</td>\n",
       "      <td>(united)</td>\n",
       "    </tr>\n",
       "    <tr>\n",
       "      <th>85</th>\n",
       "      <td>0.027931</td>\n",
       "      <td>(us)</td>\n",
       "    </tr>\n",
       "    <tr>\n",
       "      <th>86</th>\n",
       "      <td>0.032516</td>\n",
       "      <td>(vote)</td>\n",
       "    </tr>\n",
       "    <tr>\n",
       "      <th>87</th>\n",
       "      <td>0.024429</td>\n",
       "      <td>(wall)</td>\n",
       "    </tr>\n",
       "    <tr>\n",
       "      <th>88</th>\n",
       "      <td>0.039103</td>\n",
       "      <td>(want)</td>\n",
       "    </tr>\n",
       "    <tr>\n",
       "      <th>89</th>\n",
       "      <td>0.027931</td>\n",
       "      <td>(way)</td>\n",
       "    </tr>\n",
       "    <tr>\n",
       "      <th>90</th>\n",
       "      <td>0.021427</td>\n",
       "      <td>(well)</td>\n",
       "    </tr>\n",
       "    <tr>\n",
       "      <th>91</th>\n",
       "      <td>0.027180</td>\n",
       "      <td>(win)</td>\n",
       "    </tr>\n",
       "    <tr>\n",
       "      <th>92</th>\n",
       "      <td>0.024596</td>\n",
       "      <td>(witch)</td>\n",
       "    </tr>\n",
       "    <tr>\n",
       "      <th>93</th>\n",
       "      <td>0.022178</td>\n",
       "      <td>(work)</td>\n",
       "    </tr>\n",
       "    <tr>\n",
       "      <th>94</th>\n",
       "      <td>0.023262</td>\n",
       "      <td>(working)</td>\n",
       "    </tr>\n",
       "    <tr>\n",
       "      <th>95</th>\n",
       "      <td>0.025429</td>\n",
       "      <td>(world)</td>\n",
       "    </tr>\n",
       "    <tr>\n",
       "      <th>96</th>\n",
       "      <td>0.020010</td>\n",
       "      <td>(year)</td>\n",
       "    </tr>\n",
       "    <tr>\n",
       "      <th>97</th>\n",
       "      <td>0.041271</td>\n",
       "      <td>(years)</td>\n",
       "    </tr>\n",
       "    <tr>\n",
       "      <th>98</th>\n",
       "      <td>0.030182</td>\n",
       "      <td>(great, america)</td>\n",
       "    </tr>\n",
       "    <tr>\n",
       "      <th>99</th>\n",
       "      <td>0.021844</td>\n",
       "      <td>(make, america)</td>\n",
       "    </tr>\n",
       "    <tr>\n",
       "      <th>100</th>\n",
       "      <td>0.022428</td>\n",
       "      <td>(hillary, clinton)</td>\n",
       "    </tr>\n",
       "    <tr>\n",
       "      <th>101</th>\n",
       "      <td>0.028097</td>\n",
       "      <td>(hillary, crooked)</td>\n",
       "    </tr>\n",
       "    <tr>\n",
       "      <th>102</th>\n",
       "      <td>0.021344</td>\n",
       "      <td>(media, fake)</td>\n",
       "    </tr>\n",
       "    <tr>\n",
       "      <th>103</th>\n",
       "      <td>0.046523</td>\n",
       "      <td>(news, fake)</td>\n",
       "    </tr>\n",
       "    <tr>\n",
       "      <th>104</th>\n",
       "      <td>0.024512</td>\n",
       "      <td>(great, make)</td>\n",
       "    </tr>\n",
       "    <tr>\n",
       "      <th>105</th>\n",
       "      <td>0.028431</td>\n",
       "      <td>(great, msciurl)</td>\n",
       "    </tr>\n",
       "    <tr>\n",
       "      <th>106</th>\n",
       "      <td>0.026430</td>\n",
       "      <td>(people, great)</td>\n",
       "    </tr>\n",
       "    <tr>\n",
       "      <th>107</th>\n",
       "      <td>0.025346</td>\n",
       "      <td>(great, thank)</td>\n",
       "    </tr>\n",
       "    <tr>\n",
       "      <th>108</th>\n",
       "      <td>0.036435</td>\n",
       "      <td>(great, twitpicture)</td>\n",
       "    </tr>\n",
       "    <tr>\n",
       "      <th>109</th>\n",
       "      <td>0.024262</td>\n",
       "      <td>(witch, hunt)</td>\n",
       "    </tr>\n",
       "    <tr>\n",
       "      <th>110</th>\n",
       "      <td>0.020260</td>\n",
       "      <td>(news, media)</td>\n",
       "    </tr>\n",
       "    <tr>\n",
       "      <th>111</th>\n",
       "      <td>0.031766</td>\n",
       "      <td>(thank, msciurl)</td>\n",
       "    </tr>\n",
       "    <tr>\n",
       "      <th>112</th>\n",
       "      <td>0.048608</td>\n",
       "      <td>(msciurl, twitpicture)</td>\n",
       "    </tr>\n",
       "    <tr>\n",
       "      <th>113</th>\n",
       "      <td>0.030682</td>\n",
       "      <td>(states, united)</td>\n",
       "    </tr>\n",
       "    <tr>\n",
       "      <th>114</th>\n",
       "      <td>0.041938</td>\n",
       "      <td>(thank, twitpicture)</td>\n",
       "    </tr>\n",
       "  </tbody>\n",
       "</table>\n",
       "</div>"
      ],
      "text/plain": [
       "      support                itemsets\n",
       "0    0.027681  ('s)                  \n",
       "1    0.023845  (also)                \n",
       "2    0.055278  (america)             \n",
       "3    0.034517  (american)            \n",
       "4    0.036602  (back)                \n",
       "5    0.034934  (bad)                 \n",
       "6    0.020093  (better)              \n",
       "7    0.061114  (big)                 \n",
       "8    0.043772  (border)              \n",
       "9    0.020010  (campaign)            \n",
       "10   0.025513  (china)               \n",
       "11   0.035601  (clinton)             \n",
       "12   0.020427  (collusion)           \n",
       "13   0.072119  (country)             \n",
       "14   0.026013  (crime)               \n",
       "15   0.032850  (crooked)             \n",
       "16   0.026430  (day)                 \n",
       "17   0.024429  (deal)                \n",
       "18   0.064366  (democrats)           \n",
       "19   0.028348  (dems)                \n",
       "20   0.035018  (done)                \n",
       "21   0.028348  (election)            \n",
       "22   0.037435  (even)                \n",
       "23   0.026763  (ever)                \n",
       "24   0.054944  (fake)                \n",
       "25   0.020177  (far)                 \n",
       "26   0.027681  (first)               \n",
       "27   0.055528  (get)                 \n",
       "28   0.025346  (go)                  \n",
       "29   0.037269  (going)               \n",
       "30   0.042271  (good)                \n",
       "31   0.197682  (great)               \n",
       "32   0.023345  (hard)                \n",
       "33   0.051109  (hillary)             \n",
       "34   0.022845  (history)             \n",
       "35   0.020510  (honor)               \n",
       "36   0.029265  (house)               \n",
       "37   0.024596  (hunt)                \n",
       "38   0.034351  (job)                 \n",
       "39   0.025930  (jobs)                \n",
       "40   0.021844  (know)                \n",
       "41   0.024512  (last)                \n",
       "42   0.033433  (like)                \n",
       "43   0.020260  (long)                \n",
       "44   0.023345  (look)                \n",
       "45   0.028764  (made)                \n",
       "46   0.044606  (make)                \n",
       "47   0.058446  (many)                \n",
       "48   0.041771  (media)               \n",
       "49   0.027180  (military)            \n",
       "50   0.172086  (msciurl)             \n",
       "51   0.045606  (much)                \n",
       "52   0.035184  (must)                \n",
       "53   0.024179  (n't)                 \n",
       "54   0.047440  (never)               \n",
       "55   0.053694  (new)                 \n",
       "56   0.062114  (news)                \n",
       "57   0.022011  (north)               \n",
       "58   0.029431  (nothing)             \n",
       "59   0.023679  (obama)               \n",
       "60   0.038519  (one)                 \n",
       "61   0.099300  (people)              \n",
       "62   0.074787  (president)           \n",
       "63   0.023845  (really)              \n",
       "64   0.026597  (republican)          \n",
       "65   0.021261  (republicans)         \n",
       "66   0.020177  (russia)              \n",
       "67   0.027514  (said)                \n",
       "68   0.023345  (security)            \n",
       "69   0.028097  (see)                 \n",
       "70   0.029181  (state)               \n",
       "71   0.036018  (states)              \n",
       "72   0.021678  (strong)              \n",
       "73   0.020344  (tax)                 \n",
       "74   0.095298  (thank)               \n",
       "75   0.047524  (time)                \n",
       "76   0.050192  (today)               \n",
       "77   0.022261  (total)               \n",
       "78   0.024095  (trade)               \n",
       "79   0.066116  (trump)               \n",
       "80   0.021344  (twitmentionfoxnews)  \n",
       "81   0.193430  (twitpicture)         \n",
       "82   0.021094  (two)                 \n",
       "83   0.040854  (u.s.)                \n",
       "84   0.036768  (united)              \n",
       "85   0.027931  (us)                  \n",
       "86   0.032516  (vote)                \n",
       "87   0.024429  (wall)                \n",
       "88   0.039103  (want)                \n",
       "89   0.027931  (way)                 \n",
       "90   0.021427  (well)                \n",
       "91   0.027180  (win)                 \n",
       "92   0.024596  (witch)               \n",
       "93   0.022178  (work)                \n",
       "94   0.023262  (working)             \n",
       "95   0.025429  (world)               \n",
       "96   0.020010  (year)                \n",
       "97   0.041271  (years)               \n",
       "98   0.030182  (great, america)      \n",
       "99   0.021844  (make, america)       \n",
       "100  0.022428  (hillary, clinton)    \n",
       "101  0.028097  (hillary, crooked)    \n",
       "102  0.021344  (media, fake)         \n",
       "103  0.046523  (news, fake)          \n",
       "104  0.024512  (great, make)         \n",
       "105  0.028431  (great, msciurl)      \n",
       "106  0.026430  (people, great)       \n",
       "107  0.025346  (great, thank)        \n",
       "108  0.036435  (great, twitpicture)  \n",
       "109  0.024262  (witch, hunt)         \n",
       "110  0.020260  (news, media)         \n",
       "111  0.031766  (thank, msciurl)      \n",
       "112  0.048608  (msciurl, twitpicture)\n",
       "113  0.030682  (states, united)      \n",
       "114  0.041938  (thank, twitpicture)  "
      ]
     },
     "execution_count": 20,
     "metadata": {},
     "output_type": "execute_result"
    }
   ],
   "source": [
    "frequent_itemsets = apriori_with_df(prep_all_tweets, prep_fn, min_support=0.02, use_colnames=True)\n",
    "frequent_itemsets"
   ]
  },
  {
   "cell_type": "markdown",
   "metadata": {},
   "source": [
    "## Using these frequent itemsets, we can come up with association rules:"
   ]
  },
  {
   "cell_type": "code",
   "execution_count": 21,
   "metadata": {},
   "outputs": [
    {
     "data": {
      "text/html": [
       "<div>\n",
       "<style scoped>\n",
       "    .dataframe tbody tr th:only-of-type {\n",
       "        vertical-align: middle;\n",
       "    }\n",
       "\n",
       "    .dataframe tbody tr th {\n",
       "        vertical-align: top;\n",
       "    }\n",
       "\n",
       "    .dataframe thead th {\n",
       "        text-align: right;\n",
       "    }\n",
       "</style>\n",
       "<table border=\"1\" class=\"dataframe\">\n",
       "  <thead>\n",
       "    <tr style=\"text-align: right;\">\n",
       "      <th></th>\n",
       "      <th>antecedents</th>\n",
       "      <th>consequents</th>\n",
       "      <th>antecedent support</th>\n",
       "      <th>consequent support</th>\n",
       "      <th>support</th>\n",
       "      <th>confidence</th>\n",
       "      <th>lift</th>\n",
       "      <th>leverage</th>\n",
       "      <th>conviction</th>\n",
       "    </tr>\n",
       "  </thead>\n",
       "  <tbody>\n",
       "    <tr>\n",
       "      <th>0</th>\n",
       "      <td>(news)</td>\n",
       "      <td>(fake)</td>\n",
       "      <td>0.062114</td>\n",
       "      <td>0.054944</td>\n",
       "      <td>0.046523</td>\n",
       "      <td>0.748993</td>\n",
       "      <td>13.631905</td>\n",
       "      <td>0.043110</td>\n",
       "      <td>3.765062</td>\n",
       "    </tr>\n",
       "    <tr>\n",
       "      <th>1</th>\n",
       "      <td>(fake)</td>\n",
       "      <td>(news)</td>\n",
       "      <td>0.054944</td>\n",
       "      <td>0.062114</td>\n",
       "      <td>0.046523</td>\n",
       "      <td>0.846737</td>\n",
       "      <td>13.631905</td>\n",
       "      <td>0.043110</td>\n",
       "      <td>6.119471</td>\n",
       "    </tr>\n",
       "    <tr>\n",
       "      <th>2</th>\n",
       "      <td>(states)</td>\n",
       "      <td>(united)</td>\n",
       "      <td>0.036018</td>\n",
       "      <td>0.036768</td>\n",
       "      <td>0.030682</td>\n",
       "      <td>0.851852</td>\n",
       "      <td>23.168052</td>\n",
       "      <td>0.029358</td>\n",
       "      <td>6.501813</td>\n",
       "    </tr>\n",
       "    <tr>\n",
       "      <th>3</th>\n",
       "      <td>(united)</td>\n",
       "      <td>(states)</td>\n",
       "      <td>0.036768</td>\n",
       "      <td>0.036018</td>\n",
       "      <td>0.030682</td>\n",
       "      <td>0.834467</td>\n",
       "      <td>23.168052</td>\n",
       "      <td>0.029358</td>\n",
       "      <td>5.823508</td>\n",
       "    </tr>\n",
       "    <tr>\n",
       "      <th>4</th>\n",
       "      <td>(witch)</td>\n",
       "      <td>(hunt)</td>\n",
       "      <td>0.024596</td>\n",
       "      <td>0.024596</td>\n",
       "      <td>0.024262</td>\n",
       "      <td>0.986441</td>\n",
       "      <td>40.106337</td>\n",
       "      <td>0.023657</td>\n",
       "      <td>71.936072</td>\n",
       "    </tr>\n",
       "    <tr>\n",
       "      <th>5</th>\n",
       "      <td>(hunt)</td>\n",
       "      <td>(witch)</td>\n",
       "      <td>0.024596</td>\n",
       "      <td>0.024596</td>\n",
       "      <td>0.024262</td>\n",
       "      <td>0.986441</td>\n",
       "      <td>40.106337</td>\n",
       "      <td>0.023657</td>\n",
       "      <td>71.936072</td>\n",
       "    </tr>\n",
       "    <tr>\n",
       "      <th>6</th>\n",
       "      <td>(crooked)</td>\n",
       "      <td>(hillary)</td>\n",
       "      <td>0.032850</td>\n",
       "      <td>0.051109</td>\n",
       "      <td>0.028097</td>\n",
       "      <td>0.855330</td>\n",
       "      <td>16.735444</td>\n",
       "      <td>0.026418</td>\n",
       "      <td>6.559002</td>\n",
       "    </tr>\n",
       "  </tbody>\n",
       "</table>\n",
       "</div>"
      ],
      "text/plain": [
       "  antecedents consequents  antecedent support  consequent support   support  \\\n",
       "0  (news)      (fake)      0.062114            0.054944            0.046523   \n",
       "1  (fake)      (news)      0.054944            0.062114            0.046523   \n",
       "2  (states)    (united)    0.036018            0.036768            0.030682   \n",
       "3  (united)    (states)    0.036768            0.036018            0.030682   \n",
       "4  (witch)     (hunt)      0.024596            0.024596            0.024262   \n",
       "5  (hunt)      (witch)     0.024596            0.024596            0.024262   \n",
       "6  (crooked)   (hillary)   0.032850            0.051109            0.028097   \n",
       "\n",
       "   confidence       lift  leverage  conviction  \n",
       "0  0.748993    13.631905  0.043110  3.765062    \n",
       "1  0.846737    13.631905  0.043110  6.119471    \n",
       "2  0.851852    23.168052  0.029358  6.501813    \n",
       "3  0.834467    23.168052  0.029358  5.823508    \n",
       "4  0.986441    40.106337  0.023657  71.936072   \n",
       "5  0.986441    40.106337  0.023657  71.936072   \n",
       "6  0.855330    16.735444  0.026418  6.559002    "
      ]
     },
     "execution_count": 21,
     "metadata": {},
     "output_type": "execute_result"
    }
   ],
   "source": [
    "rules = association_rules(frequent_itemsets, metric=\"confidence\", min_threshold=0.7)\n",
    "rules"
   ]
  },
  {
   "cell_type": "markdown",
   "metadata": {},
   "source": [
    "## We can use these itemsets as inputs to our SVM"
   ]
  },
  {
   "cell_type": "markdown",
   "metadata": {},
   "source": [
    "# WILL NEED TO MOVE THIS INTO THE CROSS VALIDATION PIPELINE!!!"
   ]
  },
  {
   "cell_type": "code",
   "execution_count": 22,
   "metadata": {},
   "outputs": [],
   "source": [
    "above_avg_apr = apriori_with_df(stock_tweet[stock_tweet[output_col] == 1]['preprocessed_text'].tolist(), prep_fn).values.tolist()\n",
    "above_avg_apr_dict = {x[1]: x[0] for x in above_avg_apr if len(x[1]) > 1}\n",
    "above_avg_apr_set = set([x[1] for x in above_avg_apr])"
   ]
  },
  {
   "cell_type": "code",
   "execution_count": 23,
   "metadata": {},
   "outputs": [],
   "source": [
    "below_avg_apr = apriori_with_df(stock_tweet[stock_tweet[output_col] == 0]['preprocessed_text'], prep_fn).values.tolist()\n",
    "below_avg_apr_dict = {x[1]: x[0] for x in below_avg_apr if len(x[1]) > 1}\n",
    "below_avg_apr_set = set([x[1] for x in below_avg_apr])"
   ]
  },
  {
   "cell_type": "code",
   "execution_count": 24,
   "metadata": {},
   "outputs": [
    {
     "data": {
      "text/plain": [
       "{frozenset({'fake', 'news'}): 0.029258955427946404,\n",
       " frozenset({'great', 'twitpicture'}): 0.04552912223133716,\n",
       " frozenset({'great', 'today'}): 0.0220125786163522,\n",
       " frozenset({'great', 'msciurl'}): 0.04115395132622368,\n",
       " frozenset({'thank', 'twitpicture'}): 0.04826360404703309,\n",
       " frozenset({'msciurl', 'twitpicture'}): 0.0701394585726005,\n",
       " frozenset({'states', 'united'}): 0.02378999179655455,\n",
       " frozenset({'today', 'twitpicture'}): 0.02693464588460487,\n",
       " frozenset({'great', 'make'}): 0.021192234071643425,\n",
       " frozenset({'great', 'people'}): 0.02392671588733935,\n",
       " frozenset({'america', 'twitpicture'}): 0.020371889526934646,\n",
       " frozenset({'america', 'great'}): 0.025977577249111292,\n",
       " frozenset({'join', 'msciurl'}): 0.025977577249111292,\n",
       " frozenset({'honor', 'twitpicture'}): 0.020782061799289035,\n",
       " frozenset({'msciurl', 'thank'}): 0.04552912223133716,\n",
       " frozenset({'great', 'job'}): 0.02543068088597211,\n",
       " frozenset({'great', 'thank'}): 0.030352748154224774}"
      ]
     },
     "execution_count": 24,
     "metadata": {},
     "output_type": "execute_result"
    }
   ],
   "source": [
    "below_avg_apr_dict"
   ]
  },
  {
   "cell_type": "code",
   "execution_count": 25,
   "metadata": {},
   "outputs": [],
   "source": [
    "above_avg_apr_diff = Counter(above_avg_apr_dict) - Counter(below_avg_apr_dict)"
   ]
  },
  {
   "cell_type": "code",
   "execution_count": 26,
   "metadata": {},
   "outputs": [],
   "source": [
    "below_avg_apr_diff = Counter(below_avg_apr_dict) - Counter(above_avg_apr_dict)"
   ]
  },
  {
   "cell_type": "code",
   "execution_count": 27,
   "metadata": {},
   "outputs": [
    {
     "data": {
      "text/plain": [
       "dict_items([(frozenset({'thank', 'twitpicture'}), 0.01621232199575104), (frozenset({'great', 'twitpicture'}), 0.02330690000911494), (frozenset({'great', 'today'}), 0.0220125786163522), (frozenset({'great', 'msciurl'}), 0.04115395132622368), (frozenset({'msciurl', 'twitpicture'}), 0.0701394585726005), (frozenset({'today', 'twitpicture'}), 0.02693464588460487), (frozenset({'msciurl', 'join'}), 0.025977577249111292), (frozenset({'america', 'twitpicture'}), 0.020371889526934646), (frozenset({'thank', 'msciurl'}), 0.04552912223133716), (frozenset({'honor', 'twitpicture'}), 0.020782061799289035), (frozenset({'great', 'job'}), 0.02543068088597211), (frozenset({'great', 'thank'}), 0.030352748154224774)])"
      ]
     },
     "execution_count": 27,
     "metadata": {},
     "output_type": "execute_result"
    }
   ],
   "source": [
    "below_avg_apr_diff.items()"
   ]
  },
  {
   "cell_type": "code",
   "execution_count": 28,
   "metadata": {},
   "outputs": [],
   "source": [
    "above_avg_apr_feats = sorted([x for x in above_avg_apr_diff.most_common(4) if x[1] > 0.04], key=lambda x: x[1], reverse=True)\n",
    "below_avg_apr_feats = sorted([x for x in below_avg_apr_diff.most_common(4) if x[1] > 0.04], key=lambda x: x[1], reverse=True)"
   ]
  },
  {
   "cell_type": "code",
   "execution_count": 29,
   "metadata": {},
   "outputs": [
    {
     "data": {
      "text/plain": [
       "[(frozenset({'crooked', 'hillary'}), 0.04487179487179487),\n",
       " (frozenset({'fake', 'news'}), 0.0442453180763271)]"
      ]
     },
     "execution_count": 29,
     "metadata": {},
     "output_type": "execute_result"
    }
   ],
   "source": [
    "above_avg_apr_feats"
   ]
  },
  {
   "cell_type": "code",
   "execution_count": 30,
   "metadata": {},
   "outputs": [],
   "source": [
    "# feat = above_avg_apr_feats[0]"
   ]
  },
  {
   "cell_type": "code",
   "execution_count": 31,
   "metadata": {},
   "outputs": [],
   "source": [
    "def contains_feature(tweets, feat):\n",
    "    contains_feat_list = []\n",
    "    for tweet in tweets:\n",
    "        curr_set = [1 if word in set(tweet) else 0 for word in feat]\n",
    "        contains_feat_list.append(min(curr_set))\n",
    "    return contains_feat_list"
   ]
  },
  {
   "cell_type": "code",
   "execution_count": 32,
   "metadata": {},
   "outputs": [],
   "source": [
    "tweets = list(map(lambda x: x.split(\" \"), prep_all_tweets))"
   ]
  },
  {
   "cell_type": "code",
   "execution_count": 33,
   "metadata": {},
   "outputs": [],
   "source": [
    "for feat in above_avg_apr_feats:\n",
    "    col_name = \"above_avg_apr_{}\".format('_'.join(feat[0]))\n",
    "    stock_tweet[col_name] = contains_feature(tweets, feat[0])\n",
    "    stock_tweet[col_name] = stock_tweet[col_name].astype('category')"
   ]
  },
  {
   "cell_type": "code",
   "execution_count": 34,
   "metadata": {},
   "outputs": [],
   "source": [
    "for feat in below_avg_apr_feats:\n",
    "    col_name = \"below_avg_apr_{}\".format('_'.join(feat[0]))\n",
    "    stock_tweet[col_name] = contains_feature(tweets, feat[0])\n",
    "    stock_tweet[col_name] = stock_tweet[col_name].astype('category')"
   ]
  },
  {
   "cell_type": "code",
   "execution_count": 35,
   "metadata": {},
   "outputs": [],
   "source": [
    "# since_election.columns"
   ]
  },
  {
   "cell_type": "markdown",
   "metadata": {},
   "source": [
    "### 3.something Kmeans\n",
    "- https://medium.com/wisio/a-gentle-introduction-to-doc2vec-db3e8c0cce5e"
   ]
  },
  {
   "cell_type": "markdown",
   "metadata": {},
   "source": [
    "# K-Means Clustering for Common Topics"
   ]
  },
  {
   "cell_type": "markdown",
   "metadata": {},
   "source": [
    "Summarize this but don't need to say much else\n",
    "\n",
    "Ran out of memory trying to do this for all Trump tweets - I'm only going to do it for tweets since the election.  \n",
    "Elbow method: https://blog.cambridgespark.com/how-to-determine-the-optimal-number-of-clusters-for-k-means-clustering-14f27070048f"
   ]
  },
  {
   "cell_type": "code",
   "execution_count": 36,
   "metadata": {},
   "outputs": [],
   "source": [
    "from gensim.test.utils import common_texts\n",
    "from gensim.models.doc2vec import Doc2Vec, TaggedDocument"
   ]
  },
  {
   "cell_type": "code",
   "execution_count": 37,
   "metadata": {},
   "outputs": [],
   "source": [
    "documents = [TaggedDocument(doc, [i]) for i, doc in enumerate(list(map(lambda x: [stemmer.stem(yeet) for yeet in x.split(\" \") if re.search('[a-zA-Z]', yeet) and yeet not in stop_words.union({'msciurl', 'twitpicture', \"'s\"})], prep_all_tweets)))]\n",
    "model = Doc2Vec(documents, vector_size=30, window=2, min_count=1, workers=4)"
   ]
  },
  {
   "cell_type": "code",
   "execution_count": 38,
   "metadata": {},
   "outputs": [],
   "source": [
    "model.train(documents, total_examples=model.corpus_count, epochs=10, start_alpha=0.002, end_alpha=-0.016)"
   ]
  },
  {
   "cell_type": "code",
   "execution_count": 39,
   "metadata": {},
   "outputs": [
    {
     "name": "stderr",
     "output_type": "stream",
     "text": [
      "/usr/local/lib/python3.5/dist-packages/ipykernel_launcher.py:1: DeprecationWarning: Call to deprecated `doctag_syn0` (Attribute will be removed in 4.0.0, use docvecs.vectors_docs instead).\n",
      "  \"\"\"Entry point for launching an IPython kernel.\n"
     ]
    },
    {
     "data": {
      "text/plain": [
       "array([[ 0.0636289 , -0.37058914, -0.07570374, ...,  0.13836598,\n",
       "         0.12856182, -0.04244406],\n",
       "       [ 0.04225202, -0.23158881, -0.04435058, ...,  0.08609419,\n",
       "         0.08123738,  0.00472319],\n",
       "       [ 0.02075376, -0.16917807, -0.02034856, ...,  0.07984713,\n",
       "         0.06977612, -0.01034171],\n",
       "       ...,\n",
       "       [ 0.01814339, -0.10941339, -0.03150152, ...,  0.02416584,\n",
       "         0.03921717, -0.01588716],\n",
       "       [-0.00193785, -0.10833081, -0.02132832, ...,  0.02514605,\n",
       "         0.04308847,  0.00535769],\n",
       "       [-0.00170237, -0.0403199 , -0.00079443, ...,  0.03331731,\n",
       "         0.01619621,  0.00622249]], dtype=float32)"
      ]
     },
     "execution_count": 39,
     "metadata": {},
     "output_type": "execute_result"
    }
   ],
   "source": [
    "model.docvecs.doctag_syn0"
   ]
  },
  {
   "cell_type": "code",
   "execution_count": 40,
   "metadata": {},
   "outputs": [
    {
     "name": "stderr",
     "output_type": "stream",
     "text": [
      "/usr/local/lib/python3.5/dist-packages/sklearn/externals/joblib/__init__.py:15: DeprecationWarning: sklearn.externals.joblib is deprecated in 0.21 and will be removed in 0.23. Please import this functionality directly from joblib, which can be installed with: pip install joblib. If this warning is raised when loading pickled models, you may need to re-serialize those models with scikit-learn 0.21+.\n",
      "  warnings.warn(msg, category=DeprecationWarning)\n"
     ]
    }
   ],
   "source": [
    "from sklearn.externals import joblib\n",
    "from sklearn.cluster import KMeans\n",
    "def kmeans(num_clusters, term_matrix):\n",
    "    km = KMeans(n_clusters=num_clusters, max_iter=1000000, n_jobs=6, n_init=30)\n",
    "    labels = km.fit_predict(term_matrix)\n",
    "    return km, labels, km.inertia_"
   ]
  },
  {
   "cell_type": "code",
   "execution_count": 41,
   "metadata": {},
   "outputs": [],
   "source": [
    "def tokenize_only(tweet):\n",
    "    return [stemmer.stem(x) for x in tweet.split(\" \") if re.search('[a-zA-Z]', x) and x not in stop_words.union({'msciurl', 'twitpicture', \"'s\"})]"
   ]
  },
  {
   "cell_type": "code",
   "execution_count": 42,
   "metadata": {},
   "outputs": [
    {
     "name": "stderr",
     "output_type": "stream",
     "text": [
      "/usr/local/lib/python3.5/dist-packages/ipykernel_launcher.py:4: DeprecationWarning: Call to deprecated `doctag_syn0` (Attribute will be removed in 4.0.0, use docvecs.vectors_docs instead).\n",
      "  after removing the cwd from sys.path.\n"
     ]
    },
    {
     "name": "stdout",
     "output_type": "stream",
     "text": [
      "Iter: 2 , Num Iter:  10 Inertia:  863.296003594314\n",
      "Iter: 4 , Num Iter:  11 Inertia:  295.2701163175038\n",
      "Iter: 8 , Num Iter:  21 Inertia:  117.03289177285872\n",
      "Iter: 10 , Num Iter:  45 Inertia:  92.07378926037057\n",
      "Iter: 20 , Num Iter:  22 Inertia:  53.25522906112761\n",
      "Iter: 30 , Num Iter:  60 Inertia:  45.90178518713665\n",
      "Iter: 40 , Num Iter:  31 Inertia:  43.36518998012289\n",
      "Iter: 50 , Num Iter:  62 Inertia:  41.95566885606441\n",
      "Iter: 60 , Num Iter:  59 Inertia:  40.86777523392397\n",
      "Iter: 70 , Num Iter:  34 Inertia:  39.985028793680044\n",
      "Iter: 80 , Num Iter:  43 Inertia:  39.274847311531104\n",
      "Iter: 90 , Num Iter:  63 Inertia:  38.68663642341765\n"
     ]
    },
    {
     "data": {
      "image/png": "[encoded data removed]",
      "text/plain": [
       "<Figure size 2160x720 with 1 Axes>"
      ]
     },
     "metadata": {
      "needs_background": "light"
     },
     "output_type": "display_data"
    }
   ],
   "source": [
    "from data_science_toolkit.clustering import find_optimal_num_clusters\n",
    "# tfidf_vectorizer = TfidfVectorizer(max_df=0.8, min_df=5, use_idf=True, tokenizer=tokenize_only, ngram_range=(1,5))\n",
    "# tfidf_matrix = tfidf_vectorizer.fit_transform(stock_tweet[\"preprocessed_text\"].tolist()) #fit the vectorizer to synopses\n",
    "find_optimal_num_clusters(model.docvecs.doctag_syn0, \"TF-IDF Matrix\", kmeans)"
   ]
  },
  {
   "cell_type": "code",
   "execution_count": 43,
   "metadata": {},
   "outputs": [
    {
     "name": "stderr",
     "output_type": "stream",
     "text": [
      "/usr/local/lib/python3.5/dist-packages/ipykernel_launcher.py:2: DeprecationWarning: Call to deprecated `doctag_syn0` (Attribute will be removed in 4.0.0, use docvecs.vectors_docs instead).\n",
      "  \n"
     ]
    }
   ],
   "source": [
    "num_clusters = 8\n",
    "km, labels, km.inertia_ = kmeans(num_clusters, model.docvecs.doctag_syn0)\n",
    "# After finding using elbow method...\n",
    "# joblib.dump(km,  'doc_cluster.pkl')\n",
    "# km = joblib.load('doc_cluster.pkl')\n",
    "# clusters = km.labels_.tolist()"
   ]
  },
  {
   "cell_type": "code",
   "execution_count": 44,
   "metadata": {},
   "outputs": [
    {
     "data": {
      "text/plain": [
       "(11994,)"
      ]
     },
     "execution_count": 44,
     "metadata": {},
     "output_type": "execute_result"
    }
   ],
   "source": [
    "labels.shape"
   ]
  },
  {
   "cell_type": "code",
   "execution_count": 48,
   "metadata": {},
   "outputs": [
    {
     "name": "stderr",
     "output_type": "stream",
     "text": [
      "/usr/local/lib/python3.5/dist-packages/ipykernel_launcher.py:4: DeprecationWarning: Call to deprecated `doctag_syn0` (Attribute will be removed in 4.0.0, use docvecs.vectors_docs instead).\n",
      "  after removing the cwd from sys.path.\n"
     ]
    },
    {
     "name": "stdout",
     "output_type": "stream",
     "text": [
      "Most Common Words (Counter) in Cluster 0\n",
      "[('twitpicture', 720), ('msciurl', 598), ('great', 388), ('thank', 352), ('america', 187)]\n",
      "Highest value TF-IDF Words in Cluster 0\n",
      "['save', 'twithashtagweeklyaddressflagunitedst', 'farmer', 'tremend', 'p.m.', 'perhap', 'berni', 'progress', 'eric', 'endors']\n",
      "Tweets in Cluster 0 with Lowest Centroid Distance:\n",
      "       center_dist  \\\n",
      "570    0.039139      \n",
      "1937   0.039666      \n",
      "11361  0.039946      \n",
      "3570   0.040116      \n",
      "9271   0.040811      \n",
      "10820  0.041287      \n",
      "7046   0.042085      \n",
      "9891   0.042424      \n",
      "7912   0.042475      \n",
      "10275  0.042714      \n",
      "\n",
      "                                                                 preprocessed_text  \n",
      "570    today we , together , won the republican nomination for president ! msciurl  \n",
      "1937   is this really america ? terrible ! twitpicture                              \n",
      "11361  twitpicture                                                                  \n",
      "3570   big wins against isis !                                                      \n",
      "9271   twitpicture                                                                  \n",
      "10820  twitpicture                                                                  \n",
      "7046   twitpicture                                                                  \n",
      "9891   twitpicture                                                                  \n",
      "7912   msciurl ...                                                                  \n",
      "10275  twitpicture                                                                  \n",
      "\n",
      "\n",
      "Most Common Words (Counter) in Cluster 1\n",
      "[('great', 331), ('twitpicture', 224), ('msciurl', 212), ('people', 202), ('president', 182)]\n",
      "Highest value TF-IDF Words in Cluster 1\n",
      "[\"'m\", 'incorrect', 'regul', 'remind', 'repeal', 'conspiraci', 'resist', 'consequ', 'rise', 'rocket']\n",
      "Tweets in Cluster 1 with Lowest Centroid Distance:\n",
      "       center_dist  \\\n",
      "9052   0.044189      \n",
      "302    0.045358      \n",
      "9583   0.045508      \n",
      "9015   0.046240      \n",
      "2863   0.046321      \n",
      "4153   0.046523      \n",
      "3181   0.046887      \n",
      "10248  0.046909      \n",
      "4688   0.047052      \n",
      "5845   0.047163      \n",
      "\n",
      "                                                                                                                                                                                                                                                                                     preprocessed_text  \n",
      "9052   \" it ' s the attack strategy of harass . this is not about the attorney general , who is very sophisticated & knows it isn ' t about him , it ' s about trying to destroy president trump through an assault on his ag for upholding the rule of law . he released a massive amount of ... ...   \n",
      "302    thank you indiana , we were just projected to be the winner . we have won in every category . you are very special people-i will never forget !                                                                                                                                                  \n",
      "9583   just departed for the twithashtagg20 summit in osaka , japan ! flagunitedstatesflagjapan twitpicture                                                                                                                                                                                             \n",
      "9015   ... .if we bought 15 billion dollars of agriculture from our farmers , far more than china buys now , we would have more than 85 billion dollars left over for new infrastructure , healthcare , or anything else . china would greatly slow down , and we would automatically speed up !        \n",
      "2863   congratulations treasury secretary steven mnuchin ! twithashtagicymi- watch here : msciurl ... twitpicture                                                                                                                                                                                       \n",
      "4153   results of recovery efforts will speak much louder than complaints by san juan mayor . doing everything we can to help great people of pr !                                                                                                                                                      \n",
      "3181   presidential memorandum for the twitmentioncommercegov , twitmentionsecretaryross re : aluminum imports and threats to national security : msciurl twitpicture                                                                                                                                   \n",
      "10248  ..deferral to december . it actually helps china more than us , but will be reciprocated . millions of jobs are being lost in china to other non-tariffed countries . thousands of companies are leaving . of course china wants to make a deal . let them work humanely with hong kong first !  \n",
      "4688   this is your land , this is your home , and it 's your voice that matters the most . so speak up , be heard , and fight , fight , fight for the change you 've been waiting for your entire life ! merry christmas and thank you pensacola , florida ! twitpicture                               \n",
      "5845   prime minister trudeau is being so indignant , bringing up the relationship that the u.s. and canada had over the many years and all sorts of other things ... but he doesn ' t bring up the fact that they charge us up to 300 % on dairy -- hurting our farmers , killing our agriculture !    \n",
      "\n",
      "\n",
      "Most Common Words (Counter) in Cluster 2\n",
      "[('great', 490), ('msciurl', 386), ('twitpicture', 380), ('people', 266), ('country', 201)]\n",
      "Highest value TF-IDF Words in Cluster 2\n",
      "['ran', 'rare', 'singl', 'shot', 'shape', 'septemb', 'sent', 'charlott', 'chicago', 'chief']\n",
      "Tweets in Cluster 2 with Lowest Centroid Distance:\n",
      "      center_dist  \\\n",
      "722   0.039133      \n",
      "4742  0.040845      \n",
      "5589  0.042672      \n",
      "1760  0.043389      \n",
      "4060  0.044389      \n",
      "3314  0.044857      \n",
      "9979  0.044901      \n",
      "5603  0.045427      \n",
      "1596  0.045731      \n",
      "6969  0.046087      \n",
      "\n",
      "                                                                                                                                                                                                                                                                                                     preprocessed_text  \n",
      "722   twithashtagflashbackfriday twithashtagcrookedhillary twitpicture                                                                                                                                                                                                                                                  \n",
      "4742  together , our task is to strengthen our families , to build up our communities , to serve our citizens , and to celebrate american greatness as a shining example to the world ... . twitpicture                                                                                                                 \n",
      "5589  looking forward to greeting the hostages ( no longer ) at 2:00 a.m .                                                                                                                                                                                                                                              \n",
      "1760  ' u.s . murders increased 10.8 % in 2015 ' via twitmentionwsj : msciurl ...                                                                                                                                                                                                                                       \n",
      "4060  will be in alabama tonight . luther strange has gained mightily since my endorsement , but will be very close . he loves alabama , and so do i !                                                                                                                                                                  \n",
      "3314  honoring the men and women who made the ultimate sacrifice in service to america . home of the free , because of the brave . twithashtagmemorialdayflagunitedstates                                                                                                                                               \n",
      "9979  president trump ' s approval rating on economy is at 52 % , a 4 point jump . fox poll twitmentionfoxandfriends shouldn ' t this be at 100 % ? best stock market , economy and unemployment numbers ever ! most people working within u.s. ever ! low interest rates , very low inflation ! country doing great !  \n",
      "5603  happy mother ' s day ! ! ! twitpicture                                                                                                                                                                                                                                                                            \n",
      "1596  more poll results from last nights commander-in-chief forum . twithashtagamericafirst twithashtagtrumptrain twitpicture                                                                                                                                                                                           \n",
      "6969  happy 7th birthday to tristan , a very special member of the trump family !                                                                                                                                                                                                                                       \n",
      "\n",
      "\n",
      "Most Common Words (Counter) in Cluster 3\n",
      "[('great', 99), ('president', 77), ('people', 73), ('trump', 56), ('twitpicture', 55)]\n",
      "Highest value TF-IDF Words in Cluster 3\n",
      "['expens', 'held', 'street', 'impact', 'subject', 'direct', 'race', 'japan', 'system', 'demand']\n",
      "Tweets in Cluster 3 with Lowest Centroid Distance:\n",
      "       center_dist  \\\n",
      "9925   0.046176      \n",
      "7214   0.047033      \n",
      "10352  0.047935      \n",
      "9556   0.048153      \n",
      "11798  0.048621      \n",
      "9415   0.048709      \n",
      "11413  0.048953      \n",
      "10072  0.049263      \n",
      "9571   0.050403      \n",
      "8238   0.051077      \n",
      "\n",
      "                                                                                                                                                                                                                                                                                               preprocessed_text  \n",
      "9925   ... .best and newest military ( almost totally rebuilt from the depleted military i took over ) in history , best v.a . in history ( choice ) , and much , much more . gee , let ' s impeach the president . the \" squad \" ( aoc plus 3 ) and other dems suffer from trump derangement syndrome . crazy !  \n",
      "7214   we are gathered together on this solemn occasion to fulfill our most reverent and sacred duty . 35 years ago , 241 american service members were murdered in the terrorist attack on our marine barracks in beirut , lebanon . today , we honor our fallen heroes ... twitpicture                          \n",
      "10352  germany sells 30 year bonds offering negative yields . germany competes with the usa . our federal reserve does not allow us to do what we must do . they put us at a disadvantage against our competition . strong dollar , no inflation ! they move like quicksand . fight or go home !                  \n",
      "9556   when our country had no debt and built everything from highways to the military with cash , we had a big system of tariffs . now we allow other countries to steal our wealth , treasure , and jobs - but no more ! the usa is doing great , with unlimited upside into the future !                       \n",
      "11798  ... .we send our deepest condolences to the families and friends of those tragically lost , and we pray for the speedy recovery of the wounded .                                                                                                                                                           \n",
      "9415   today , here in iowa , we honor america ' s cherished farming heritage . we salute your commitment to american energy independence -- and we celebrate the bright future we are forging together powered by clean , affordable american ethanol ! msciurl ...                                              \n",
      "11413  ... .therefore , based on both media & democrat crazed and irrational hostility , we will no longer consider trump national doral , miami , as the host site for the g-7 in 2020 . we will begin the search for another site , including the possibility of camp david , immediately . thank you !         \n",
      "10072  we should immediately pass voter id twitmentionvoteridplease to insure the safety and sanctity of our voting system . also , paper ballots as backup ( old fashioned but true ! ) . thank you !                                                                                                            \n",
      "9571   staff sgt . david bellavia - today , we honor your extraordinary courage , we salute your selfless service , and we thank you for carrying on the legacy of american valor that has always made our blessed nation the strongest and mightiest in the world ! twitpicture                                  \n",
      "8238   we are here to proclaim that a new day is coming in latin america . in venezuela and across the western hemisphere , socialism is dying - and liberty , prosperity , and democracy are being reborn ... msciurl ...                                                                                        \n",
      "\n",
      "\n",
      "Most Common Words (Counter) in Cluster 4\n",
      "[('great', 463), ('twitpicture', 313), ('msciurl', 281), ('people', 272), ('country', 207)]\n",
      "Highest value TF-IDF Words in Cluster 4\n",
      "['damag', 'quarter', 'quit', 'quo', 'traffic', 'ford', 'craze', 'crash', 'bail', 'baltimor']\n",
      "Tweets in Cluster 4 with Lowest Centroid Distance:\n",
      "       center_dist  \\\n",
      "10538  0.040388      \n",
      "10208  0.042877      \n",
      "6954   0.043198      \n",
      "11859  0.044819      \n",
      "10828  0.045476      \n",
      "270    0.045517      \n",
      "6634   0.045953      \n",
      "3872   0.046127      \n",
      "2436   0.046128      \n",
      "10655  0.046154      \n",
      "\n",
      "                                                                                                                                                                                                                                                                                             preprocessed_text  \n",
      "10538  the amazon washington post did a story that i brought racist attacks against the \" squad. \" no , they brought racist attacks against our nation . all i do is call them out for the horrible things they have said . the democrats have become the party of the squad !                                  \n",
      "10208  ... ..other than the fact that this administration has probably done more than any other administration in its first 2 1/2 years of existence . anthony , who would do anything to come back in , should remember the only reason he is on tv , and it ' s not for being the mooch !                     \n",
      "6954   senator richard blumenthal must talk about his fraudulent service in vietnam , where for 12 years he told the people of connecticut , as their attorney general , that he was a great marine war hero . talked about his many battles of near death , but was never in vietnam . total phony !           \n",
      "11859  republicans & others must remember , the ukrainian president and foreign minister both said that there was no pressure placed on them whatsoever . also , they didn ' t even know the money wasn ' t paid , and got the money with no conditions . but why isn ' t germany , france ( europe ) paying ?  \n",
      "10828  ... .with a foreign leader . was this person officially asked to listen to the conversation or was he or she secretly listening in ? \" twitmentiongreggjarrett                                                                                                                                           \n",
      "270    trump locks down delaware gop delegates . twithashtagtrump2016 twithashtagmaga msciurl ...                                                                                                                                                                                                               \n",
      "6634   \" consumer confidence pops in august to highest level since october 2000 \" msciurl ...                                                                                                                                                                                                                   \n",
      "3872   ... did n't do it so now we have a big deal with dems holding them up ( as usual ) on debt ceiling approval . could have been so easy-now a mess !                                                                                                                                                       \n",
      "2436   'president-elect donald j. trump nominates elaine chao as secretary of the department of transportation ' msciurl ...                                                                                                                                                                                    \n",
      "10655  ... the look of turmoil in the white house , of which there is none . i view much of the media as simply an arm of the democrat party . they are corrupt , and they are extremely upset at how well our country is doing under my leadership , including ...                                             \n",
      "\n",
      "\n",
      "Most Common Words (Counter) in Cluster 5\n",
      "[('great', 35), ('twitpicture', 27), ('people', 20), ('president', 19), ('new', 17)]\n",
      "Highest value TF-IDF Words in Cluster 5\n",
      "['york', 'put', 'god', 'guy', 'hillari', 'impact', 'inform', 'investig', 'king', 'larg']\n",
      "Tweets in Cluster 5 with Lowest Centroid Distance:\n",
      "       center_dist  \\\n",
      "4717   0.047229      \n",
      "7629   0.054788      \n",
      "5510   0.058570      \n",
      "7411   0.058722      \n",
      "5165   0.058966      \n",
      "10310  0.059412      \n",
      "5701   0.059538      \n",
      "10276  0.060836      \n",
      "10565  0.062021      \n",
      "9823   0.062028      \n",
      "\n",
      "                                                                                                                                                                                                                                                                                                   preprocessed_text  \n",
      "4717   today , we gathered in the roosevelt room for one single reason : to cut the red tape ! for many decades , an ever-growing maze of regs , rules , and restrictions has cost our country trillions of dollars , millions of jobs , countless american factories , & devastated entire industries . twitpicture  \n",
      "7629   watched da nang dick blumenthal on television spewing facts almost as accurate as his bravery in vietnam ( which he never saw ) . as the bullets whizzed by da nang dicks head , as he was saving soldiers ... .                                                                                               \n",
      "5510   ... .great people of montana will not stand for this kind of slander when talking of a great human being . admiral jackson is the kind of man that those in montana would most respect and admire , and now , for no reason whatsoever , his reputation has been shattered . not fair , tester !               \n",
      "7411   american cable association has big problems with comcast . they say that comcast routinely violates antitrust laws . \" these guys are acting much worse , and have much more potential for damage to consumers , than anything at & t-time warner would do. \" charlie gasparino                                \n",
      "5165   alec baldwin , whose dying mediocre career was saved by his terrible impersonation of me on snl , now says playing me was agony . alec , it was agony for those who were forced to watch . bring back darrell hammond , funnier and a far greater talent !                                                     \n",
      "10310  spoke to my two good friends , prime minister modi of india , and prime minister khan of pakistan , regarding trade , strategic partnerships and , most importantly , for india and pakistan to work towards reducing tensions in kashmir . a tough situation , but good conversations !                       \n",
      "5701   \" everyone knows there was a spy , and in fact the people who were involved in the spying are admitting that there was a spy ... widespread spying involving multiple people. \" mollie hemingway , the federalist senior editor but the corrupt mainstream media hates this monster story !                    \n",
      "10276  israel was very respectful & nice to rep. rashida tlaib , allowing her permission to visit her \" grandmother. \" as soon as she was granted permission , she grandstanded & loudly proclaimed she would not visit israel . could this possibly have been a setup ? israel acted appropriately !                 \n",
      "10565  1 . which country has the largest carbon emission reduction ? america ! 2. who has dumped the most carbon into the air ? china ! 3 . 91 % of the world ' s population are exposed to air pollution above the world health organization ' s suggested level . none are in the u.s.a. !                          \n",
      "9823   if democrats want to unite around the foul language & racist hatred spewed from the mouths and actions of these very unpopular & unrepresentative congresswomen , it will be interesting to see how it plays out . i can tell you that they have made israel feel abandoned by the u.s .                       \n",
      "\n",
      "\n",
      "Most Common Words (Counter) in Cluster 6\n",
      "[('great', 531), ('msciurl', 506), ('twitpicture', 480), ('thank', 307), ('people', 237)]\n",
      "Highest value TF-IDF Words in Cluster 6\n",
      "['humanitarian', 'ban', 'solv', 'social', 'opportun', 'twithashtagtaxreform', 'levin', 'simpl', 'construct', 'orlando']\n",
      "Tweets in Cluster 6 with Lowest Centroid Distance:\n",
      "      center_dist  \\\n",
      "2935  0.042846      \n",
      "4598  0.043077      \n",
      "960   0.043841      \n",
      "7031  0.044220      \n",
      "2132  0.044602      \n",
      "2357  0.044631      \n",
      "3809  0.045157      \n",
      "5956  0.045311      \n",
      "129   0.045400      \n",
      "2833  0.045494      \n",
      "\n",
      "                                                                                                                                                                                                                                                    preprocessed_text  \n",
      "2935  it is so pathetic that the dems have still not approved my full cabinet .                                                                                                                                                                                        \n",
      "4598  since the first day i took office , all you hear is the phony democrat excuse for losing the election , russia , russia , russia . despite this i have the economy booming and have possibly done more than any 10 month president . make america great again !  \n",
      "960   crooked hillary has once again been proven to be a person who is dishonest , incompetent and of very bad judgement .                                                                                                                                             \n",
      "7031  \" president donald j. trump approves florida emergency declaration \" msciurl ...                                                                                                                                                                                 \n",
      "2132  hillary & obama 's broken promises . twithashtagrepealobamacare twitpicture                                                                                                                                                                                      \n",
      "2357  still time to twithashtagvotetrump ! twithashtagivoted twithashtagelectionnight twitpicture - at trump tower                                                                                                                                                     \n",
      "3809  according to report just out , president obama knew about russian interference 3 years ago but he did n't want to anger russia !                                                                                                                                 \n",
      "5956  it ' s the democrats fault , they won ' t give us the votes needed to pass good immigration legislation . they want open borders , which breeds horrible crime . republicans want security . but i am working on something - it never ends !                     \n",
      "129   `` twitmentionwdct8110 : twitmentionrealdonaldtrump we love you donald ! finally someone who actually cares about us .. ! ! twitpicture                                                                                                                          \n",
      "2833  congratulations to our new attorney general , twitmentionsenatorsessions ! twitpicture                                                                                                                                                                           \n",
      "\n",
      "\n",
      "Most Common Words (Counter) in Cluster 7\n",
      "[('great', 244), ('people', 136), ('president', 124), ('twitpicture', 121), ('trump', 109)]\n",
      "Highest value TF-IDF Words in Cluster 7\n",
      "['island', 'dnc', 'paso', 'path', 'pathet', 'everybodi', 'brown', 'penc', 'brutal', 'bush']\n",
      "Tweets in Cluster 7 with Lowest Centroid Distance:\n",
      "       center_dist  \\\n",
      "6492   0.039414      \n",
      "7892   0.041638      \n",
      "9272   0.044592      \n",
      "5012   0.045926      \n",
      "11670  0.046253      \n",
      "7008   0.046626      \n",
      "2485   0.047520      \n",
      "11653  0.047583      \n",
      "5155   0.047694      \n",
      "9742   0.048135      \n",
      "\n",
      "                                                                                                                                                                                                                                                                                        preprocessed_text  \n",
      "6492   \" john brennan is a stain on the country , we deserve better than this. \" former secret service agent and author of new book , \" spygate , the attempted sabotage of donald j. trump , \" dan bongino . thank you dan , and good luck with the book !                                                \n",
      "7892   \" the number of employed americans has now set a 14th record under president trump . over the year , average hourly earnings have increased by 84 cents , or 3.2 % . participation rate hits trump-era high. \" cns news . and we will do even better with new trade deals and all else !            \n",
      "9272   just arrived in colorado . getting ready to deliver the commencement speech at the air force academy graduation . very exciting - probably will be broadcast live on tv . they want good ratings !                                                                                                  \n",
      "5012   representative devin nunes , a man of tremendous courage and grit , may someday be recognized as a great american hero for what he has exposed and what he has had to endure !                                                                                                                      \n",
      "11670  this is the time for mexico , with the help of the united states , to wage war on the drug cartels and wipe them off the face of the earth . we merely await a call from your great new president !                                                                                                 \n",
      "7008   i have asked steve daines , our great republican senator from montana , to attend his daughter annie ' s wedding rather than coming to today ' s vote . steve was ready to do whatever he had to , but we had the necessary number . to the daines family , congratulations-have a wonderful day !  \n",
      "2485   join me tomorrow ! twithashtagmaga 10am- baton rouge , la . tickets : msciurl ... 7pm- grand rapids , mi . tickets : msciurl                                                                                                                                                                        \n",
      "11653  the whistleblower gave false information & dealt with corrupt politician schiff . he must be brought forward to testify . written answers not acceptable ! where is the 2nd whistleblower ? he disappeared after i released the transcript . does he even exist ? where is the informant ? con !    \n",
      "5155   many ideas , some good & some not so good , emerged from our bipartisan meeting on school safety yesterday at the white house . background checks a big part of conversation . gun free zones are proven targets of killers . after many years , a bill should emerge . respect 2nd amendment !     \n",
      "9742   word just out that i won a big part of the deep state and democrat induced witch hunt . unanimous decision in my favor from the united states court of appeals for the fourth circuit on the ridiculous emoluments case . i don ' t make money , but lose a fortune for the honor of ... ..         \n",
      "\n",
      "\n"
     ]
    }
   ],
   "source": [
    "from sklearn.metrics import pairwise_distances_argmin_min\n",
    "doc_labels = km.labels_.tolist()\n",
    "centers = np.array(km.cluster_centers_)\n",
    "doc_vectors = model.docvecs.doctag_syn0.tolist()\n",
    "center_distances = [np.linalg.norm(vec-centers[label]) for vec, label in zip(doc_vectors, doc_labels)]\n",
    "len(center_distances)\n",
    "#     center_distance = \n",
    "# center_distances = list(map(lambda x: np.linalg.norm(centers[]-)))\n",
    "df = pd.DataFrame({\"preprocessed_text\": prep_all_tweets, \n",
    "                   \"cluster\": doc_labels, \n",
    "                   \"vector\": doc_vectors, \n",
    "                   \"center_dist\": center_distances})\n",
    "\n",
    "for i in range(num_clusters):\n",
    "    tmp = df[df[\"cluster\"] == i]\n",
    "    tmp = tmp.sort_values(by=\"center_dist\", ascending=True)\n",
    "    print(\"Most Common Words (Counter) in Cluster {}\".format(i))\n",
    "    print(Counter(filtered_word_array(' '.join(tmp['preprocessed_text'].tolist()))).most_common(5))\n",
    "    print(\"Highest value TF-IDF Words in Cluster {}\".format(i))\n",
    "    vectorizer = TfidfVectorizer(min_df=5, max_df=0.8, tokenizer=tokenize_only)\n",
    "    X = vectorizer.fit_transform(tmp['preprocessed_text'].tolist())\n",
    "    indices = np.argsort(vectorizer.idf_)[::-1]\n",
    "    features = vectorizer.get_feature_names()\n",
    "    top_n = 10\n",
    "    top_features = [features[i] for i in indices[:top_n]]\n",
    "    print(top_features)\n",
    "    print(\"Tweets in Cluster {} with Lowest Centroid Distance:\".format(i))\n",
    "    print(tmp.head(10)[[\"center_dist\", 'preprocessed_text']])\n",
    "    print()\n",
    "    print()"
   ]
  },
  {
   "cell_type": "markdown",
   "metadata": {},
   "source": [
    "## 3.3 LDA for Topic Clustering - SKIPPING FOR NOW, SINCE IT'S NOT TECHNICALLY PART OF THE REPORT"
   ]
  },
  {
   "cell_type": "markdown",
   "metadata": {},
   "source": [
    "This section focuses on using Latent Dirichlet Allocation (LDA). LDA is a probabilistic topic model that assumes documents are a mixture of topics and that each word in the document is attributable to the document's topics. \n",
    "https://en.wikipedia.org/wiki/Latent_Dirichlet_allocation\n",
    "\n",
    "HAD TO ADD THE WORD \"GREAT\" TO THE STOPWORD LIST BECAUSE IT WAS IN LITERALLY EVERY CLUSTER..."
   ]
  },
  {
   "cell_type": "code",
   "execution_count": null,
   "metadata": {},
   "outputs": [],
   "source": [
    "# Remove proper nouns (in this case get rid of all mentions)\n",
    "# TRUMP ==============================================================================================================\n",
    "stock_tweet['preprocessed_no_mentions'] = stock_tweet['preprocessed_text'].apply(lambda tweet: ' '.join([w for w in tweet.split(' ') \n",
    "                                                                                                               if w not in stop_words.union({'msciurl', 'twitpicture', 'great'}) \n",
    "                                                                                                               and re.search('[a-zA-Z]', w)]))\n",
    "\n",
    "# ELON MUSK ===========================================================================================================\n",
    "# Remove proper nouns (in this case get rid of all mentions)\n",
    "# stock_tweet['preprocessed_no_mentions'] = stock_tweet['preprocessed_text'].apply(lambda tweet: ' '.join([w for w in tweet.split(' ') \n",
    "#                                                                                                                if w not in stop_words.union({'msciurl', 'twitpicture', \"'s'\"}) \n",
    "#                                                                                                                and re.search('[a-zA-Z]', w)]))"
   ]
  },
  {
   "cell_type": "code",
   "execution_count": null,
   "metadata": {},
   "outputs": [],
   "source": [
    "texts = [[ting for ting in x.split(\" \") if ting != ''] for x in stock_tweet['preprocessed_no_mentions'].tolist()]\n",
    "#create a Gensim dictionary from the texts\n",
    "dictionary = corpora.Dictionary(texts)\n",
    "\n",
    "#remove extremes (similar to the min/max df step used when creating the tf-idf matrix)\n",
    "dictionary.filter_extremes(no_below=1, no_above=0.3)\n",
    "# 0.21\n",
    "\n",
    "#convert the dictionary to a bag of words corpus for reference\n",
    "corpus = [dictionary.doc2bow(text) for text in texts]"
   ]
  },
  {
   "cell_type": "code",
   "execution_count": null,
   "metadata": {},
   "outputs": [],
   "source": [
    "coherence_scores = []\n",
    "for i in range(2, 50, 2):\n",
    "    lda = models.LdaMulticore(corpus, num_topics=i, \n",
    "                                id2word=dictionary, iterations=500)\n",
    "    coherence_model_lda = CoherenceModel(model=lda, texts=texts, dictionary=dictionary, coherence='c_v')\n",
    "    coherence_lda = coherence_model_lda.get_coherence()\n",
    "    coherence_scores.append(coherence_lda)"
   ]
  },
  {
   "cell_type": "code",
   "execution_count": null,
   "metadata": {},
   "outputs": [],
   "source": [
    "# coherence_scores"
   ]
  },
  {
   "cell_type": "code",
   "execution_count": null,
   "metadata": {},
   "outputs": [],
   "source": [
    "plt.plot([x for x in range(2, 50, 2)], coherence_scores)\n",
    "plt.ylabel(\"Coherence Scores\")\n",
    "plt.xlabel(\"Num Topics\")"
   ]
  },
  {
   "cell_type": "code",
   "execution_count": null,
   "metadata": {},
   "outputs": [],
   "source": [
    "lda_num_topics = 12"
   ]
  },
  {
   "cell_type": "code",
   "execution_count": null,
   "metadata": {},
   "outputs": [],
   "source": [
    "lda = models.LdaMulticore(corpus, num_topics=lda_num_topics, iterations=500,\n",
    "                                id2word=dictionary)"
   ]
  },
  {
   "cell_type": "code",
   "execution_count": null,
   "metadata": {},
   "outputs": [],
   "source": [
    "lda.show_topics(num_topics=lda_num_topics)"
   ]
  },
  {
   "cell_type": "markdown",
   "metadata": {},
   "source": [
    "- The area of circle represents the importance of each topic over the entire corpus\n",
    "- The distance between the center of circles indicate the similarity between topics.\n",
    "- Indices = sorted order by area\n",
    "- Blue = overall term frequency\n",
    "- Red = term freq within selected topic\n",
    "- Lambda: trying to strike a balance between choosing general vs specific words (lambda=0 means super specific - exclusively popular for this topic)\n",
    "- If some topics contain general words/feelings/sentiments"
   ]
  },
  {
   "cell_type": "code",
   "execution_count": null,
   "metadata": {},
   "outputs": [],
   "source": [
    "# https://www.machinelearningplus.com/nlp/topic-modeling-visualization-how-to-present-results-lda-models/\n",
    "def format_topics_sentences(ldamodel, corpus, texts):\n",
    "    # Init output\n",
    "    sent_topics_df = pd.DataFrame()\n",
    "    # Get main topic in each document\n",
    "    for i, row_list in enumerate(ldamodel[corpus]):\n",
    "        row = row_list[0] if ldamodel.per_word_topics else row_list            \n",
    "        # print(row)\n",
    "        row = sorted(row, key=lambda x: (x[1]), reverse=True)\n",
    "        # Get the Dominant topic, Perc Contribution and Keywords for each document\n",
    "        for j, (topic_num, prop_topic) in enumerate(row):\n",
    "            if j == 0:  # => dominant topic\n",
    "                wp = ldamodel.show_topic(topic_num)\n",
    "                topic_keywords = \", \".join([word for word, prop in wp])\n",
    "                sent_topics_df = sent_topics_df.append(pd.Series([int(topic_num), round(prop_topic,4), topic_keywords]), ignore_index=True)\n",
    "            else:\n",
    "                break\n",
    "    sent_topics_df.columns = ['Dominant_Topic', 'Perc_Contribution', 'Topic_Keywords']\n",
    "\n",
    "    # Add original text to the end of the output\n",
    "    contents = pd.Series(texts)\n",
    "    sent_topics_df = pd.concat([sent_topics_df, contents], axis=1)\n",
    "    return(sent_topics_df)"
   ]
  },
  {
   "cell_type": "code",
   "execution_count": null,
   "metadata": {},
   "outputs": [],
   "source": [
    "df_topic_sents_keywords = format_topics_sentences(ldamodel=lda, corpus=corpus, texts=texts)\n",
    "\n",
    "# Format\n",
    "df_dominant_topic = df_topic_sents_keywords.reset_index()\n",
    "df_dominant_topic.columns = ['Document_No', 'Dominant_Topic', 'Topic_Perc_Contrib', 'Keywords', 'Text']\n",
    "# df_dominant_topic.head(10)\n",
    "df_dominant_topic['preprocessed_text'] = prep_all_tweets"
   ]
  },
  {
   "cell_type": "code",
   "execution_count": null,
   "metadata": {},
   "outputs": [],
   "source": [
    "# Top 3 Keywords for each Topic\n",
    "topic_top3words = [(i, topic) for i, topics in lda.show_topics(num_topics=lda_num_topics, formatted=False) \n",
    "                                 for j, (topic, wt) in enumerate(topics) if j < 3]\n",
    "\n",
    "# print(lda.show_topics(num_topics=lda_num_topics, formatted=False))\n",
    "\n",
    "df_top3words_stacked = pd.DataFrame(topic_top3words, columns=['topic_id', 'words'])\n",
    "df_top3words = df_top3words_stacked.groupby('topic_id').agg(' '.join)\n",
    "df_top3words.reset_index(level=0,inplace=True)\n",
    "df_top3words"
   ]
  },
  {
   "cell_type": "code",
   "execution_count": null,
   "metadata": {},
   "outputs": [],
   "source": [
    "df = None\n",
    "sample_size=5\n",
    "for i in range(lda_num_topics):\n",
    "    curr_cluster = df_dominant_topic[df_dominant_topic['Dominant_Topic'] == i].sort_values(by='Topic_Perc_Contrib', ascending=False)\n",
    "    if df is None:\n",
    "        df = curr_cluster.head(sample_size)#.sample(n=min(sample_size, len(curr_cluster.index)-1))\n",
    "    else:\n",
    "        df = df.append(curr_cluster.head(sample_size))#curr_cluster.sample(n=min(sample_size, len(curr_cluster.index)-1)))\n",
    "    df = df.append(pd.Series(), ignore_index=True)\n",
    "df[[\"preprocessed_text\", \"Dominant_Topic\", 'Topic_Perc_Contrib']]"
   ]
  },
  {
   "cell_type": "markdown",
   "metadata": {},
   "source": [
    "# SAVE DATA (COMMENTED OUT)"
   ]
  },
  {
   "cell_type": "code",
   "execution_count": null,
   "metadata": {},
   "outputs": [],
   "source": [
    "# lda.save('44_clusters_removed_great_lda.model')\n",
    "# df.to_csv('lda_44_clusters_removed_great.csv', index=False)"
   ]
  },
  {
   "cell_type": "markdown",
   "metadata": {},
   "source": [
    "# LDA VISUALIZATION"
   ]
  },
  {
   "cell_type": "code",
   "execution_count": null,
   "metadata": {},
   "outputs": [],
   "source": [
    "import pyLDAvis.gensim\n",
    "pyLDAvis.enable_notebook()\n",
    "vis = pyLDAvis.gensim.prepare(lda, corpus, dictionary=lda.id2word)\n",
    "vis"
   ]
  },
  {
   "cell_type": "markdown",
   "metadata": {},
   "source": [
    "# 4.0 Distributions"
   ]
  },
  {
   "cell_type": "markdown",
   "metadata": {},
   "source": [
    "## 4.1.1 Time of Day (Up vs Down)"
   ]
  },
  {
   "cell_type": "code",
   "execution_count": null,
   "metadata": {},
   "outputs": [],
   "source": [
    "fig, ax = get_fig_ax(1, 1, 20, 8)\n",
    "ax = generate_histogram(stock_tweet[stock_tweet[output_col] == 1][\"created_hour\"], ax, 0, 0, \"Hour of Day\", \"Tweets (%)\", \n",
    "                        \"Number of Tweets vs. Time of Day (Above Monthly Average)\", True, show_mean=False, show_sd=False, show_best_fit=False)\n",
    "fig, ax = get_fig_ax(1, 1, 20, 8)\n",
    "ax = generate_histogram(stock_tweet[stock_tweet[output_col] == 0][\"created_hour\"], ax, 0, 0, \"Hour of Day\", \"Tweets (%)\", \n",
    "                        \"Number of Tweets vs. Time of Day (Below Monthly Average)\", True, show_mean=False, show_sd=False, show_best_fit=False)"
   ]
  },
  {
   "cell_type": "markdown",
   "metadata": {},
   "source": [
    "## 4.2.1 Day of Week (Up vs Down)"
   ]
  },
  {
   "cell_type": "code",
   "execution_count": null,
   "metadata": {},
   "outputs": [],
   "source": [
    "fig, ax = get_fig_ax(1, 1, 20, 8)\n",
    "ax = generate_histogram(stock_tweet[stock_tweet[output_col] == 1][\"dow\"], ax, 0, 0, \"Day of Week\", \"Tweets (%)\", \n",
    "                        \"Number of Tweets vs. Day of Week (Above Monthly Average)\", False, show_mean=False, show_sd=False, show_best_fit=False)\n",
    "fig, ax = get_fig_ax(1, 1, 20, 8)\n",
    "ax = generate_histogram(stock_tweet[stock_tweet[output_col] == 0][\"dow\"], ax, 0, 0, \"Day of Week\", \"Tweets (%)\", \n",
    "                        \"Number of Tweets vs. Day of Week (Below Monthly Average)\", False, show_mean=False, show_sd=False, show_best_fit=False)"
   ]
  },
  {
   "cell_type": "markdown",
   "metadata": {},
   "source": [
    "## 4.3 Num Retweets over Time"
   ]
  },
  {
   "cell_type": "code",
   "execution_count": null,
   "metadata": {},
   "outputs": [],
   "source": [
    "from data_science_toolkit.file_ops import read_pkl\n",
    "dt_avg = read_pkl(\"dt_avg_{}.pkl\".format(file_name))"
   ]
  },
  {
   "cell_type": "code",
   "execution_count": null,
   "metadata": {},
   "outputs": [],
   "source": [
    "avg_retweets, dates = [], []\n",
    "for year in dt_avg:\n",
    "    for month in dt_avg[year]:\n",
    "        avg_retweets.append(dt_avg[year][month])\n",
    "        dates.append(datetime(year, month, 1))\n",
    "dates, avg_retweets = list(zip(*sorted(list(zip(dates, avg_retweets)), key=lambda x: x[0])))"
   ]
  },
  {
   "cell_type": "markdown",
   "metadata": {},
   "source": [
    "# Average Number of Retweets per Month\n",
    "- The average number of retweets Trump gets per month varies significantly, and also jumped during the middle of the year (around when he got elected)\n",
    "- This makes comparing to a monthly average more appropriate"
   ]
  },
  {
   "cell_type": "code",
   "execution_count": null,
   "metadata": {},
   "outputs": [],
   "source": [
    "fig = plt.figure(figsize=(30, 10))\n",
    "plt.plot(dates, avg_retweets)\n",
    "fig.suptitle('Monthly Retweet Average')\n",
    "plt.xlabel('Year/Month')\n",
    "plt.ylabel('Num Retweets')\n",
    "plt.xticks(dates, [x.strftime('%m-%d-%Y') for x in dates], rotation=90)\n",
    "plt.grid(True)\n",
    "plt.show()"
   ]
  },
  {
   "cell_type": "markdown",
   "metadata": {},
   "source": [
    "## 5.1 Tweet Anatomy"
   ]
  },
  {
   "cell_type": "code",
   "execution_count": null,
   "metadata": {},
   "outputs": [],
   "source": [
    "fig, ax = get_fig_ax(1, 1, 20, 8)\n",
    "ax = generate_histogram(stock_tweet[stock_tweet[output_col] == 1][\"num_words\"], ax, 0, 0, \n",
    "                        \"Number of Words in Tweet\", \"Tweets (%)\", \"Number of Tweets vs. Number of Words in Tweet (Above Monthly Average)\", True, \n",
    "                        show_sd=False, show_best_fit=False)\n",
    "fig, ax = get_fig_ax(1, 1, 20, 8)\n",
    "ax = generate_histogram(stock_tweet[stock_tweet[output_col] == 0][\"num_words\"], ax, 0, 0, \n",
    "                        \"Number of Words in Tweet\", \"Tweets (%)\", \"Number of Tweets vs. Number of Words in Tweet (Below Monthly Average)\", True, \n",
    "                        show_sd=False, show_best_fit=False)"
   ]
  },
  {
   "cell_type": "code",
   "execution_count": null,
   "metadata": {},
   "outputs": [],
   "source": [
    "# stock_tweet[since_election.num_words > 55]"
   ]
  },
  {
   "cell_type": "code",
   "execution_count": null,
   "metadata": {},
   "outputs": [],
   "source": [
    "set(stock_tweet[stock_tweet[output_col] == 0]['num_links'].tolist())"
   ]
  },
  {
   "cell_type": "code",
   "execution_count": null,
   "metadata": {},
   "outputs": [],
   "source": [
    "fig, ax = get_fig_ax(1, 1, 20, 8)\n",
    "ax = generate_histogram(stock_tweet[stock_tweet[output_col] == 1][\"num_links\"], ax, 0, 0, \n",
    "                        \"Number of Links in Tweet\", \"Tweets (%)\", \"Number of Tweets vs. Number of Links in Tweet (Above Monthly Average)\", True, \n",
    "                        show_sd=False, show_best_fit=False)\n",
    "fig, ax = get_fig_ax(1, 1, 20, 8)\n",
    "ax = generate_histogram(stock_tweet[stock_tweet[output_col] == 0][\"num_links\"], ax, 0, 0, \n",
    "                        \"Number of Links in Tweet\", \"Tweets (%)\", \"Number of Tweets vs. Number of Links in Tweet (Below Monthly Average)\", True, \n",
    "                        show_sd=False, show_best_fit=False)"
   ]
  },
  {
   "cell_type": "code",
   "execution_count": null,
   "metadata": {},
   "outputs": [],
   "source": [
    "fig, ax = get_fig_ax(1, 1, 20, 8)\n",
    "ax = generate_histogram(stock_tweet[stock_tweet[output_col] == 1][\"percent_caps\"], ax, 0, 0, \n",
    "                        \"Percent Caps\", \"Tweets (%)\", \"Number of Tweets vs. Percent Caps (Above Monthly Average)\", True, \n",
    "                        show_sd=False, show_best_fit=False)\n",
    "fig, ax = get_fig_ax(1, 1, 20, 8)\n",
    "ax = generate_histogram(stock_tweet[stock_tweet[output_col] == 0][\"percent_caps\"], ax, 0, 0, \n",
    "                        \"Percent Caps\", \"Tweets (%)\", \"Number of Tweets vs. Percent Caps (Below Monthly Average)\", True, \n",
    "                        show_sd=False, show_best_fit=False)"
   ]
  },
  {
   "cell_type": "code",
   "execution_count": null,
   "metadata": {},
   "outputs": [],
   "source": [
    "fig, ax = get_fig_ax(1, 1, 20, 8)\n",
    "ax = generate_histogram(stock_tweet[stock_tweet[output_col] == 1][\"num_hashtags\"], ax, 0, 0, \n",
    "                        \"Num Hashtags\", \"Tweets (%)\", \"Number of Tweets vs. Num Hashtags (Above Monthly Average)\", True, \n",
    "                        show_sd=False, show_best_fit=False)\n",
    "fig, ax = get_fig_ax(1, 1, 20, 8)\n",
    "ax = generate_histogram(stock_tweet[stock_tweet[output_col] == 0][\"num_hashtags\"], ax, 0, 0, \n",
    "                        \"Num Hashtags\", \"Tweets (%)\", \"Number of Tweets vs. Num Hashtags (Below Monthly Average)\", True, \n",
    "                        show_sd=False, show_best_fit=False)"
   ]
  },
  {
   "cell_type": "code",
   "execution_count": null,
   "metadata": {},
   "outputs": [],
   "source": [
    "fig, ax = get_fig_ax(1, 1, 20, 8)\n",
    "ax = generate_histogram(stock_tweet[stock_tweet[output_col] == 1][\"num_mentions\"], ax, 0, 0, \n",
    "                        \"Num Mentions\", \"Tweets (%)\", \"Number of Tweets vs. Num Mentions (Above Monthly Average)\", True, \n",
    "                        show_sd=False, show_best_fit=False)\n",
    "fig, ax = get_fig_ax(1, 1, 20, 8)\n",
    "ax = generate_histogram(stock_tweet[stock_tweet[output_col] == 0][\"num_mentions\"], ax, 0, 0, \n",
    "                        \"Num Mentions\", \"Tweets (%)\", \"Number of Tweets vs. Num Mentions (Below Monthly Average)\", True, \n",
    "                        show_sd=False, show_best_fit=False)"
   ]
  },
  {
   "cell_type": "code",
   "execution_count": null,
   "metadata": {},
   "outputs": [],
   "source": [
    "fig, ax = get_fig_ax(1, 1, 20, 8)\n",
    "ax = generate_histogram(stock_tweet[stock_tweet[output_col] == 1][\"num_videos\"], ax, 0, 0, \n",
    "                        \"Num Videos\", \"Tweets (%)\", \"Number of Tweets vs. Num Videos (Above Monthly Average)\", True, \n",
    "                        show_sd=False, show_best_fit=False)\n",
    "fig, ax = get_fig_ax(1, 1, 20, 8)\n",
    "ax = generate_histogram(stock_tweet[stock_tweet[output_col] == 0][\"num_videos\"], ax, 0, 0, \n",
    "                        \"Num Videos\", \"Tweets (%)\", \"Number of Tweets vs. Num Videos (Below Monthly Average)\", True, \n",
    "                        show_sd=False, show_best_fit=False)"
   ]
  },
  {
   "cell_type": "code",
   "execution_count": null,
   "metadata": {},
   "outputs": [],
   "source": [
    "fig, ax = get_fig_ax(1, 1, 20, 8)\n",
    "ax = generate_histogram(stock_tweet[stock_tweet[output_col] == 1][\"num_photos\"], ax, 0, 0, \n",
    "                        \"Num Photos\", \"Tweets (%)\", \"Number of Tweets vs. Num Photos (Above Monthly Average)\", True, \n",
    "                        show_sd=False, show_best_fit=False)\n",
    "fig, ax = get_fig_ax(1, 1, 20, 8)\n",
    "ax = generate_histogram(stock_tweet[stock_tweet[output_col] == 0][\"num_photos\"], ax, 0, 0, \n",
    "                        \"Num Photos\", \"Tweets (%)\", \"Number of Tweets vs. Num Photos (Below Monthly Average)\", True, \n",
    "                        show_sd=False, show_best_fit=False)"
   ]
  },
  {
   "cell_type": "code",
   "execution_count": null,
   "metadata": {},
   "outputs": [],
   "source": [
    "# stock_tweet.head(10)"
   ]
  },
  {
   "cell_type": "code",
   "execution_count": null,
   "metadata": {},
   "outputs": [],
   "source": [
    "# since_election.head(10)"
   ]
  },
  {
   "cell_type": "markdown",
   "metadata": {},
   "source": [
    "## This is what we will be using for models..."
   ]
  },
  {
   "cell_type": "code",
   "execution_count": null,
   "metadata": {},
   "outputs": [],
   "source": [
    "stock_tweet.to_csv('./since_election_with_cluster_{}'.format(file_name), index=False)"
   ]
  },
  {
   "cell_type": "code",
   "execution_count": null,
   "metadata": {},
   "outputs": [],
   "source": []
  }
 ],
 "metadata": {
  "kernelspec": {
   "display_name": "Python 3",
   "language": "python",
   "name": "python3"
  },
  "language_info": {
   "codemirror_mode": {
    "name": "ipython",
    "version": 3
   },
   "file_extension": ".py",
   "mimetype": "text/x-python",
   "name": "python",
   "nbconvert_exporter": "python",
   "pygments_lexer": "ipython3",
   "version": "3.5.2"
  }
 },
 "nbformat": 4,
 "nbformat_minor": 4
}
