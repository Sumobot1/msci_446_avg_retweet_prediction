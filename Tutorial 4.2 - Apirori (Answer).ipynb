{
 "cells": [
  {
   "cell_type": "markdown",
   "metadata": {},
   "source": [
    "# Apriori\n",
    "\n",
    "Hint 1: Use mlxtend\n",
    "\n",
    "Hint 2: See http://rasbt.github.io/mlxtend/user_guide/frequent_patterns/apriori/ for a working example"
   ]
  },
  {
   "cell_type": "code",
   "execution_count": null,
   "metadata": {},
   "outputs": [],
   "source": [
    "#################################\n",
    "#\n",
    "# Example adapted from http://intelligentonlinetools.com/blog/2018/02/10/how-to-create-data-visualization-for-association-rules-in-data-mining/\n",
    "#\n",
    "#################################"
   ]
  },
  {
   "cell_type": "code",
   "execution_count": 1,
   "metadata": {},
   "outputs": [],
   "source": [
    "# Import necessary python libraries\n",
    "import pandas as pd\n",
    "import csv\n",
    "from mlxtend.preprocessing import TransactionEncoder\n",
    "from mlxtend.frequent_patterns import apriori, association_rules"
   ]
  },
  {
   "cell_type": "code",
   "execution_count": 7,
   "metadata": {
    "scrolled": true
   },
   "outputs": [
    {
     "name": "stdout",
     "output_type": "stream",
     "text": [
      "['Milk', 'Onion', 'Nutmeg', 'Kidney Beans', 'Eggs', 'Yogurt']\n",
      "['Dill', 'Onion', 'Nutmeg', 'Kidney Beans', 'Eggs', 'Yogurt']\n",
      "['Milk', 'Apple', 'Kidney Beans', 'Eggs', '', '']\n",
      "['Milk', 'Unicorn', 'Corn', 'Kidney Beans', 'Yogurt', '']\n",
      "['Corn', 'Onion', 'Onion', 'Kidney Beans', 'Ice Cream', 'Eggs']\n"
     ]
    }
   ],
   "source": [
    "# Read in CSV file into an array of arrays\n",
    "dataset = []\n",
    "with open('aprioriData1.csv') as f:\n",
    "\treader = csv.reader(f)\n",
    "\tfor row in reader:\n",
    "\t\tdataset.append(row)\n",
    "for row in dataset: \n",
    "\tprint(row)\n",
    "\n"
   ]
  },
  {
   "cell_type": "code",
   "execution_count": 8,
   "metadata": {},
   "outputs": [
    {
     "name": "stdout",
     "output_type": "stream",
     "text": [
      "          Apple   Corn   Dill   Eggs  Ice Cream  Kidney Beans   Milk  Nutmeg  \\\n",
      "0  False  False  False  False   True      False          True   True    True   \n",
      "1  False  False  False   True   True      False          True  False    True   \n",
      "2   True   True  False  False   True      False          True   True   False   \n",
      "3   True  False   True  False  False      False          True   True   False   \n",
      "4  False  False   True  False   True       True          True  False   False   \n",
      "\n",
      "   Onion  Unicorn  Yogurt  \n",
      "0   True    False    True  \n",
      "1   True    False    True  \n",
      "2  False    False   False  \n",
      "3  False     True    True  \n",
      "4   True    False   False  \n"
     ]
    }
   ],
   "source": [
    "# Transform your data for the apriori algorithm\n",
    "oht = TransactionEncoder()\n",
    "oht_ary = oht.fit(dataset).transform(dataset)\n",
    "df = pd.DataFrame(oht_ary, columns=oht.columns_)\n",
    "print(df)"
   ]
  },
  {
   "cell_type": "code",
   "execution_count": 5,
   "metadata": {},
   "outputs": [
    {
     "name": "stdout",
     "output_type": "stream",
     "text": [
      "    support                     itemsets\n",
      "0       0.8                       (Eggs)\n",
      "1       1.0               (Kidney Beans)\n",
      "2       0.6                       (Milk)\n",
      "3       0.6                      (Onion)\n",
      "4       0.6                     (Yogurt)\n",
      "5       0.8         (Eggs, Kidney Beans)\n",
      "6       0.6                (Onion, Eggs)\n",
      "7       0.6         (Milk, Kidney Beans)\n",
      "8       0.6        (Onion, Kidney Beans)\n",
      "9       0.6       (Yogurt, Kidney Beans)\n",
      "10      0.6  (Onion, Eggs, Kidney Beans)\n"
     ]
    }
   ],
   "source": [
    "frequent_itemsets = apriori(df, min_support=0.6, use_colnames=True)\n",
    "print(frequent_itemsets)"
   ]
  },
  {
   "cell_type": "code",
   "execution_count": 6,
   "metadata": {},
   "outputs": [
    {
     "name": "stdout",
     "output_type": "stream",
     "text": [
      "              antecedents            consequents  support  confidence\n",
      "0                  (Eggs)         (Kidney Beans)      0.8        1.00\n",
      "1          (Kidney Beans)                 (Eggs)      0.8        0.80\n",
      "2                 (Onion)                 (Eggs)      0.6        1.00\n",
      "3                  (Eggs)                (Onion)      0.6        0.75\n",
      "4                  (Milk)         (Kidney Beans)      0.6        1.00\n",
      "5                 (Onion)         (Kidney Beans)      0.6        1.00\n",
      "6                (Yogurt)         (Kidney Beans)      0.6        1.00\n",
      "7           (Onion, Eggs)         (Kidney Beans)      0.6        1.00\n",
      "8   (Onion, Kidney Beans)                 (Eggs)      0.6        1.00\n",
      "9    (Eggs, Kidney Beans)                (Onion)      0.6        0.75\n",
      "10                (Onion)   (Eggs, Kidney Beans)      0.6        1.00\n",
      "11                 (Eggs)  (Onion, Kidney Beans)      0.6        0.75\n"
     ]
    }
   ],
   "source": [
    "rules = association_rules(frequent_itemsets, metric=\"confidence\", min_threshold=0.7)\n",
    "print(rules[['antecedents', 'consequents', 'support', 'confidence']])"
   ]
  },
  {
   "cell_type": "code",
   "execution_count": null,
   "metadata": {},
   "outputs": [],
   "source": []
  }
 ],
 "metadata": {
  "kernelspec": {
   "display_name": "Python 3",
   "language": "python",
   "name": "python3"
  },
  "language_info": {
   "codemirror_mode": {
    "name": "ipython",
    "version": 3
   },
   "file_extension": ".py",
   "mimetype": "text/x-python",
   "name": "python",
   "nbconvert_exporter": "python",
   "pygments_lexer": "ipython3",
   "version": "3.5.2"
  },
  "varInspector": {
   "cols": {
    "lenName": 16,
    "lenType": 16,
    "lenVar": 40
   },
   "kernels_config": {
    "python": {
     "delete_cmd_postfix": "",
     "delete_cmd_prefix": "del ",
     "library": "var_list.py",
     "varRefreshCmd": "print(var_dic_list())"
    },
    "r": {
     "delete_cmd_postfix": ") ",
     "delete_cmd_prefix": "rm(",
     "library": "var_list.r",
     "varRefreshCmd": "cat(var_dic_list()) "
    }
   },
   "types_to_exclude": [
    "module",
    "function",
    "builtin_function_or_method",
    "instance",
    "_Feature"
   ],
   "window_display": false
  }
 },
 "nbformat": 4,
 "nbformat_minor": 2
}
