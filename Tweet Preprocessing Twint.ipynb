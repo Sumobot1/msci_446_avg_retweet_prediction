{
 "cells": [
  {
   "cell_type": "code",
   "execution_count": 1,
   "metadata": {},
   "outputs": [],
   "source": [
    "import pandas as pd\n",
    "from datetime import datetime, timedelta\n",
    "import numpy as np\n",
    "import re\n",
    "from data_science_toolkit.string_ops import remove_newlines, remove_excess_spaces, normalize_links, lower, custom_replace, html_to_unicode, unicode_to_html\n",
    "from data_science_toolkit.utils import parallel_compute\n",
    "import nltk\n",
    "from unidecode import unidecode\n",
    "import numpy as np\n",
    "from collections import defaultdict\n",
    "from dateutil import relativedelta\n",
    "from data_science_toolkit.file_ops import write_pkl\n",
    "from ast import literal_eval"
   ]
  },
  {
   "cell_type": "code",
   "execution_count": 2,
   "metadata": {},
   "outputs": [],
   "source": [
    "pd.set_option('display.max_colwidth', -1)\n",
    "pd.set_option('display.max_rows', 500)"
   ]
  },
  {
   "cell_type": "markdown",
   "metadata": {},
   "source": [
    "# CHANGE THIS WHEN USING A DIFFERENT TWITTER ACCOUNT!!"
   ]
  },
  {
   "cell_type": "code",
   "execution_count": 3,
   "metadata": {},
   "outputs": [],
   "source": [
    "input_file_name = 'realDonaldTrump_all_tweets_twint.csv'\n",
    "# input_file_name = 'BarackObama_twint.csv'\n",
    "# input_file_name = 'cnnbrk_twint.csv'\n",
    "# input_file_name = 'katyperry_twint.csv'\n",
    "# input_file_name = 'KingJames_twint.csv'\n",
    "# input_file_name = 'LoganPaul_twint.csv'\n",
    "output_file_name = \"trump_tweets_sp500.csv\""
   ]
  },
  {
   "cell_type": "code",
   "execution_count": 4,
   "metadata": {},
   "outputs": [
    {
     "name": "stderr",
     "output_type": "stream",
     "text": [
      "/usr/local/lib/python3.5/dist-packages/IPython/core/interactiveshell.py:3058: DtypeWarning: Columns (0,1,2,3,4,5,7,8,9,10,11,12,13,17,18,19,20,21,29) have mixed types. Specify dtype option on import or set low_memory=False.\n",
      "  interactivity=interactivity, compiler=compiler, result=result)\n"
     ]
    }
   ],
   "source": [
    "target_twitter_acc = pd.read_csv(\"./tweets/{}\".format(input_file_name))\n",
    "# target_twitter_acc = target_twitter_acc.dropna()\n",
    "# stocks = pd.read_csv('./stocks/spx_preprocessed.csv')\n",
    "# stocks['Date']= pd.to_datetime(stocks['Date']) "
   ]
  },
  {
   "cell_type": "code",
   "execution_count": 5,
   "metadata": {
    "scrolled": true
   },
   "outputs": [
    {
     "data": {
      "text/plain": [
       "Index(['id', 'conversation_id', 'created_at', 'date', 'time', 'timezone',\n",
       "       'user_id', 'username', 'name', 'tweet', 'mentions', 'urls', 'photos',\n",
       "       'replies_count', 'retweets_count', 'likes_count', 'hashtags',\n",
       "       'cashtags', 'link', 'retweet', 'video', 'reply_to'],\n",
       "      dtype='object')"
      ]
     },
     "execution_count": 5,
     "metadata": {},
     "output_type": "execute_result"
    }
   ],
   "source": [
    "target_twitter_acc = target_twitter_acc.dropna(subset=['tweet', \"mentions\", 'urls', 'photos', 'link', 'video'])\n",
    "target_twitter_acc = target_twitter_acc.dropna(axis=1)\n",
    "target_twitter_acc.columns"
   ]
  },
  {
   "cell_type": "code",
   "execution_count": 6,
   "metadata": {},
   "outputs": [
    {
     "data": {
      "text/html": [
       "<div>\n",
       "<style scoped>\n",
       "    .dataframe tbody tr th:only-of-type {\n",
       "        vertical-align: middle;\n",
       "    }\n",
       "\n",
       "    .dataframe tbody tr th {\n",
       "        vertical-align: top;\n",
       "    }\n",
       "\n",
       "    .dataframe thead th {\n",
       "        text-align: right;\n",
       "    }\n",
       "</style>\n",
       "<table border=\"1\" class=\"dataframe\">\n",
       "  <thead>\n",
       "    <tr style=\"text-align: right;\">\n",
       "      <th></th>\n",
       "      <th>id</th>\n",
       "      <th>conversation_id</th>\n",
       "      <th>created_at</th>\n",
       "      <th>date</th>\n",
       "      <th>time</th>\n",
       "      <th>timezone</th>\n",
       "      <th>user_id</th>\n",
       "      <th>username</th>\n",
       "      <th>name</th>\n",
       "      <th>tweet</th>\n",
       "      <th>...</th>\n",
       "      <th>photos</th>\n",
       "      <th>replies_count</th>\n",
       "      <th>retweets_count</th>\n",
       "      <th>likes_count</th>\n",
       "      <th>hashtags</th>\n",
       "      <th>cashtags</th>\n",
       "      <th>link</th>\n",
       "      <th>retweet</th>\n",
       "      <th>video</th>\n",
       "      <th>reply_to</th>\n",
       "    </tr>\n",
       "  </thead>\n",
       "  <tbody>\n",
       "    <tr>\n",
       "      <th>0</th>\n",
       "      <td>1200224161576017921</td>\n",
       "      <td>1200224161576017921</td>\n",
       "      <td>1574990713000</td>\n",
       "      <td>2019-11-28</td>\n",
       "      <td>20:25:13</td>\n",
       "      <td>Eastern Standard Time</td>\n",
       "      <td>25073877.0</td>\n",
       "      <td>realdonaldtrump</td>\n",
       "      <td>Donald J. Trump</td>\n",
       "      <td>I thought Newsweek was out of business? https://twitter.com/donaldjtrumpjr/status/1200189112952795139 …</td>\n",
       "      <td>...</td>\n",
       "      <td>[]</td>\n",
       "      <td>8025.0</td>\n",
       "      <td>20648.0</td>\n",
       "      <td>81944.0</td>\n",
       "      <td>[]</td>\n",
       "      <td>[]</td>\n",
       "      <td>https://twitter.com/realDonaldTrump/status/1200224161576017921</td>\n",
       "      <td>False</td>\n",
       "      <td>0.0</td>\n",
       "      <td>[{'user_id': '25073877', 'username': 'realDonaldTrump'}]</td>\n",
       "    </tr>\n",
       "    <tr>\n",
       "      <th>1</th>\n",
       "      <td>1200168067075981313</td>\n",
       "      <td>1200168067075981313</td>\n",
       "      <td>1574977339000</td>\n",
       "      <td>2019-11-28</td>\n",
       "      <td>16:42:19</td>\n",
       "      <td>Eastern Standard Time</td>\n",
       "      <td>25073877.0</td>\n",
       "      <td>realdonaldtrump</td>\n",
       "      <td>Donald J. Trump</td>\n",
       "      <td>HAPPY THANKSGIVING! pic.twitter.com/7SGZnHindW</td>\n",
       "      <td>...</td>\n",
       "      <td>[]</td>\n",
       "      <td>14022.0</td>\n",
       "      <td>46270.0</td>\n",
       "      <td>177238.0</td>\n",
       "      <td>[]</td>\n",
       "      <td>[]</td>\n",
       "      <td>https://twitter.com/realDonaldTrump/status/1200168067075981313</td>\n",
       "      <td>False</td>\n",
       "      <td>1.0</td>\n",
       "      <td>[{'user_id': '25073877', 'username': 'realDonaldTrump'}]</td>\n",
       "    </tr>\n",
       "    <tr>\n",
       "      <th>2</th>\n",
       "      <td>1200042025699201026</td>\n",
       "      <td>1200042025699201026</td>\n",
       "      <td>1574947289000</td>\n",
       "      <td>2019-11-28</td>\n",
       "      <td>08:21:29</td>\n",
       "      <td>Eastern Standard Time</td>\n",
       "      <td>25073877.0</td>\n",
       "      <td>realdonaldtrump</td>\n",
       "      <td>Donald J. Trump</td>\n",
       "      <td>HAPPY THANKSGIVING! pic.twitter.com/2GoxJEk6fN</td>\n",
       "      <td>...</td>\n",
       "      <td>['https://pbs.twimg.com/media/EKdn3CDXYAA0R0c.jpg']</td>\n",
       "      <td>21490.0</td>\n",
       "      <td>30476.0</td>\n",
       "      <td>170141.0</td>\n",
       "      <td>[]</td>\n",
       "      <td>[]</td>\n",
       "      <td>https://twitter.com/realDonaldTrump/status/1200042025699201026</td>\n",
       "      <td>False</td>\n",
       "      <td>0.0</td>\n",
       "      <td>[{'user_id': '25073877', 'username': 'realDonaldTrump'}]</td>\n",
       "    </tr>\n",
       "  </tbody>\n",
       "</table>\n",
       "<p>3 rows × 22 columns</p>\n",
       "</div>"
      ],
      "text/plain": [
       "                    id      conversation_id     created_at        date  \\\n",
       "0  1200224161576017921  1200224161576017921  1574990713000  2019-11-28   \n",
       "1  1200168067075981313  1200168067075981313  1574977339000  2019-11-28   \n",
       "2  1200042025699201026  1200042025699201026  1574947289000  2019-11-28   \n",
       "\n",
       "       time               timezone     user_id         username  \\\n",
       "0  20:25:13  Eastern Standard Time  25073877.0  realdonaldtrump   \n",
       "1  16:42:19  Eastern Standard Time  25073877.0  realdonaldtrump   \n",
       "2  08:21:29  Eastern Standard Time  25073877.0  realdonaldtrump   \n",
       "\n",
       "              name  \\\n",
       "0  Donald J. Trump   \n",
       "1  Donald J. Trump   \n",
       "2  Donald J. Trump   \n",
       "\n",
       "                                                                                                     tweet  \\\n",
       "0  I thought Newsweek was out of business? https://twitter.com/donaldjtrumpjr/status/1200189112952795139 …   \n",
       "1  HAPPY THANKSGIVING! pic.twitter.com/7SGZnHindW                                                            \n",
       "2  HAPPY THANKSGIVING! pic.twitter.com/2GoxJEk6fN                                                            \n",
       "\n",
       "   ...                                               photos replies_count  \\\n",
       "0  ...  []                                                   8025.0         \n",
       "1  ...  []                                                   14022.0        \n",
       "2  ...  ['https://pbs.twimg.com/media/EKdn3CDXYAA0R0c.jpg']  21490.0        \n",
       "\n",
       "  retweets_count  likes_count  hashtags  cashtags  \\\n",
       "0  20648.0        81944.0      []        []         \n",
       "1  46270.0        177238.0     []        []         \n",
       "2  30476.0        170141.0     []        []         \n",
       "\n",
       "                                                             link retweet  \\\n",
       "0  https://twitter.com/realDonaldTrump/status/1200224161576017921  False    \n",
       "1  https://twitter.com/realDonaldTrump/status/1200168067075981313  False    \n",
       "2  https://twitter.com/realDonaldTrump/status/1200042025699201026  False    \n",
       "\n",
       "  video                                                  reply_to  \n",
       "0  0.0   [{'user_id': '25073877', 'username': 'realDonaldTrump'}]  \n",
       "1  1.0   [{'user_id': '25073877', 'username': 'realDonaldTrump'}]  \n",
       "2  0.0   [{'user_id': '25073877', 'username': 'realDonaldTrump'}]  \n",
       "\n",
       "[3 rows x 22 columns]"
      ]
     },
     "execution_count": 6,
     "metadata": {},
     "output_type": "execute_result"
    }
   ],
   "source": [
    "target_twitter_acc.head(3)"
   ]
  },
  {
   "cell_type": "code",
   "execution_count": 7,
   "metadata": {},
   "outputs": [],
   "source": [
    "target_twitter_acc = target_twitter_acc.drop([\"id\", \n",
    "                                \"conversation_id\", \n",
    "                                \"created_at\", \n",
    "                                \"timezone\", \n",
    "                                \"user_id\", \n",
    "                                \"username\", \n",
    "                                \"name\", \n",
    "                                \"replies_count\",\n",
    "                                \"likes_count\",\n",
    "                                \"reply_to\",\n",
    "                                \"cashtags\",\n",
    "                                \"mentions\",\n",
    "                                \"link\"], axis=1)"
   ]
  },
  {
   "cell_type": "code",
   "execution_count": 8,
   "metadata": {},
   "outputs": [],
   "source": [
    "target_twitter_acc = target_twitter_acc.rename(columns={\"retweets_count\": \"retweet_count\", \n",
    "                                          \"tweet\": \"text\", \n",
    "                                          \"video\": \"num_videos\"})"
   ]
  },
  {
   "cell_type": "code",
   "execution_count": 9,
   "metadata": {},
   "outputs": [
    {
     "data": {
      "text/html": [
       "<div>\n",
       "<style scoped>\n",
       "    .dataframe tbody tr th:only-of-type {\n",
       "        vertical-align: middle;\n",
       "    }\n",
       "\n",
       "    .dataframe tbody tr th {\n",
       "        vertical-align: top;\n",
       "    }\n",
       "\n",
       "    .dataframe thead th {\n",
       "        text-align: right;\n",
       "    }\n",
       "</style>\n",
       "<table border=\"1\" class=\"dataframe\">\n",
       "  <thead>\n",
       "    <tr style=\"text-align: right;\">\n",
       "      <th></th>\n",
       "      <th>date</th>\n",
       "      <th>time</th>\n",
       "      <th>text</th>\n",
       "      <th>urls</th>\n",
       "      <th>photos</th>\n",
       "      <th>retweet_count</th>\n",
       "      <th>hashtags</th>\n",
       "      <th>retweet</th>\n",
       "      <th>num_videos</th>\n",
       "    </tr>\n",
       "  </thead>\n",
       "  <tbody>\n",
       "    <tr>\n",
       "      <th>0</th>\n",
       "      <td>2019-11-28</td>\n",
       "      <td>20:25:13</td>\n",
       "      <td>I thought Newsweek was out of business? https://twitter.com/donaldjtrumpjr/status/1200189112952795139 …</td>\n",
       "      <td>['https://twitter.com/donaldjtrumpjr/status/1200189112952795139']</td>\n",
       "      <td>[]</td>\n",
       "      <td>20648.0</td>\n",
       "      <td>[]</td>\n",
       "      <td>False</td>\n",
       "      <td>0.0</td>\n",
       "    </tr>\n",
       "    <tr>\n",
       "      <th>1</th>\n",
       "      <td>2019-11-28</td>\n",
       "      <td>16:42:19</td>\n",
       "      <td>HAPPY THANKSGIVING! pic.twitter.com/7SGZnHindW</td>\n",
       "      <td>[]</td>\n",
       "      <td>[]</td>\n",
       "      <td>46270.0</td>\n",
       "      <td>[]</td>\n",
       "      <td>False</td>\n",
       "      <td>1.0</td>\n",
       "    </tr>\n",
       "  </tbody>\n",
       "</table>\n",
       "</div>"
      ],
      "text/plain": [
       "         date      time  \\\n",
       "0  2019-11-28  20:25:13   \n",
       "1  2019-11-28  16:42:19   \n",
       "\n",
       "                                                                                                      text  \\\n",
       "0  I thought Newsweek was out of business? https://twitter.com/donaldjtrumpjr/status/1200189112952795139 …   \n",
       "1  HAPPY THANKSGIVING! pic.twitter.com/7SGZnHindW                                                            \n",
       "\n",
       "                                                                urls photos  \\\n",
       "0  ['https://twitter.com/donaldjtrumpjr/status/1200189112952795139']  []      \n",
       "1  []                                                                 []      \n",
       "\n",
       "   retweet_count hashtags retweet  num_videos  \n",
       "0  20648.0        []       False   0.0         \n",
       "1  46270.0        []       False   1.0         "
      ]
     },
     "execution_count": 9,
     "metadata": {},
     "output_type": "execute_result"
    }
   ],
   "source": [
    "target_twitter_acc.head(2)"
   ]
  },
  {
   "cell_type": "code",
   "execution_count": 10,
   "metadata": {},
   "outputs": [],
   "source": [
    "target_twitter_acc['created_at'] = target_twitter_acc.date + \" \" + target_twitter_acc.time"
   ]
  },
  {
   "cell_type": "code",
   "execution_count": 11,
   "metadata": {},
   "outputs": [
    {
     "data": {
      "text/html": [
       "<div>\n",
       "<style scoped>\n",
       "    .dataframe tbody tr th:only-of-type {\n",
       "        vertical-align: middle;\n",
       "    }\n",
       "\n",
       "    .dataframe tbody tr th {\n",
       "        vertical-align: top;\n",
       "    }\n",
       "\n",
       "    .dataframe thead th {\n",
       "        text-align: right;\n",
       "    }\n",
       "</style>\n",
       "<table border=\"1\" class=\"dataframe\">\n",
       "  <thead>\n",
       "    <tr style=\"text-align: right;\">\n",
       "      <th></th>\n",
       "      <th>date</th>\n",
       "      <th>time</th>\n",
       "      <th>text</th>\n",
       "      <th>urls</th>\n",
       "      <th>photos</th>\n",
       "      <th>retweet_count</th>\n",
       "      <th>hashtags</th>\n",
       "      <th>retweet</th>\n",
       "      <th>num_videos</th>\n",
       "      <th>created_at</th>\n",
       "    </tr>\n",
       "  </thead>\n",
       "  <tbody>\n",
       "    <tr>\n",
       "      <th>0</th>\n",
       "      <td>2019-11-28</td>\n",
       "      <td>20:25:13</td>\n",
       "      <td>I thought Newsweek was out of business? https://twitter.com/donaldjtrumpjr/status/1200189112952795139 …</td>\n",
       "      <td>['https://twitter.com/donaldjtrumpjr/status/1200189112952795139']</td>\n",
       "      <td>[]</td>\n",
       "      <td>20648.0</td>\n",
       "      <td>[]</td>\n",
       "      <td>False</td>\n",
       "      <td>0.0</td>\n",
       "      <td>2019-11-28 20:25:13</td>\n",
       "    </tr>\n",
       "    <tr>\n",
       "      <th>1</th>\n",
       "      <td>2019-11-28</td>\n",
       "      <td>16:42:19</td>\n",
       "      <td>HAPPY THANKSGIVING! pic.twitter.com/7SGZnHindW</td>\n",
       "      <td>[]</td>\n",
       "      <td>[]</td>\n",
       "      <td>46270.0</td>\n",
       "      <td>[]</td>\n",
       "      <td>False</td>\n",
       "      <td>1.0</td>\n",
       "      <td>2019-11-28 16:42:19</td>\n",
       "    </tr>\n",
       "  </tbody>\n",
       "</table>\n",
       "</div>"
      ],
      "text/plain": [
       "         date      time  \\\n",
       "0  2019-11-28  20:25:13   \n",
       "1  2019-11-28  16:42:19   \n",
       "\n",
       "                                                                                                      text  \\\n",
       "0  I thought Newsweek was out of business? https://twitter.com/donaldjtrumpjr/status/1200189112952795139 …   \n",
       "1  HAPPY THANKSGIVING! pic.twitter.com/7SGZnHindW                                                            \n",
       "\n",
       "                                                                urls photos  \\\n",
       "0  ['https://twitter.com/donaldjtrumpjr/status/1200189112952795139']  []      \n",
       "1  []                                                                 []      \n",
       "\n",
       "   retweet_count hashtags retweet  num_videos           created_at  \n",
       "0  20648.0        []       False   0.0         2019-11-28 20:25:13  \n",
       "1  46270.0        []       False   1.0         2019-11-28 16:42:19  "
      ]
     },
     "execution_count": 11,
     "metadata": {},
     "output_type": "execute_result"
    }
   ],
   "source": [
    "target_twitter_acc.head(2)"
   ]
  },
  {
   "cell_type": "code",
   "execution_count": 12,
   "metadata": {},
   "outputs": [],
   "source": [
    "target_twitter_acc['created_at']= pd.to_datetime(target_twitter_acc['created_at'], format=\"%Y-%m-%d %H:%M:%S\") "
   ]
  },
  {
   "cell_type": "code",
   "execution_count": 13,
   "metadata": {},
   "outputs": [
    {
     "name": "stdout",
     "output_type": "stream",
     "text": [
      "<class 'pandas.core.frame.DataFrame'>\n",
      "Int64Index: 40538 entries, 0 to 229736\n",
      "Data columns (total 10 columns):\n",
      "date             40538 non-null object\n",
      "time             40538 non-null object\n",
      "text             40538 non-null object\n",
      "urls             40538 non-null object\n",
      "photos           40538 non-null object\n",
      "retweet_count    40538 non-null float64\n",
      "hashtags         40538 non-null object\n",
      "retweet          40538 non-null object\n",
      "num_videos       40538 non-null float64\n",
      "created_at       40538 non-null datetime64[ns]\n",
      "dtypes: datetime64[ns](1), float64(2), object(7)\n",
      "memory usage: 3.4+ MB\n"
     ]
    }
   ],
   "source": [
    "target_twitter_acc.info()"
   ]
  },
  {
   "cell_type": "markdown",
   "metadata": {},
   "source": [
    "### Only keep original tweets"
   ]
  },
  {
   "cell_type": "code",
   "execution_count": 14,
   "metadata": {},
   "outputs": [],
   "source": [
    "target_twitter_acc = target_twitter_acc[target_twitter_acc['retweet'] == False]"
   ]
  },
  {
   "cell_type": "code",
   "execution_count": 15,
   "metadata": {},
   "outputs": [],
   "source": [
    "target_twitter_acc = target_twitter_acc.sort_values(by=\"created_at\")\n",
    "target_twitter_acc = target_twitter_acc.reset_index(drop=True)"
   ]
  },
  {
   "cell_type": "code",
   "execution_count": 16,
   "metadata": {},
   "outputs": [],
   "source": [
    "import demoji\n",
    "def replace_emojis_with_desc(text):\n",
    "    emoji_map = demoji.findall(text)\n",
    "    for key in emoji_map.keys():\n",
    "        emoji_map[key] = re.sub(r'\\W+', '', emoji_map[key].lower()).replace(\" \", \"\")\n",
    "    for k, v in emoji_map.items():\n",
    "        text = text.replace(k, v)\n",
    "    return text\n",
    "# boi"
   ]
  },
  {
   "cell_type": "markdown",
   "metadata": {},
   "source": [
    "## Easy Text preprocessing\n",
    "- Convert to lower case\n",
    "- Convert links to `msciurl`\n",
    "- Remove 'RT'\n",
    "- Turn @mentions into `twitmention` (nltk splits the @ and the name)\n",
    "- Turn #hashtags into `twithashtag` (nltk splits the # and the content)\n",
    "- Tokenize sentence (split punctuation into its own tokens)\n",
    "- Replace unicode characters with their ascii equivalents (makes things easier to analyze)\n",
    "- Remove excess spaces/newlines"
   ]
  },
  {
   "cell_type": "code",
   "execution_count": 17,
   "metadata": {},
   "outputs": [],
   "source": [
    "def preprocess_tweet(tweet):\n",
    "    tweet = normalize_links(remove_newlines(html_to_unicode(tweet)), 'msciurl')\n",
    "    tweet = re.sub(r\"pic\\.twitter\\.com\\S+\", 'twitpicture', tweet)\n",
    "    tweet = replace_emojis_with_desc(tweet)\n",
    "    # NLTK by default turns mentions into @ <tag>.  Makes for easier analysis this stops the mentions from being separated, and allows them to be used in the clustering and stuff later...\n",
    "    tweet = custom_replace(tweet,\n",
    "                          [re.compile('RT'), re.compile(r\"@(?=\\S)\"), re.compile(r\"#(?=\\S)\")],\n",
    "                          [' ', 'twitmention', 'twithashtag'])\n",
    "    tweet = ' '.join([word for sent in nltk.sent_tokenize(tweet) for word in nltk.word_tokenize(sent)])\n",
    "    return unidecode(lower(remove_excess_spaces(tweet)))"
   ]
  },
  {
   "cell_type": "code",
   "execution_count": 18,
   "metadata": {},
   "outputs": [
    {
     "name": "stderr",
     "output_type": "stream",
     "text": [
      "100%|██████████| 40538/40538 [00:04<00:00, 9870.50it/s]\n"
     ]
    }
   ],
   "source": [
    "tweets = target_twitter_acc[\"text\"].tolist()\n",
    "# processed_tweets = [preprocess_tweet(x) for x in tweets]\n",
    "processed_tweets = parallel_compute(tweets, preprocess_tweet)"
   ]
  },
  {
   "cell_type": "code",
   "execution_count": 19,
   "metadata": {},
   "outputs": [],
   "source": [
    "target_twitter_acc['preprocessed_text'] = processed_tweets"
   ]
  },
  {
   "cell_type": "markdown",
   "metadata": {},
   "source": [
    "## Add Other Columns for Analysis"
   ]
  },
  {
   "cell_type": "markdown",
   "metadata": {},
   "source": [
    "### Hour of day tweet was created"
   ]
  },
  {
   "cell_type": "code",
   "execution_count": 20,
   "metadata": {},
   "outputs": [],
   "source": [
    "target_twitter_acc[\"created_hour\"] = target_twitter_acc[\"created_at\"].apply(lambda x: x.hour)"
   ]
  },
  {
   "cell_type": "markdown",
   "metadata": {},
   "source": [
    "### Day of week tweet was created"
   ]
  },
  {
   "cell_type": "code",
   "execution_count": 21,
   "metadata": {},
   "outputs": [],
   "source": [
    "target_twitter_acc['dow'] = target_twitter_acc['created_at'].dt.dayofweek"
   ]
  },
  {
   "cell_type": "markdown",
   "metadata": {},
   "source": [
    "### Number of links in tweet"
   ]
  },
  {
   "cell_type": "code",
   "execution_count": 22,
   "metadata": {},
   "outputs": [],
   "source": [
    "target_twitter_acc['num_links'] = target_twitter_acc.preprocessed_text.apply(lambda tweet: sum([1 if 'msciurl' in word else 0 for word in tweet.split(\"  \")]))"
   ]
  },
  {
   "cell_type": "markdown",
   "metadata": {},
   "source": [
    "### Number of words in tweet (ignoring mentions, hashtags, and links)\n",
    "- Tweets since Nov. 7, 2017 have a 280 character limit\n",
    "- Before then was 140"
   ]
  },
  {
   "cell_type": "code",
   "execution_count": 23,
   "metadata": {},
   "outputs": [],
   "source": [
    "target_twitter_acc['num_words'] = target_twitter_acc.preprocessed_text.apply(lambda tweet: sum([1 if len(word) > 1 and 'msciurl' not in word and 'twitmention' not in word and 'twithashtag' not in word else 0 for word in tweet.split(\" \")]))"
   ]
  },
  {
   "cell_type": "markdown",
   "metadata": {},
   "source": [
    "# To deal with the fact that the tweet length increased as of Nov 2017, we need to normalize the word count by dividing by number of characters"
   ]
  },
  {
   "cell_type": "code",
   "execution_count": 24,
   "metadata": {},
   "outputs": [],
   "source": [
    "tweet_lens = target_twitter_acc['num_words'].tolist()\n",
    "tweet_dates = target_twitter_acc['created_at'].tolist()\n",
    "tweet_lens_as_percentage = []\n",
    "for t_len, t_date in zip(tweet_lens, tweet_dates):\n",
    "    if t_date < datetime(2017, 11, 7):\n",
    "        tweet_lens_as_percentage.append(min(0.21, round(100*t_len/140)/100))\n",
    "    else:\n",
    "        tweet_lens_as_percentage.append(min(0.21, round(100*t_len/280)/100))"
   ]
  },
  {
   "cell_type": "code",
   "execution_count": 25,
   "metadata": {},
   "outputs": [],
   "source": [
    "target_twitter_acc['num_words'] = tweet_lens_as_percentage"
   ]
  },
  {
   "cell_type": "markdown",
   "metadata": {},
   "source": [
    "### Count Photos"
   ]
  },
  {
   "cell_type": "code",
   "execution_count": 26,
   "metadata": {},
   "outputs": [],
   "source": [
    "target_twitter_acc['num_photos'] = target_twitter_acc.photos.apply(lambda x: len(literal_eval(str(x))))"
   ]
  },
  {
   "cell_type": "code",
   "execution_count": 27,
   "metadata": {},
   "outputs": [
    {
     "data": {
      "text/html": [
       "<div>\n",
       "<style scoped>\n",
       "    .dataframe tbody tr th:only-of-type {\n",
       "        vertical-align: middle;\n",
       "    }\n",
       "\n",
       "    .dataframe tbody tr th {\n",
       "        vertical-align: top;\n",
       "    }\n",
       "\n",
       "    .dataframe thead th {\n",
       "        text-align: right;\n",
       "    }\n",
       "</style>\n",
       "<table border=\"1\" class=\"dataframe\">\n",
       "  <thead>\n",
       "    <tr style=\"text-align: right;\">\n",
       "      <th></th>\n",
       "      <th>date</th>\n",
       "      <th>time</th>\n",
       "      <th>text</th>\n",
       "      <th>urls</th>\n",
       "      <th>photos</th>\n",
       "      <th>retweet_count</th>\n",
       "      <th>hashtags</th>\n",
       "      <th>retweet</th>\n",
       "      <th>num_videos</th>\n",
       "      <th>created_at</th>\n",
       "      <th>preprocessed_text</th>\n",
       "      <th>created_hour</th>\n",
       "      <th>dow</th>\n",
       "      <th>num_links</th>\n",
       "      <th>num_words</th>\n",
       "      <th>num_photos</th>\n",
       "    </tr>\n",
       "  </thead>\n",
       "  <tbody>\n",
       "    <tr>\n",
       "      <th>0</th>\n",
       "      <td>2009-05-04</td>\n",
       "      <td>14:54:25</td>\n",
       "      <td>Be sure to tune in and watch Donald Trump on Late Night with David Letterman as he presents the Top Ten List tonight!</td>\n",
       "      <td>[]</td>\n",
       "      <td>[]</td>\n",
       "      <td>499.0</td>\n",
       "      <td>[]</td>\n",
       "      <td>False</td>\n",
       "      <td>0.0</td>\n",
       "      <td>2009-05-04 14:54:25</td>\n",
       "      <td>be sure to tune in and watch donald trump on late night with david letterman as he presents the top ten list tonight !</td>\n",
       "      <td>14</td>\n",
       "      <td>0</td>\n",
       "      <td>0</td>\n",
       "      <td>0.16</td>\n",
       "      <td>0</td>\n",
       "    </tr>\n",
       "    <tr>\n",
       "      <th>1</th>\n",
       "      <td>2009-05-04</td>\n",
       "      <td>21:00:10</td>\n",
       "      <td>Donald Trump will be appearing on The View tomorrow morning to discuss Celebrity Apprentice and his new book Think Like A Champion!</td>\n",
       "      <td>[]</td>\n",
       "      <td>[]</td>\n",
       "      <td>33.0</td>\n",
       "      <td>[]</td>\n",
       "      <td>False</td>\n",
       "      <td>0.0</td>\n",
       "      <td>2009-05-04 21:00:10</td>\n",
       "      <td>donald trump will be appearing on the view tomorrow morning to discuss celebrity apprentice and his new book think like a champion !</td>\n",
       "      <td>21</td>\n",
       "      <td>0</td>\n",
       "      <td>0</td>\n",
       "      <td>0.15</td>\n",
       "      <td>0</td>\n",
       "    </tr>\n",
       "    <tr>\n",
       "      <th>2</th>\n",
       "      <td>2009-05-08</td>\n",
       "      <td>09:38:08</td>\n",
       "      <td>Donald Trump reads Top Ten Financial Tips on Late Show with David Letterman:  http://tinyurl.com/ooafwn - Very funny!</td>\n",
       "      <td>[]</td>\n",
       "      <td>[]</td>\n",
       "      <td>12.0</td>\n",
       "      <td>[]</td>\n",
       "      <td>False</td>\n",
       "      <td>0.0</td>\n",
       "      <td>2009-05-08 09:38:08</td>\n",
       "      <td>donald trump reads top ten financial tips on late show with david letterman : msciurl - very funny !</td>\n",
       "      <td>9</td>\n",
       "      <td>4</td>\n",
       "      <td>1</td>\n",
       "      <td>0.11</td>\n",
       "      <td>0</td>\n",
       "    </tr>\n",
       "    <tr>\n",
       "      <th>3</th>\n",
       "      <td>2009-05-08</td>\n",
       "      <td>16:40:15</td>\n",
       "      <td>New Blog Post: Celebrity Apprentice Finale and Lessons Learned Along the Way:  http://tinyurl.com/qlux5e</td>\n",
       "      <td>[]</td>\n",
       "      <td>[]</td>\n",
       "      <td>11.0</td>\n",
       "      <td>[]</td>\n",
       "      <td>False</td>\n",
       "      <td>0.0</td>\n",
       "      <td>2009-05-08 16:40:15</td>\n",
       "      <td>new blog post : celebrity apprentice finale and lessons learned along the way : msciurl</td>\n",
       "      <td>16</td>\n",
       "      <td>4</td>\n",
       "      <td>1</td>\n",
       "      <td>0.09</td>\n",
       "      <td>0</td>\n",
       "    </tr>\n",
       "    <tr>\n",
       "      <th>4</th>\n",
       "      <td>2009-05-12</td>\n",
       "      <td>10:07:28</td>\n",
       "      <td>\"My persona will never be that of a wallflower - I’d rather build walls than cling to them\" --Donald J. Trump</td>\n",
       "      <td>[]</td>\n",
       "      <td>[]</td>\n",
       "      <td>1402.0</td>\n",
       "      <td>[]</td>\n",
       "      <td>False</td>\n",
       "      <td>0.0</td>\n",
       "      <td>2009-05-12 10:07:28</td>\n",
       "      <td>`` my persona will never be that of a wallflower - i ' d rather build walls than cling to them '' -- donald j. trump</td>\n",
       "      <td>10</td>\n",
       "      <td>1</td>\n",
       "      <td>0</td>\n",
       "      <td>0.15</td>\n",
       "      <td>0</td>\n",
       "    </tr>\n",
       "  </tbody>\n",
       "</table>\n",
       "</div>"
      ],
      "text/plain": [
       "         date      time  \\\n",
       "0  2009-05-04  14:54:25   \n",
       "1  2009-05-04  21:00:10   \n",
       "2  2009-05-08  09:38:08   \n",
       "3  2009-05-08  16:40:15   \n",
       "4  2009-05-12  10:07:28   \n",
       "\n",
       "                                                                                                                                  text  \\\n",
       "0  Be sure to tune in and watch Donald Trump on Late Night with David Letterman as he presents the Top Ten List tonight!                 \n",
       "1  Donald Trump will be appearing on The View tomorrow morning to discuss Celebrity Apprentice and his new book Think Like A Champion!   \n",
       "2  Donald Trump reads Top Ten Financial Tips on Late Show with David Letterman:  http://tinyurl.com/ooafwn - Very funny!                 \n",
       "3  New Blog Post: Celebrity Apprentice Finale and Lessons Learned Along the Way:  http://tinyurl.com/qlux5e                              \n",
       "4  \"My persona will never be that of a wallflower - I’d rather build walls than cling to them\" --Donald J. Trump                         \n",
       "\n",
       "  urls photos  retweet_count hashtags retweet  num_videos          created_at  \\\n",
       "0  []   []     499.0          []       False   0.0        2009-05-04 14:54:25   \n",
       "1  []   []     33.0           []       False   0.0        2009-05-04 21:00:10   \n",
       "2  []   []     12.0           []       False   0.0        2009-05-08 09:38:08   \n",
       "3  []   []     11.0           []       False   0.0        2009-05-08 16:40:15   \n",
       "4  []   []     1402.0         []       False   0.0        2009-05-12 10:07:28   \n",
       "\n",
       "                                                                                                                      preprocessed_text  \\\n",
       "0  be sure to tune in and watch donald trump on late night with david letterman as he presents the top ten list tonight !                 \n",
       "1  donald trump will be appearing on the view tomorrow morning to discuss celebrity apprentice and his new book think like a champion !   \n",
       "2  donald trump reads top ten financial tips on late show with david letterman : msciurl - very funny !                                   \n",
       "3  new blog post : celebrity apprentice finale and lessons learned along the way : msciurl                                                \n",
       "4  `` my persona will never be that of a wallflower - i ' d rather build walls than cling to them '' -- donald j. trump                   \n",
       "\n",
       "   created_hour  dow  num_links  num_words  num_photos  \n",
       "0  14            0    0          0.16       0           \n",
       "1  21            0    0          0.15       0           \n",
       "2  9             4    1          0.11       0           \n",
       "3  16            4    1          0.09       0           \n",
       "4  10            1    0          0.15       0           "
      ]
     },
     "execution_count": 27,
     "metadata": {},
     "output_type": "execute_result"
    }
   ],
   "source": [
    "target_twitter_acc.head(5)"
   ]
  },
  {
   "cell_type": "markdown",
   "metadata": {},
   "source": [
    "# MORE OR LESS RETWEETS THAN AVG!!"
   ]
  },
  {
   "cell_type": "code",
   "execution_count": 28,
   "metadata": {},
   "outputs": [],
   "source": [
    "min_year = min([x.year for x in target_twitter_acc['created_at'].tolist()])\n",
    "max_year = max([x.year for x in target_twitter_acc['created_at'].tolist()])+1"
   ]
  },
  {
   "cell_type": "code",
   "execution_count": 29,
   "metadata": {},
   "outputs": [
    {
     "name": "stderr",
     "output_type": "stream",
     "text": [
      "/usr/local/lib/python3.5/dist-packages/numpy/core/fromnumeric.py:3257: RuntimeWarning: Mean of empty slice.\n",
      "  out=out, **kwargs)\n",
      "/usr/local/lib/python3.5/dist-packages/numpy/core/_methods.py:161: RuntimeWarning: invalid value encountered in double_scalars\n",
      "  ret = ret.dtype.type(ret / rcount)\n"
     ]
    }
   ],
   "source": [
    "curr_dt = datetime(min_year, 1, 1)\n",
    "dt_avg = defaultdict(lambda: defaultdict(int))\n",
    "while curr_dt < datetime(max_year, 1, 1):\n",
    "    dt_avg[curr_dt.year][curr_dt.month] = np.mean(target_twitter_acc[target_twitter_acc['created_at'].between(curr_dt, curr_dt+relativedelta.relativedelta(months=1))]['retweet_count'].tolist())  \n",
    "    curr_dt += relativedelta.relativedelta(months=1)"
   ]
  },
  {
   "cell_type": "markdown",
   "metadata": {},
   "source": [
    "## Save averages to pkl to read in EDA.ipynb"
   ]
  },
  {
   "cell_type": "code",
   "execution_count": 30,
   "metadata": {},
   "outputs": [],
   "source": [
    "write_pkl(\"dt_avg_{}.pkl\".format(output_file_name), dict(dt_avg))"
   ]
  },
  {
   "cell_type": "code",
   "execution_count": 31,
   "metadata": {},
   "outputs": [],
   "source": [
    "greater_than_monthly_avg = list(map(int, [count > dt_avg[curr_date.year][curr_date.month] \n",
    "                                          for count, curr_date in zip(target_twitter_acc['retweet_count'].tolist(), target_twitter_acc['created_at'].tolist())]))\n",
    "target_twitter_acc['above_monthly_avg'] = greater_than_monthly_avg"
   ]
  },
  {
   "cell_type": "markdown",
   "metadata": {},
   "source": [
    "## Percent Caps"
   ]
  },
  {
   "cell_type": "code",
   "execution_count": 32,
   "metadata": {},
   "outputs": [],
   "source": [
    "orig = target_twitter_acc['text'].tolist()\n",
    "percent_caps = []\n",
    "for tweet in orig:\n",
    "    words = tweet.split(\" \")\n",
    "    num_allcaps = sum([1 for x in words if x.upper() == x and re.search('[a-zA-Z]', x)])\n",
    "    percent_caps.append(int(num_allcaps/len(words)*10)/10 if len(words) else 0)"
   ]
  },
  {
   "cell_type": "code",
   "execution_count": 33,
   "metadata": {},
   "outputs": [
    {
     "name": "stdout",
     "output_type": "stream",
     "text": [
      "{0.0, 1.0, 0.1, 0.2, 0.3, 0.4, 0.8, 0.6, 0.5, 0.7, 0.9}\n"
     ]
    }
   ],
   "source": [
    "target_twitter_acc['percent_caps'] = percent_caps\n",
    "print(set(percent_caps))"
   ]
  },
  {
   "cell_type": "markdown",
   "metadata": {},
   "source": [
    "## Num Hashtags"
   ]
  },
  {
   "cell_type": "code",
   "execution_count": 34,
   "metadata": {},
   "outputs": [],
   "source": [
    "preprocessed = target_twitter_acc['preprocessed_text'].tolist()\n",
    "num_hashtags = []\n",
    "for tweet in preprocessed:\n",
    "    words = tweet.split(\" \")\n",
    "    num_hashtag = sum([1 for x in words if 'twithashtag' in x and re.search('[a-zA-Z]', x)])\n",
    "    num_hashtags.append(num_hashtag if num_hashtag else 0)"
   ]
  },
  {
   "cell_type": "code",
   "execution_count": 35,
   "metadata": {},
   "outputs": [
    {
     "name": "stdout",
     "output_type": "stream",
     "text": [
      "{0, 1, 2, 3, 4, 5, 6, 7, 8}\n"
     ]
    }
   ],
   "source": [
    "target_twitter_acc['num_hashtags'] = num_hashtags\n",
    "print(set(num_hashtags))"
   ]
  },
  {
   "cell_type": "markdown",
   "metadata": {},
   "source": [
    "## Num Mentions"
   ]
  },
  {
   "cell_type": "code",
   "execution_count": 36,
   "metadata": {},
   "outputs": [],
   "source": [
    "num_mentions = []\n",
    "for tweet in preprocessed:\n",
    "    words = tweet.split(\" \")\n",
    "    num_mention = sum([1 for x in words if 'twitmention' in x and re.search('[a-zA-Z]', x)])\n",
    "    num_mentions.append(num_mention if num_mention else 0)"
   ]
  },
  {
   "cell_type": "code",
   "execution_count": 37,
   "metadata": {},
   "outputs": [
    {
     "name": "stdout",
     "output_type": "stream",
     "text": [
      "{0, 1, 2, 3, 4, 5, 6, 7, 8, 9}\n"
     ]
    }
   ],
   "source": [
    "target_twitter_acc['num_mentions'] = num_mentions\n",
    "print(set(num_mentions))"
   ]
  },
  {
   "cell_type": "code",
   "execution_count": 38,
   "metadata": {},
   "outputs": [],
   "source": [
    "target_twitter_acc = target_twitter_acc.drop([\"date\", \"time\", \"urls\", \"photos\", \"hashtags\"], axis=1)"
   ]
  },
  {
   "cell_type": "markdown",
   "metadata": {},
   "source": [
    "# DATE SPECIFIC PREPROCESSING THINGS..."
   ]
  },
  {
   "cell_type": "code",
   "execution_count": 39,
   "metadata": {},
   "outputs": [],
   "source": [
    "import matplotlib.pyplot as plt\n",
    "def cdf(x, plot=True, title=\"\", x_label=\"\", y_label=\"\", x_tick_labels=[], tick_rotation=90):\n",
    "    x, y = sorted(x), np.arange(len(x)) / len(x)\n",
    "    fig = plt.figure(figsize=(30, 10))\n",
    "    plt.plot(x, y) if plot else (x, y)    \n",
    "    fig.suptitle(title)\n",
    "    plt.xlabel(x_label, fontsize=10)\n",
    "    plt.ylabel(y_label)\n",
    "    plt.xticks(x, x_tick_labels, rotation=tick_rotation)\n",
    "    plt.grid(True)\n",
    "    plt.show()"
   ]
  },
  {
   "cell_type": "code",
   "execution_count": 40,
   "metadata": {},
   "outputs": [],
   "source": [
    "curr_dt = datetime(min_year, 1, 1)\n",
    "months = []\n",
    "while curr_dt < datetime(max_year, 1, 1):\n",
    "    tweets_at_month = len(target_twitter_acc[target_twitter_acc['created_at'].between(curr_dt, curr_dt+relativedelta.relativedelta(months=1))].index.tolist())\n",
    "    months.extend([datetime(curr_dt.year, curr_dt.month, 1)]*tweets_at_month)\n",
    "    curr_dt += relativedelta.relativedelta(months=1)"
   ]
  },
  {
   "cell_type": "code",
   "execution_count": 41,
   "metadata": {},
   "outputs": [
    {
     "name": "stderr",
     "output_type": "stream",
     "text": [
      "/usr/local/lib/python3.5/dist-packages/pandas/plotting/_converter.py:129: FutureWarning: Using an implicitly registered datetime converter for a matplotlib plotting method. The converter was registered by pandas on import. Future versions of pandas will require you to explicitly register matplotlib converters.\n",
      "\n",
      "To register the converters:\n",
      "\t>>> from pandas.plotting import register_matplotlib_converters\n",
      "\t>>> register_matplotlib_converters()\n",
      "  warnings.warn(msg, FutureWarning)\n"
     ]
    },
    {
     "data": {
      "image/png": "[encoded data removed]",
      "text/plain": [
       "<Figure size 2160x720 with 1 Axes>"
      ]
     },
     "metadata": {
      "needs_background": "light"
     },
     "output_type": "display_data"
    }
   ],
   "source": [
    "# from data_science_toolkit.data_visualization import cdf\n",
    "cdf(months, title=\"Tweet CDF\", \n",
    "    y_label=\"Fraction (0-1)\", x_label=\"Year/Month\", \n",
    "    x_tick_labels=[x.strftime('%m-%d-%Y') for x in months])"
   ]
  },
  {
   "cell_type": "code",
   "execution_count": 42,
   "metadata": {},
   "outputs": [],
   "source": [
    "avg_retweets, dates = [], []\n",
    "for year in dt_avg:\n",
    "    for month in dt_avg[year]:\n",
    "        avg_retweets.append(dt_avg[year][month])\n",
    "        dates.append(datetime(year, month, 1))\n",
    "dates, avg_retweets = list(zip(*sorted(list(zip(dates, avg_retweets)), key=lambda x: x[0])))"
   ]
  },
  {
   "cell_type": "code",
   "execution_count": 43,
   "metadata": {},
   "outputs": [
    {
     "data": {
      "image/png": "[encoded data removed]",
      "text/plain": [
       "<Figure size 2160x720 with 1 Axes>"
      ]
     },
     "metadata": {
      "needs_background": "light"
     },
     "output_type": "display_data"
    }
   ],
   "source": [
    "fig = plt.figure(figsize=(30, 10))\n",
    "plt.plot(dates, avg_retweets)\n",
    "fig.suptitle('Monthly Retweet Average')\n",
    "plt.xlabel('Year/Month')\n",
    "plt.ylabel('Num Retweets')\n",
    "plt.xticks(dates, [x.strftime('%m-%d-%Y') for x in dates], rotation=90)\n",
    "plt.grid(True)\n",
    "plt.show()"
   ]
  },
  {
   "cell_type": "markdown",
   "metadata": {},
   "source": [
    "# ACCOUNT SPECIFIC PRUNING SO WE ONLY TAKE THE TIME FRAME WITH THE MOST TWEETS:"
   ]
  },
  {
   "cell_type": "code",
   "execution_count": 44,
   "metadata": {},
   "outputs": [],
   "source": [
    "## ELON MUSK ===================================================================================================================================\n",
    "target_twitter_acc = target_twitter_acc[target_twitter_acc[\"created_at\"] > datetime(2016, 4, 1)]\n",
    "\n",
    "## TRUMP =======================================================================================================================================\n",
    "# target_twitter_acc = target_twitter_acc[target_twitter_acc[\"created_at\"] > datetime(2012, 9, 1)]\n",
    "\n",
    "## OBAMA =======================================================================================================================================\n",
    "# target_twitter_acc = target_twitter_acc[target_twitter_acc[\"created_at\"] < datetime(2016, 10, 1)]\n",
    "\n",
    "## CNN BREAKING ================================================================================================================================\n",
    "# target_twitter_acc = target_twitter_acc[target_twitter_acc[\"created_at\"] > datetime(2010, 1, 1)]\n",
    "\n",
    "## KATIE PERRY =================================================================================================================================\n",
    "## No filtering to do here based on tweet frequency...\n",
    "\n",
    "## LEBRON JAMES ================================================================================================================================\n",
    "## No filtering to do here based on tweet frequency...\n",
    "\n",
    "## LOGAN PAUL ==================================================================================================================================\n",
    "# target_twitter_acc = target_twitter_acc[target_twitter_acc[\"created_at\"] > datetime(2013, 9, 1)]\n",
    "# target_twitter_acc = target_twitter_acc[(target_twitter_acc[\"created_at\"] < datetime(2018, 1, 1)) | (target_twitter_acc[\"created_at\"] > datetime(2018, 2, 1))]"
   ]
  },
  {
   "cell_type": "markdown",
   "metadata": {},
   "source": [
    "# Limit to maximum of 20000 most recent tweets"
   ]
  },
  {
   "cell_type": "code",
   "execution_count": 45,
   "metadata": {},
   "outputs": [],
   "source": [
    "target_twitter_acc = target_twitter_acc.tail(20000)"
   ]
  },
  {
   "cell_type": "markdown",
   "metadata": {},
   "source": [
    "### Final Dataframe..."
   ]
  },
  {
   "cell_type": "code",
   "execution_count": 46,
   "metadata": {},
   "outputs": [
    {
     "data": {
      "text/html": [
       "<div>\n",
       "<style scoped>\n",
       "    .dataframe tbody tr th:only-of-type {\n",
       "        vertical-align: middle;\n",
       "    }\n",
       "\n",
       "    .dataframe tbody tr th {\n",
       "        vertical-align: top;\n",
       "    }\n",
       "\n",
       "    .dataframe thead th {\n",
       "        text-align: right;\n",
       "    }\n",
       "</style>\n",
       "<table border=\"1\" class=\"dataframe\">\n",
       "  <thead>\n",
       "    <tr style=\"text-align: right;\">\n",
       "      <th></th>\n",
       "      <th>text</th>\n",
       "      <th>retweet_count</th>\n",
       "      <th>retweet</th>\n",
       "      <th>num_videos</th>\n",
       "      <th>created_at</th>\n",
       "      <th>preprocessed_text</th>\n",
       "      <th>created_hour</th>\n",
       "      <th>dow</th>\n",
       "      <th>num_links</th>\n",
       "      <th>num_words</th>\n",
       "      <th>num_photos</th>\n",
       "      <th>above_monthly_avg</th>\n",
       "      <th>percent_caps</th>\n",
       "      <th>num_hashtags</th>\n",
       "      <th>num_mentions</th>\n",
       "    </tr>\n",
       "  </thead>\n",
       "  <tbody>\n",
       "    <tr>\n",
       "      <th>28544</th>\n",
       "      <td>The Club For Growth,which asked me for $1,000,000 in an extortion attempt, just put up a Wisconsin ad with incorrect math.What a dumb group!</td>\n",
       "      <td>4791.0</td>\n",
       "      <td>False</td>\n",
       "      <td>0.0</td>\n",
       "      <td>2016-04-01 00:23:25</td>\n",
       "      <td>the club for growth , which asked me for $ 1,000,000 in an extortion attempt , just put up a wisconsin ad with incorrect math.what a dumb group !</td>\n",
       "      <td>0</td>\n",
       "      <td>4</td>\n",
       "      <td>0</td>\n",
       "      <td>0.16</td>\n",
       "      <td>0</td>\n",
       "      <td>1</td>\n",
       "      <td>0.0</td>\n",
       "      <td>0</td>\n",
       "      <td>0</td>\n",
       "    </tr>\n",
       "    <tr>\n",
       "      <th>28545</th>\n",
       "      <td>The Club For Growth said in their ad that 465 delegates (Cruz) plus 143 delegates (Kasich) is more than my 739 delegates. Try again!</td>\n",
       "      <td>4434.0</td>\n",
       "      <td>False</td>\n",
       "      <td>0.0</td>\n",
       "      <td>2016-04-01 00:29:49</td>\n",
       "      <td>the club for growth said in their ad that 465 delegates ( cruz ) plus 143 delegates ( kasich ) is more than my 739 delegates . try again !</td>\n",
       "      <td>0</td>\n",
       "      <td>4</td>\n",
       "      <td>0</td>\n",
       "      <td>0.17</td>\n",
       "      <td>0</td>\n",
       "      <td>1</td>\n",
       "      <td>0.0</td>\n",
       "      <td>0</td>\n",
       "      <td>0</td>\n",
       "    </tr>\n",
       "    <tr>\n",
       "      <th>28546</th>\n",
       "      <td>The National Border Patrol Council (NBPC) said that our open border is the biggest physical &amp; economic threat facing the American people!</td>\n",
       "      <td>6214.0</td>\n",
       "      <td>False</td>\n",
       "      <td>0.0</td>\n",
       "      <td>2016-04-01 10:24:46</td>\n",
       "      <td>the national border patrol council ( nbpc ) said that our open border is the biggest physical &amp; economic threat facing the american people !</td>\n",
       "      <td>10</td>\n",
       "      <td>4</td>\n",
       "      <td>0</td>\n",
       "      <td>0.15</td>\n",
       "      <td>0</td>\n",
       "      <td>1</td>\n",
       "      <td>0.0</td>\n",
       "      <td>0</td>\n",
       "      <td>0</td>\n",
       "    </tr>\n",
       "    <tr>\n",
       "      <th>28547</th>\n",
       "      <td>For the 1st time in American history, America’s 16,500 border patrol agents have issue a presidential primary endorsement—me! Thank you.</td>\n",
       "      <td>11156.0</td>\n",
       "      <td>False</td>\n",
       "      <td>0.0</td>\n",
       "      <td>2016-04-01 10:25:17</td>\n",
       "      <td>for the 1st time in american history , america ' s 16,500 border patrol agents have issue a presidential primary endorsement--me ! thank you .</td>\n",
       "      <td>10</td>\n",
       "      <td>4</td>\n",
       "      <td>0</td>\n",
       "      <td>0.14</td>\n",
       "      <td>0</td>\n",
       "      <td>1</td>\n",
       "      <td>0.0</td>\n",
       "      <td>0</td>\n",
       "      <td>0</td>\n",
       "    </tr>\n",
       "    <tr>\n",
       "      <th>28548</th>\n",
       "      <td>Does anybody like Lyin' Ted?  https://www.instagram.com/p/BDqwFr_GhZJ/</td>\n",
       "      <td>3268.0</td>\n",
       "      <td>False</td>\n",
       "      <td>0.0</td>\n",
       "      <td>2016-04-01 14:45:18</td>\n",
       "      <td>does anybody like lyin ' ted ? msciurl</td>\n",
       "      <td>14</td>\n",
       "      <td>4</td>\n",
       "      <td>1</td>\n",
       "      <td>0.04</td>\n",
       "      <td>0</td>\n",
       "      <td>0</td>\n",
       "      <td>0.0</td>\n",
       "      <td>0</td>\n",
       "      <td>0</td>\n",
       "    </tr>\n",
       "  </tbody>\n",
       "</table>\n",
       "</div>"
      ],
      "text/plain": [
       "                                                                                                                                               text  \\\n",
       "28544  The Club For Growth,which asked me for $1,000,000 in an extortion attempt, just put up a Wisconsin ad with incorrect math.What a dumb group!   \n",
       "28545  The Club For Growth said in their ad that 465 delegates (Cruz) plus 143 delegates (Kasich) is more than my 739 delegates. Try again!           \n",
       "28546  The National Border Patrol Council (NBPC) said that our open border is the biggest physical & economic threat facing the American people!      \n",
       "28547  For the 1st time in American history, America’s 16,500 border patrol agents have issue a presidential primary endorsement—me! Thank you.       \n",
       "28548  Does anybody like Lyin' Ted?  https://www.instagram.com/p/BDqwFr_GhZJ/                                                                         \n",
       "\n",
       "       retweet_count retweet  num_videos          created_at  \\\n",
       "28544  4791.0         False   0.0        2016-04-01 00:23:25   \n",
       "28545  4434.0         False   0.0        2016-04-01 00:29:49   \n",
       "28546  6214.0         False   0.0        2016-04-01 10:24:46   \n",
       "28547  11156.0        False   0.0        2016-04-01 10:25:17   \n",
       "28548  3268.0         False   0.0        2016-04-01 14:45:18   \n",
       "\n",
       "                                                                                                                                       preprocessed_text  \\\n",
       "28544  the club for growth , which asked me for $ 1,000,000 in an extortion attempt , just put up a wisconsin ad with incorrect math.what a dumb group !   \n",
       "28545  the club for growth said in their ad that 465 delegates ( cruz ) plus 143 delegates ( kasich ) is more than my 739 delegates . try again !          \n",
       "28546  the national border patrol council ( nbpc ) said that our open border is the biggest physical & economic threat facing the american people !        \n",
       "28547  for the 1st time in american history , america ' s 16,500 border patrol agents have issue a presidential primary endorsement--me ! thank you .      \n",
       "28548  does anybody like lyin ' ted ? msciurl                                                                                                              \n",
       "\n",
       "       created_hour  dow  num_links  num_words  num_photos  above_monthly_avg  \\\n",
       "28544  0             4    0          0.16       0           1                   \n",
       "28545  0             4    0          0.17       0           1                   \n",
       "28546  10            4    0          0.15       0           1                   \n",
       "28547  10            4    0          0.14       0           1                   \n",
       "28548  14            4    1          0.04       0           0                   \n",
       "\n",
       "       percent_caps  num_hashtags  num_mentions  \n",
       "28544  0.0           0             0             \n",
       "28545  0.0           0             0             \n",
       "28546  0.0           0             0             \n",
       "28547  0.0           0             0             \n",
       "28548  0.0           0             0             "
      ]
     },
     "execution_count": 46,
     "metadata": {},
     "output_type": "execute_result"
    }
   ],
   "source": [
    "target_twitter_acc.head(5)"
   ]
  },
  {
   "cell_type": "markdown",
   "metadata": {},
   "source": [
    "### Save"
   ]
  },
  {
   "cell_type": "code",
   "execution_count": 47,
   "metadata": {},
   "outputs": [],
   "source": [
    "target_twitter_acc.to_csv(\"./stocks/{}\".format(output_file_name), index=False)"
   ]
  }
 ],
 "metadata": {
  "kernelspec": {
   "display_name": "Python 3",
   "language": "python",
   "name": "python3"
  },
  "language_info": {
   "codemirror_mode": {
    "name": "ipython",
    "version": 3
   },
   "file_extension": ".py",
   "mimetype": "text/x-python",
   "name": "python",
   "nbconvert_exporter": "python",
   "pygments_lexer": "ipython3",
   "version": "3.5.2"
  }
 },
 "nbformat": 4,
 "nbformat_minor": 4
}
