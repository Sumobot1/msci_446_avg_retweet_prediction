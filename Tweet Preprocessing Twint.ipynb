{
 "cells": [
  {
   "cell_type": "code",
   "execution_count": 1,
   "metadata": {},
   "outputs": [],
   "source": [
    "import pandas as pd\n",
    "from datetime import datetime, timedelta\n",
    "import numpy as np\n",
    "import re\n",
    "from data_science_toolkit.string_ops import remove_newlines, remove_excess_spaces, normalize_links, lower, custom_replace, html_to_unicode, unicode_to_html\n",
    "from data_science_toolkit.utils import parallel_compute\n",
    "import nltk\n",
    "from unidecode import unidecode\n",
    "import numpy as np\n",
    "from collections import defaultdict\n",
    "from dateutil import relativedelta\n",
    "from data_science_toolkit.file_ops import write_pkl\n",
    "from ast import literal_eval"
   ]
  },
  {
   "cell_type": "code",
   "execution_count": 2,
   "metadata": {},
   "outputs": [],
   "source": [
    "pd.set_option('display.max_colwidth', -1)\n",
    "pd.set_option('display.max_rows', 500)"
   ]
  },
  {
   "cell_type": "markdown",
   "metadata": {},
   "source": [
    "# CHANGE THIS WHEN USING A DIFFERENT TWITTER ACCOUNT!!"
   ]
  },
  {
   "cell_type": "code",
   "execution_count": 3,
   "metadata": {},
   "outputs": [],
   "source": [
    "input_file_name = 'elonmusk_twint.csv'\n",
    "output_file_name = \"elonmusk_twint_preprocessed.csv\""
   ]
  },
  {
   "cell_type": "code",
   "execution_count": 4,
   "metadata": {},
   "outputs": [],
   "source": [
    "trumptweets = pd.read_csv(\"./tweets/{}\".format(input_file_name))\n",
    "# trumptweets = trumptweets.dropna()\n",
    "# stocks = pd.read_csv('./stocks/spx_preprocessed.csv')\n",
    "# stocks['Date']= pd.to_datetime(stocks['Date']) "
   ]
  },
  {
   "cell_type": "code",
   "execution_count": 5,
   "metadata": {},
   "outputs": [
    {
     "data": {
      "text/html": [
       "<div>\n",
       "<style scoped>\n",
       "    .dataframe tbody tr th:only-of-type {\n",
       "        vertical-align: middle;\n",
       "    }\n",
       "\n",
       "    .dataframe tbody tr th {\n",
       "        vertical-align: top;\n",
       "    }\n",
       "\n",
       "    .dataframe thead th {\n",
       "        text-align: right;\n",
       "    }\n",
       "</style>\n",
       "<table border=\"1\" class=\"dataframe\">\n",
       "  <thead>\n",
       "    <tr style=\"text-align: right;\">\n",
       "      <th></th>\n",
       "      <th>id</th>\n",
       "      <th>conversation_id</th>\n",
       "      <th>created_at</th>\n",
       "      <th>date</th>\n",
       "      <th>time</th>\n",
       "      <th>timezone</th>\n",
       "      <th>user_id</th>\n",
       "      <th>username</th>\n",
       "      <th>name</th>\n",
       "      <th>place</th>\n",
       "      <th>...</th>\n",
       "      <th>quote_url</th>\n",
       "      <th>video</th>\n",
       "      <th>near</th>\n",
       "      <th>geo</th>\n",
       "      <th>source</th>\n",
       "      <th>user_rt_id</th>\n",
       "      <th>user_rt</th>\n",
       "      <th>retweet_id</th>\n",
       "      <th>reply_to</th>\n",
       "      <th>retweet_date</th>\n",
       "    </tr>\n",
       "  </thead>\n",
       "  <tbody>\n",
       "    <tr>\n",
       "      <th>0</th>\n",
       "      <td>1199240674484162560</td>\n",
       "      <td>1190264525838262272</td>\n",
       "      <td>1574756232000</td>\n",
       "      <td>2019-11-26</td>\n",
       "      <td>03:17:12</td>\n",
       "      <td>Eastern Standard Time</td>\n",
       "      <td>44196397</td>\n",
       "      <td>elonmusk</td>\n",
       "      <td>Elon Musk</td>\n",
       "      <td>NaN</td>\n",
       "      <td>...</td>\n",
       "      <td>NaN</td>\n",
       "      <td>0</td>\n",
       "      <td>NaN</td>\n",
       "      <td>NaN</td>\n",
       "      <td>NaN</td>\n",
       "      <td>NaN</td>\n",
       "      <td>NaN</td>\n",
       "      <td>NaN</td>\n",
       "      <td>[{'user_id': '44196397', 'username': 'elonmusk'}, {'user_id': '16504257', 'username': 'Nnedi'}, {'user_id': '13298072', 'username': 'Tesla'}]</td>\n",
       "      <td>NaN</td>\n",
       "    </tr>\n",
       "    <tr>\n",
       "      <th>1</th>\n",
       "      <td>1199158300257865729</td>\n",
       "      <td>1198751258384818176</td>\n",
       "      <td>1574736592000</td>\n",
       "      <td>2019-11-25</td>\n",
       "      <td>21:49:52</td>\n",
       "      <td>Eastern Standard Time</td>\n",
       "      <td>44196397</td>\n",
       "      <td>elonmusk</td>\n",
       "      <td>Elon Musk</td>\n",
       "      <td>NaN</td>\n",
       "      <td>...</td>\n",
       "      <td>NaN</td>\n",
       "      <td>0</td>\n",
       "      <td>NaN</td>\n",
       "      <td>NaN</td>\n",
       "      <td>NaN</td>\n",
       "      <td>NaN</td>\n",
       "      <td>NaN</td>\n",
       "      <td>NaN</td>\n",
       "      <td>[{'user_id': '44196397', 'username': 'elonmusk'}, {'user_id': '258602317', 'username': 'kimpaquette'}, {'user_id': '19725644', 'username': 'neiltyson'}]</td>\n",
       "      <td>NaN</td>\n",
       "    </tr>\n",
       "    <tr>\n",
       "      <th>2</th>\n",
       "      <td>1199157485082312704</td>\n",
       "      <td>1198751258384818176</td>\n",
       "      <td>1574736398000</td>\n",
       "      <td>2019-11-25</td>\n",
       "      <td>21:46:38</td>\n",
       "      <td>Eastern Standard Time</td>\n",
       "      <td>44196397</td>\n",
       "      <td>elonmusk</td>\n",
       "      <td>Elon Musk</td>\n",
       "      <td>NaN</td>\n",
       "      <td>...</td>\n",
       "      <td>NaN</td>\n",
       "      <td>0</td>\n",
       "      <td>NaN</td>\n",
       "      <td>NaN</td>\n",
       "      <td>NaN</td>\n",
       "      <td>NaN</td>\n",
       "      <td>NaN</td>\n",
       "      <td>NaN</td>\n",
       "      <td>[{'user_id': '44196397', 'username': 'elonmusk'}, {'user_id': '19725644', 'username': 'neiltyson'}]</td>\n",
       "      <td>NaN</td>\n",
       "    </tr>\n",
       "    <tr>\n",
       "      <th>3</th>\n",
       "      <td>1199093936070905856</td>\n",
       "      <td>1198751258384818176</td>\n",
       "      <td>1574721247000</td>\n",
       "      <td>2019-11-25</td>\n",
       "      <td>17:34:07</td>\n",
       "      <td>Eastern Standard Time</td>\n",
       "      <td>44196397</td>\n",
       "      <td>elonmusk</td>\n",
       "      <td>Elon Musk</td>\n",
       "      <td>NaN</td>\n",
       "      <td>...</td>\n",
       "      <td>NaN</td>\n",
       "      <td>0</td>\n",
       "      <td>NaN</td>\n",
       "      <td>NaN</td>\n",
       "      <td>NaN</td>\n",
       "      <td>NaN</td>\n",
       "      <td>NaN</td>\n",
       "      <td>NaN</td>\n",
       "      <td>[{'user_id': '44196397', 'username': 'elonmusk'}, {'user_id': '19725644', 'username': 'neiltyson'}]</td>\n",
       "      <td>NaN</td>\n",
       "    </tr>\n",
       "    <tr>\n",
       "      <th>4</th>\n",
       "      <td>1199090292177006592</td>\n",
       "      <td>1199090292177006592</td>\n",
       "      <td>1574720378000</td>\n",
       "      <td>2019-11-25</td>\n",
       "      <td>17:19:38</td>\n",
       "      <td>Eastern Standard Time</td>\n",
       "      <td>44196397</td>\n",
       "      <td>elonmusk</td>\n",
       "      <td>Elon Musk</td>\n",
       "      <td>NaN</td>\n",
       "      <td>...</td>\n",
       "      <td>https://twitter.com/sundeep/status/1198988235252199424</td>\n",
       "      <td>0</td>\n",
       "      <td>NaN</td>\n",
       "      <td>NaN</td>\n",
       "      <td>NaN</td>\n",
       "      <td>NaN</td>\n",
       "      <td>NaN</td>\n",
       "      <td>NaN</td>\n",
       "      <td>[{'user_id': '44196397', 'username': 'elonmusk'}]</td>\n",
       "      <td>NaN</td>\n",
       "    </tr>\n",
       "  </tbody>\n",
       "</table>\n",
       "<p>5 rows × 31 columns</p>\n",
       "</div>"
      ],
      "text/plain": [
       "                    id      conversation_id     created_at        date  \\\n",
       "0  1199240674484162560  1190264525838262272  1574756232000  2019-11-26   \n",
       "1  1199158300257865729  1198751258384818176  1574736592000  2019-11-25   \n",
       "2  1199157485082312704  1198751258384818176  1574736398000  2019-11-25   \n",
       "3  1199093936070905856  1198751258384818176  1574721247000  2019-11-25   \n",
       "4  1199090292177006592  1199090292177006592  1574720378000  2019-11-25   \n",
       "\n",
       "       time               timezone   user_id  username       name  place  ...  \\\n",
       "0  03:17:12  Eastern Standard Time  44196397  elonmusk  Elon Musk NaN     ...   \n",
       "1  21:49:52  Eastern Standard Time  44196397  elonmusk  Elon Musk NaN     ...   \n",
       "2  21:46:38  Eastern Standard Time  44196397  elonmusk  Elon Musk NaN     ...   \n",
       "3  17:34:07  Eastern Standard Time  44196397  elonmusk  Elon Musk NaN     ...   \n",
       "4  17:19:38  Eastern Standard Time  44196397  elonmusk  Elon Musk NaN     ...   \n",
       "\n",
       "                                                quote_url video near geo  \\\n",
       "0  NaN                                                     0    NaN  NaN   \n",
       "1  NaN                                                     0    NaN  NaN   \n",
       "2  NaN                                                     0    NaN  NaN   \n",
       "3  NaN                                                     0    NaN  NaN   \n",
       "4  https://twitter.com/sundeep/status/1198988235252199424  0    NaN  NaN   \n",
       "\n",
       "   source  user_rt_id  user_rt retweet_id  \\\n",
       "0 NaN     NaN         NaN      NaN          \n",
       "1 NaN     NaN         NaN      NaN          \n",
       "2 NaN     NaN         NaN      NaN          \n",
       "3 NaN     NaN         NaN      NaN          \n",
       "4 NaN     NaN         NaN      NaN          \n",
       "\n",
       "                                                                                                                                                   reply_to  \\\n",
       "0  [{'user_id': '44196397', 'username': 'elonmusk'}, {'user_id': '16504257', 'username': 'Nnedi'}, {'user_id': '13298072', 'username': 'Tesla'}]              \n",
       "1  [{'user_id': '44196397', 'username': 'elonmusk'}, {'user_id': '258602317', 'username': 'kimpaquette'}, {'user_id': '19725644', 'username': 'neiltyson'}]   \n",
       "2  [{'user_id': '44196397', 'username': 'elonmusk'}, {'user_id': '19725644', 'username': 'neiltyson'}]                                                        \n",
       "3  [{'user_id': '44196397', 'username': 'elonmusk'}, {'user_id': '19725644', 'username': 'neiltyson'}]                                                        \n",
       "4  [{'user_id': '44196397', 'username': 'elonmusk'}]                                                                                                          \n",
       "\n",
       "  retweet_date  \n",
       "0 NaN           \n",
       "1 NaN           \n",
       "2 NaN           \n",
       "3 NaN           \n",
       "4 NaN           \n",
       "\n",
       "[5 rows x 31 columns]"
      ]
     },
     "execution_count": 5,
     "metadata": {},
     "output_type": "execute_result"
    }
   ],
   "source": [
    "trumptweets.head(5)"
   ]
  },
  {
   "cell_type": "code",
   "execution_count": 6,
   "metadata": {},
   "outputs": [
    {
     "data": {
      "text/plain": [
       "0"
      ]
     },
     "execution_count": 6,
     "metadata": {},
     "output_type": "execute_result"
    }
   ],
   "source": [
    "trumptweets['tweet'].isna().sum()"
   ]
  },
  {
   "cell_type": "code",
   "execution_count": 7,
   "metadata": {
    "scrolled": true
   },
   "outputs": [
    {
     "data": {
      "text/plain": [
       "Index(['id', 'conversation_id', 'created_at', 'date', 'time', 'timezone',\n",
       "       'user_id', 'username', 'name', 'tweet', 'mentions', 'urls', 'photos',\n",
       "       'replies_count', 'retweets_count', 'likes_count', 'hashtags',\n",
       "       'cashtags', 'link', 'retweet', 'video', 'reply_to'],\n",
       "      dtype='object')"
      ]
     },
     "execution_count": 7,
     "metadata": {},
     "output_type": "execute_result"
    }
   ],
   "source": [
    "trumptweets = trumptweets.dropna(axis=1)\n",
    "# trumptweets = trumptweets.countna(subset=['tweet'])\n",
    "trumptweets.columns"
   ]
  },
  {
   "cell_type": "code",
   "execution_count": 8,
   "metadata": {},
   "outputs": [
    {
     "data": {
      "text/html": [
       "<div>\n",
       "<style scoped>\n",
       "    .dataframe tbody tr th:only-of-type {\n",
       "        vertical-align: middle;\n",
       "    }\n",
       "\n",
       "    .dataframe tbody tr th {\n",
       "        vertical-align: top;\n",
       "    }\n",
       "\n",
       "    .dataframe thead th {\n",
       "        text-align: right;\n",
       "    }\n",
       "</style>\n",
       "<table border=\"1\" class=\"dataframe\">\n",
       "  <thead>\n",
       "    <tr style=\"text-align: right;\">\n",
       "      <th></th>\n",
       "      <th>id</th>\n",
       "      <th>conversation_id</th>\n",
       "      <th>created_at</th>\n",
       "      <th>date</th>\n",
       "      <th>time</th>\n",
       "      <th>timezone</th>\n",
       "      <th>user_id</th>\n",
       "      <th>username</th>\n",
       "      <th>name</th>\n",
       "      <th>tweet</th>\n",
       "      <th>...</th>\n",
       "      <th>photos</th>\n",
       "      <th>replies_count</th>\n",
       "      <th>retweets_count</th>\n",
       "      <th>likes_count</th>\n",
       "      <th>hashtags</th>\n",
       "      <th>cashtags</th>\n",
       "      <th>link</th>\n",
       "      <th>retweet</th>\n",
       "      <th>video</th>\n",
       "      <th>reply_to</th>\n",
       "    </tr>\n",
       "  </thead>\n",
       "  <tbody>\n",
       "    <tr>\n",
       "      <th>0</th>\n",
       "      <td>1199240674484162560</td>\n",
       "      <td>1190264525838262272</td>\n",
       "      <td>1574756232000</td>\n",
       "      <td>2019-11-26</td>\n",
       "      <td>03:17:12</td>\n",
       "      <td>Eastern Standard Time</td>\n",
       "      <td>44196397</td>\n",
       "      <td>elonmusk</td>\n",
       "      <td>Elon Musk</td>\n",
       "      <td>We’d be happy to help</td>\n",
       "      <td>...</td>\n",
       "      <td>[]</td>\n",
       "      <td>95</td>\n",
       "      <td>68</td>\n",
       "      <td>1626</td>\n",
       "      <td>[]</td>\n",
       "      <td>[]</td>\n",
       "      <td>https://twitter.com/elonmusk/status/1199240674484162560</td>\n",
       "      <td>False</td>\n",
       "      <td>0</td>\n",
       "      <td>[{'user_id': '44196397', 'username': 'elonmusk'}, {'user_id': '16504257', 'username': 'Nnedi'}, {'user_id': '13298072', 'username': 'Tesla'}]</td>\n",
       "    </tr>\n",
       "    <tr>\n",
       "      <th>1</th>\n",
       "      <td>1199158300257865729</td>\n",
       "      <td>1198751258384818176</td>\n",
       "      <td>1574736592000</td>\n",
       "      <td>2019-11-25</td>\n",
       "      <td>21:49:52</td>\n",
       "      <td>Eastern Standard Time</td>\n",
       "      <td>44196397</td>\n",
       "      <td>elonmusk</td>\n",
       "      <td>Elon Musk</td>\n",
       "      <td>Sure, will aim to do this next week</td>\n",
       "      <td>...</td>\n",
       "      <td>[]</td>\n",
       "      <td>240</td>\n",
       "      <td>237</td>\n",
       "      <td>5946</td>\n",
       "      <td>[]</td>\n",
       "      <td>[]</td>\n",
       "      <td>https://twitter.com/elonmusk/status/1199158300257865729</td>\n",
       "      <td>False</td>\n",
       "      <td>0</td>\n",
       "      <td>[{'user_id': '44196397', 'username': 'elonmusk'}, {'user_id': '258602317', 'username': 'kimpaquette'}, {'user_id': '19725644', 'username': 'neiltyson'}]</td>\n",
       "    </tr>\n",
       "    <tr>\n",
       "      <th>2</th>\n",
       "      <td>1199157485082312704</td>\n",
       "      <td>1198751258384818176</td>\n",
       "      <td>1574736398000</td>\n",
       "      <td>2019-11-25</td>\n",
       "      <td>21:46:38</td>\n",
       "      <td>Eastern Standard Time</td>\n",
       "      <td>44196397</td>\n",
       "      <td>elonmusk</td>\n",
       "      <td>Elon Musk</td>\n",
       "      <td>Agreed, this will be exciting to see!</td>\n",
       "      <td>...</td>\n",
       "      <td>[]</td>\n",
       "      <td>382</td>\n",
       "      <td>450</td>\n",
       "      <td>17301</td>\n",
       "      <td>[]</td>\n",
       "      <td>[]</td>\n",
       "      <td>https://twitter.com/elonmusk/status/1199157485082312704</td>\n",
       "      <td>False</td>\n",
       "      <td>0</td>\n",
       "      <td>[{'user_id': '44196397', 'username': 'elonmusk'}, {'user_id': '19725644', 'username': 'neiltyson'}]</td>\n",
       "    </tr>\n",
       "  </tbody>\n",
       "</table>\n",
       "<p>3 rows × 22 columns</p>\n",
       "</div>"
      ],
      "text/plain": [
       "                    id      conversation_id     created_at        date  \\\n",
       "0  1199240674484162560  1190264525838262272  1574756232000  2019-11-26   \n",
       "1  1199158300257865729  1198751258384818176  1574736592000  2019-11-25   \n",
       "2  1199157485082312704  1198751258384818176  1574736398000  2019-11-25   \n",
       "\n",
       "       time               timezone   user_id  username       name  \\\n",
       "0  03:17:12  Eastern Standard Time  44196397  elonmusk  Elon Musk   \n",
       "1  21:49:52  Eastern Standard Time  44196397  elonmusk  Elon Musk   \n",
       "2  21:46:38  Eastern Standard Time  44196397  elonmusk  Elon Musk   \n",
       "\n",
       "                                   tweet  ... photos replies_count  \\\n",
       "0  We’d be happy to help                  ...  []     95             \n",
       "1  Sure, will aim to do this next week    ...  []     240            \n",
       "2  Agreed, this will be exciting to see!  ...  []     382            \n",
       "\n",
       "  retweets_count  likes_count  hashtags  cashtags  \\\n",
       "0  68             1626         []        []         \n",
       "1  237            5946         []        []         \n",
       "2  450            17301        []        []         \n",
       "\n",
       "                                                      link retweet video  \\\n",
       "0  https://twitter.com/elonmusk/status/1199240674484162560  False   0      \n",
       "1  https://twitter.com/elonmusk/status/1199158300257865729  False   0      \n",
       "2  https://twitter.com/elonmusk/status/1199157485082312704  False   0      \n",
       "\n",
       "                                                                                                                                                   reply_to  \n",
       "0  [{'user_id': '44196397', 'username': 'elonmusk'}, {'user_id': '16504257', 'username': 'Nnedi'}, {'user_id': '13298072', 'username': 'Tesla'}]             \n",
       "1  [{'user_id': '44196397', 'username': 'elonmusk'}, {'user_id': '258602317', 'username': 'kimpaquette'}, {'user_id': '19725644', 'username': 'neiltyson'}]  \n",
       "2  [{'user_id': '44196397', 'username': 'elonmusk'}, {'user_id': '19725644', 'username': 'neiltyson'}]                                                       \n",
       "\n",
       "[3 rows x 22 columns]"
      ]
     },
     "execution_count": 8,
     "metadata": {},
     "output_type": "execute_result"
    }
   ],
   "source": [
    "trumptweets.head(3)"
   ]
  },
  {
   "cell_type": "code",
   "execution_count": 9,
   "metadata": {},
   "outputs": [],
   "source": [
    "trumptweets = trumptweets.drop([\"id\", \n",
    "                                \"conversation_id\", \n",
    "                                \"created_at\", \n",
    "                                \"timezone\", \n",
    "                                \"user_id\", \n",
    "                                \"username\", \n",
    "                                \"name\", \n",
    "                                \"replies_count\",\n",
    "                                \"likes_count\",\n",
    "                                \"reply_to\",\n",
    "                                \"cashtags\",\n",
    "                                \"mentions\",\n",
    "                                \"link\"], axis=1)"
   ]
  },
  {
   "cell_type": "code",
   "execution_count": 10,
   "metadata": {},
   "outputs": [],
   "source": [
    "trumptweets = trumptweets.rename(columns={\"retweets_count\": \"retweet_count\", \n",
    "                                          \"tweet\": \"text\", \n",
    "                                          \"video\": \"num_videos\"})"
   ]
  },
  {
   "cell_type": "code",
   "execution_count": 11,
   "metadata": {},
   "outputs": [
    {
     "data": {
      "text/html": [
       "<div>\n",
       "<style scoped>\n",
       "    .dataframe tbody tr th:only-of-type {\n",
       "        vertical-align: middle;\n",
       "    }\n",
       "\n",
       "    .dataframe tbody tr th {\n",
       "        vertical-align: top;\n",
       "    }\n",
       "\n",
       "    .dataframe thead th {\n",
       "        text-align: right;\n",
       "    }\n",
       "</style>\n",
       "<table border=\"1\" class=\"dataframe\">\n",
       "  <thead>\n",
       "    <tr style=\"text-align: right;\">\n",
       "      <th></th>\n",
       "      <th>date</th>\n",
       "      <th>time</th>\n",
       "      <th>text</th>\n",
       "      <th>urls</th>\n",
       "      <th>photos</th>\n",
       "      <th>retweet_count</th>\n",
       "      <th>hashtags</th>\n",
       "      <th>retweet</th>\n",
       "      <th>num_videos</th>\n",
       "    </tr>\n",
       "  </thead>\n",
       "  <tbody>\n",
       "    <tr>\n",
       "      <th>0</th>\n",
       "      <td>2019-11-26</td>\n",
       "      <td>03:17:12</td>\n",
       "      <td>We’d be happy to help</td>\n",
       "      <td>[]</td>\n",
       "      <td>[]</td>\n",
       "      <td>68</td>\n",
       "      <td>[]</td>\n",
       "      <td>False</td>\n",
       "      <td>0</td>\n",
       "    </tr>\n",
       "    <tr>\n",
       "      <th>1</th>\n",
       "      <td>2019-11-25</td>\n",
       "      <td>21:49:52</td>\n",
       "      <td>Sure, will aim to do this next week</td>\n",
       "      <td>[]</td>\n",
       "      <td>[]</td>\n",
       "      <td>237</td>\n",
       "      <td>[]</td>\n",
       "      <td>False</td>\n",
       "      <td>0</td>\n",
       "    </tr>\n",
       "  </tbody>\n",
       "</table>\n",
       "</div>"
      ],
      "text/plain": [
       "         date      time                                 text urls photos  \\\n",
       "0  2019-11-26  03:17:12  We’d be happy to help                []   []      \n",
       "1  2019-11-25  21:49:52  Sure, will aim to do this next week  []   []      \n",
       "\n",
       "   retweet_count hashtags  retweet  num_videos  \n",
       "0  68             []       False    0           \n",
       "1  237            []       False    0           "
      ]
     },
     "execution_count": 11,
     "metadata": {},
     "output_type": "execute_result"
    }
   ],
   "source": [
    "trumptweets.head(2)"
   ]
  },
  {
   "cell_type": "code",
   "execution_count": 12,
   "metadata": {},
   "outputs": [],
   "source": [
    "trumptweets['created_at'] = trumptweets.date + \" \" + trumptweets.time"
   ]
  },
  {
   "cell_type": "code",
   "execution_count": 13,
   "metadata": {},
   "outputs": [
    {
     "data": {
      "text/html": [
       "<div>\n",
       "<style scoped>\n",
       "    .dataframe tbody tr th:only-of-type {\n",
       "        vertical-align: middle;\n",
       "    }\n",
       "\n",
       "    .dataframe tbody tr th {\n",
       "        vertical-align: top;\n",
       "    }\n",
       "\n",
       "    .dataframe thead th {\n",
       "        text-align: right;\n",
       "    }\n",
       "</style>\n",
       "<table border=\"1\" class=\"dataframe\">\n",
       "  <thead>\n",
       "    <tr style=\"text-align: right;\">\n",
       "      <th></th>\n",
       "      <th>date</th>\n",
       "      <th>time</th>\n",
       "      <th>text</th>\n",
       "      <th>urls</th>\n",
       "      <th>photos</th>\n",
       "      <th>retweet_count</th>\n",
       "      <th>hashtags</th>\n",
       "      <th>retweet</th>\n",
       "      <th>num_videos</th>\n",
       "      <th>created_at</th>\n",
       "    </tr>\n",
       "  </thead>\n",
       "  <tbody>\n",
       "    <tr>\n",
       "      <th>0</th>\n",
       "      <td>2019-11-26</td>\n",
       "      <td>03:17:12</td>\n",
       "      <td>We’d be happy to help</td>\n",
       "      <td>[]</td>\n",
       "      <td>[]</td>\n",
       "      <td>68</td>\n",
       "      <td>[]</td>\n",
       "      <td>False</td>\n",
       "      <td>0</td>\n",
       "      <td>2019-11-26 03:17:12</td>\n",
       "    </tr>\n",
       "    <tr>\n",
       "      <th>1</th>\n",
       "      <td>2019-11-25</td>\n",
       "      <td>21:49:52</td>\n",
       "      <td>Sure, will aim to do this next week</td>\n",
       "      <td>[]</td>\n",
       "      <td>[]</td>\n",
       "      <td>237</td>\n",
       "      <td>[]</td>\n",
       "      <td>False</td>\n",
       "      <td>0</td>\n",
       "      <td>2019-11-25 21:49:52</td>\n",
       "    </tr>\n",
       "  </tbody>\n",
       "</table>\n",
       "</div>"
      ],
      "text/plain": [
       "         date      time                                 text urls photos  \\\n",
       "0  2019-11-26  03:17:12  We’d be happy to help                []   []      \n",
       "1  2019-11-25  21:49:52  Sure, will aim to do this next week  []   []      \n",
       "\n",
       "   retweet_count hashtags  retweet  num_videos           created_at  \n",
       "0  68             []       False    0           2019-11-26 03:17:12  \n",
       "1  237            []       False    0           2019-11-25 21:49:52  "
      ]
     },
     "execution_count": 13,
     "metadata": {},
     "output_type": "execute_result"
    }
   ],
   "source": [
    "trumptweets.head(2)"
   ]
  },
  {
   "cell_type": "code",
   "execution_count": 14,
   "metadata": {},
   "outputs": [],
   "source": [
    "trumptweets['created_at']= pd.to_datetime(trumptweets['created_at'], format=\"%Y-%m-%d %H:%M:%S\") "
   ]
  },
  {
   "cell_type": "code",
   "execution_count": 15,
   "metadata": {},
   "outputs": [
    {
     "name": "stdout",
     "output_type": "stream",
     "text": [
      "<class 'pandas.core.frame.DataFrame'>\n",
      "RangeIndex: 8126 entries, 0 to 8125\n",
      "Data columns (total 10 columns):\n",
      "date             8126 non-null object\n",
      "time             8126 non-null object\n",
      "text             8126 non-null object\n",
      "urls             8126 non-null object\n",
      "photos           8126 non-null object\n",
      "retweet_count    8126 non-null int64\n",
      "hashtags         8126 non-null object\n",
      "retweet          8126 non-null bool\n",
      "num_videos       8126 non-null int64\n",
      "created_at       8126 non-null datetime64[ns]\n",
      "dtypes: bool(1), datetime64[ns](1), int64(2), object(6)\n",
      "memory usage: 579.4+ KB\n"
     ]
    }
   ],
   "source": [
    "trumptweets.info()"
   ]
  },
  {
   "cell_type": "markdown",
   "metadata": {},
   "source": [
    "### Only keep original tweets"
   ]
  },
  {
   "cell_type": "code",
   "execution_count": 16,
   "metadata": {},
   "outputs": [],
   "source": [
    "# trumptweets['retweet'] = (trumptweets['is_retweet'] == 'true').astype(bool)\n",
    "trumptweets = trumptweets[trumptweets['retweet'] == False]"
   ]
  },
  {
   "cell_type": "code",
   "execution_count": 17,
   "metadata": {},
   "outputs": [],
   "source": [
    "trumptweets = trumptweets.sort_values(by=\"created_at\")\n",
    "trumptweets = trumptweets.reset_index(drop=True)\n",
    "# stocks = stocks.sort_values(by=\"Date\")\n",
    "# stocks = stocks.reset_index(drop=True)"
   ]
  },
  {
   "cell_type": "code",
   "execution_count": 18,
   "metadata": {},
   "outputs": [],
   "source": [
    "# boi = trumptweets.iloc[3500].text\n",
    "# boi"
   ]
  },
  {
   "cell_type": "code",
   "execution_count": 19,
   "metadata": {},
   "outputs": [],
   "source": [
    "import demoji\n",
    "def replace_emojis_with_desc(text):\n",
    "    emoji_map = demoji.findall(text)\n",
    "    for key in emoji_map.keys():\n",
    "        emoji_map[key] = re.sub(r'\\W+', '', emoji_map[key].lower()).replace(\" \", \"\")\n",
    "    for k, v in emoji_map.items():\n",
    "        text = text.replace(k, v)\n",
    "    return text\n",
    "# boi"
   ]
  },
  {
   "cell_type": "markdown",
   "metadata": {},
   "source": [
    "## Easy Text preprocessing\n",
    "- Convert to lower case\n",
    "- Convert links to `msciurl`\n",
    "- Remove 'RT'\n",
    "- Turn @mentions into `twitmention` (nltk splits the @ and the name)\n",
    "- Turn #hashtags into `twithashtag` (nltk splits the # and the content)\n",
    "- Tokenize sentence (split punctuation into its own tokens)\n",
    "- Replace unicode characters with their ascii equivalents (makes things easier to analyze)\n",
    "- Remove excess spaces/newlines"
   ]
  },
  {
   "cell_type": "code",
   "execution_count": 20,
   "metadata": {},
   "outputs": [],
   "source": [
    "def preprocess_tweet(tweet):\n",
    "    tweet = normalize_links(remove_newlines(html_to_unicode(tweet)), 'msciurl')\n",
    "    tweet = re.sub(r\"pic\\.twitter\\.com\\S+\", 'twitpicture', tweet)\n",
    "    tweet = replace_emojis_with_desc(tweet)\n",
    "    # NLTK by default turns mentions into @ <tag>.  Makes for easier analysis this stops the mentions from being separated, and allows them to be used in the clustering and stuff later...\n",
    "    tweet = custom_replace(tweet,\n",
    "                          [re.compile('RT'), re.compile(r\"@(?=\\S)\"), re.compile(r\"#(?=\\S)\")],\n",
    "                          [' ', 'twitmention', 'twithashtag'])\n",
    "    tweet = ' '.join([word for sent in nltk.sent_tokenize(tweet) for word in nltk.word_tokenize(sent)])\n",
    "    return unidecode(lower(remove_excess_spaces(tweet)))"
   ]
  },
  {
   "cell_type": "code",
   "execution_count": 21,
   "metadata": {},
   "outputs": [
    {
     "name": "stderr",
     "output_type": "stream",
     "text": [
      "100%|██████████| 8126/8126 [00:00<00:00, 8392.78it/s]\n"
     ]
    }
   ],
   "source": [
    "tweets = trumptweets[\"text\"].tolist()\n",
    "processed_tweets = parallel_compute(tweets, preprocess_tweet)"
   ]
  },
  {
   "cell_type": "code",
   "execution_count": 22,
   "metadata": {},
   "outputs": [],
   "source": [
    "trumptweets['preprocessed_text'] = processed_tweets"
   ]
  },
  {
   "cell_type": "markdown",
   "metadata": {},
   "source": [
    "## Add Other Columns for Analysis"
   ]
  },
  {
   "cell_type": "markdown",
   "metadata": {},
   "source": [
    "### Hour of day tweet was created"
   ]
  },
  {
   "cell_type": "code",
   "execution_count": 23,
   "metadata": {},
   "outputs": [],
   "source": [
    "trumptweets[\"created_hour\"] = trumptweets[\"created_at\"].apply(lambda x: x.hour)"
   ]
  },
  {
   "cell_type": "markdown",
   "metadata": {},
   "source": [
    "### Day of week tweet was created"
   ]
  },
  {
   "cell_type": "code",
   "execution_count": 24,
   "metadata": {},
   "outputs": [],
   "source": [
    "trumptweets['dow'] = trumptweets['created_at'].dt.dayofweek"
   ]
  },
  {
   "cell_type": "markdown",
   "metadata": {},
   "source": [
    "### Number of links in tweet"
   ]
  },
  {
   "cell_type": "code",
   "execution_count": 25,
   "metadata": {},
   "outputs": [],
   "source": [
    "trumptweets['num_links'] = trumptweets.preprocessed_text.apply(lambda tweet: sum([1 if 'msciurl' in word else 0 for word in tweet.split(\"  \")]))"
   ]
  },
  {
   "cell_type": "markdown",
   "metadata": {},
   "source": [
    "### Number of words in tweet (ignoring mentions, hashtags, and links)"
   ]
  },
  {
   "cell_type": "code",
   "execution_count": 26,
   "metadata": {},
   "outputs": [],
   "source": [
    "trumptweets['num_words'] = trumptweets.preprocessed_text.apply(lambda tweet: sum([1 if len(word) > 1 and 'msciurl' not in word and 'twitmention' not in word and 'twithashtag' not in word else 0 for word in tweet.split(\" \")]))"
   ]
  },
  {
   "cell_type": "markdown",
   "metadata": {},
   "source": [
    "### Count Photos"
   ]
  },
  {
   "cell_type": "code",
   "execution_count": 27,
   "metadata": {},
   "outputs": [],
   "source": [
    "trumptweets['num_photos'] = trumptweets.photos.apply(lambda x: len(literal_eval(str(x))))"
   ]
  },
  {
   "cell_type": "markdown",
   "metadata": {},
   "source": [
    "## There is one tweets that is messed up... remove it"
   ]
  },
  {
   "cell_type": "code",
   "execution_count": 28,
   "metadata": {},
   "outputs": [],
   "source": [
    "# trumptweets = trumptweets[trumptweets.num_words < 55]"
   ]
  },
  {
   "cell_type": "code",
   "execution_count": 29,
   "metadata": {},
   "outputs": [
    {
     "data": {
      "text/html": [
       "<div>\n",
       "<style scoped>\n",
       "    .dataframe tbody tr th:only-of-type {\n",
       "        vertical-align: middle;\n",
       "    }\n",
       "\n",
       "    .dataframe tbody tr th {\n",
       "        vertical-align: top;\n",
       "    }\n",
       "\n",
       "    .dataframe thead th {\n",
       "        text-align: right;\n",
       "    }\n",
       "</style>\n",
       "<table border=\"1\" class=\"dataframe\">\n",
       "  <thead>\n",
       "    <tr style=\"text-align: right;\">\n",
       "      <th></th>\n",
       "      <th>date</th>\n",
       "      <th>time</th>\n",
       "      <th>text</th>\n",
       "      <th>urls</th>\n",
       "      <th>photos</th>\n",
       "      <th>retweet_count</th>\n",
       "      <th>hashtags</th>\n",
       "      <th>retweet</th>\n",
       "      <th>num_videos</th>\n",
       "      <th>created_at</th>\n",
       "      <th>preprocessed_text</th>\n",
       "      <th>created_hour</th>\n",
       "      <th>dow</th>\n",
       "      <th>num_links</th>\n",
       "      <th>num_words</th>\n",
       "      <th>num_photos</th>\n",
       "    </tr>\n",
       "  </thead>\n",
       "  <tbody>\n",
       "    <tr>\n",
       "      <th>0</th>\n",
       "      <td>2010-06-04</td>\n",
       "      <td>14:31:57</td>\n",
       "      <td>Please ignore prior tweets, as that was someone pretending to be me :)  This is actually me.</td>\n",
       "      <td>[]</td>\n",
       "      <td>[]</td>\n",
       "      <td>122</td>\n",
       "      <td>[]</td>\n",
       "      <td>False</td>\n",
       "      <td>0</td>\n",
       "      <td>2010-06-04 14:31:57</td>\n",
       "      <td>please ignore prior tweets , as that was someone pretending to be me : ) this is actually me .</td>\n",
       "      <td>14</td>\n",
       "      <td>4</td>\n",
       "      <td>0</td>\n",
       "      <td>16</td>\n",
       "      <td>0</td>\n",
       "    </tr>\n",
       "    <tr>\n",
       "      <th>1</th>\n",
       "      <td>2011-12-01</td>\n",
       "      <td>04:55:11</td>\n",
       "      <td>Went to Iceland on Sat to ride bumper cars on ice!  No, not the country, Vlad's rink in Van Nuys. Awesome family fun :) pic.twitter.com/rBQXJ9IT</td>\n",
       "      <td>[]</td>\n",
       "      <td>['https://pbs.twimg.com/media/Afkf5DMCAAEJGFr.jpg']</td>\n",
       "      <td>17</td>\n",
       "      <td>[]</td>\n",
       "      <td>False</td>\n",
       "      <td>0</td>\n",
       "      <td>2011-12-01 04:55:11</td>\n",
       "      <td>went to iceland on sat to ride bumper cars on ice ! no , not the country , vlad 's rink in van nuys . awesome family fun : ) twitpicture</td>\n",
       "      <td>4</td>\n",
       "      <td>3</td>\n",
       "      <td>0</td>\n",
       "      <td>25</td>\n",
       "      <td>1</td>\n",
       "    </tr>\n",
       "    <tr>\n",
       "      <th>2</th>\n",
       "      <td>2011-12-01</td>\n",
       "      <td>05:29:04</td>\n",
       "      <td>I made the volume on the Model S  http://ow.ly/i/mtD7  go to 11.  Now I just need to work in a miniature Stonehenge...</td>\n",
       "      <td>['http://ow.ly/i/mtD7']</td>\n",
       "      <td>[]</td>\n",
       "      <td>9</td>\n",
       "      <td>[]</td>\n",
       "      <td>False</td>\n",
       "      <td>0</td>\n",
       "      <td>2011-12-01 05:29:04</td>\n",
       "      <td>i made the volume on the model s msciurl go to 11 . now i just need to work in a miniature stonehenge ...</td>\n",
       "      <td>5</td>\n",
       "      <td>3</td>\n",
       "      <td>1</td>\n",
       "      <td>18</td>\n",
       "      <td>0</td>\n",
       "    </tr>\n",
       "    <tr>\n",
       "      <th>3</th>\n",
       "      <td>2011-12-03</td>\n",
       "      <td>03:20:28</td>\n",
       "      <td>Great Voltaire quote, arguably better than Twain. Hearing news of his own death, Voltaire replied the reports were true, only premature.</td>\n",
       "      <td>[]</td>\n",
       "      <td>[]</td>\n",
       "      <td>25</td>\n",
       "      <td>[]</td>\n",
       "      <td>False</td>\n",
       "      <td>0</td>\n",
       "      <td>2011-12-03 03:20:28</td>\n",
       "      <td>great voltaire quote , arguably better than twain . hearing news of his own death , voltaire replied the reports were true , only premature .</td>\n",
       "      <td>3</td>\n",
       "      <td>5</td>\n",
       "      <td>0</td>\n",
       "      <td>21</td>\n",
       "      <td>0</td>\n",
       "    </tr>\n",
       "    <tr>\n",
       "      <th>4</th>\n",
       "      <td>2011-12-03</td>\n",
       "      <td>03:22:07</td>\n",
       "      <td>That was a total non sequitur btw</td>\n",
       "      <td>[]</td>\n",
       "      <td>[]</td>\n",
       "      <td>4</td>\n",
       "      <td>[]</td>\n",
       "      <td>False</td>\n",
       "      <td>0</td>\n",
       "      <td>2011-12-03 03:22:07</td>\n",
       "      <td>that was a total non sequitur btw</td>\n",
       "      <td>3</td>\n",
       "      <td>5</td>\n",
       "      <td>0</td>\n",
       "      <td>6</td>\n",
       "      <td>0</td>\n",
       "    </tr>\n",
       "  </tbody>\n",
       "</table>\n",
       "</div>"
      ],
      "text/plain": [
       "         date      time  \\\n",
       "0  2010-06-04  14:31:57   \n",
       "1  2011-12-01  04:55:11   \n",
       "2  2011-12-01  05:29:04   \n",
       "3  2011-12-03  03:20:28   \n",
       "4  2011-12-03  03:22:07   \n",
       "\n",
       "                                                                                                                                               text  \\\n",
       "0  Please ignore prior tweets, as that was someone pretending to be me :)  This is actually me.                                                       \n",
       "1  Went to Iceland on Sat to ride bumper cars on ice!  No, not the country, Vlad's rink in Van Nuys. Awesome family fun :) pic.twitter.com/rBQXJ9IT   \n",
       "2  I made the volume on the Model S  http://ow.ly/i/mtD7  go to 11.  Now I just need to work in a miniature Stonehenge...                             \n",
       "3  Great Voltaire quote, arguably better than Twain. Hearing news of his own death, Voltaire replied the reports were true, only premature.           \n",
       "4  That was a total non sequitur btw                                                                                                                  \n",
       "\n",
       "                      urls  \\\n",
       "0  []                        \n",
       "1  []                        \n",
       "2  ['http://ow.ly/i/mtD7']   \n",
       "3  []                        \n",
       "4  []                        \n",
       "\n",
       "                                                photos  retweet_count  \\\n",
       "0  []                                                   122             \n",
       "1  ['https://pbs.twimg.com/media/Afkf5DMCAAEJGFr.jpg']  17              \n",
       "2  []                                                   9               \n",
       "3  []                                                   25              \n",
       "4  []                                                   4               \n",
       "\n",
       "  hashtags  retweet  num_videos          created_at  \\\n",
       "0  []       False    0          2010-06-04 14:31:57   \n",
       "1  []       False    0          2011-12-01 04:55:11   \n",
       "2  []       False    0          2011-12-01 05:29:04   \n",
       "3  []       False    0          2011-12-03 03:20:28   \n",
       "4  []       False    0          2011-12-03 03:22:07   \n",
       "\n",
       "                                                                                                                               preprocessed_text  \\\n",
       "0  please ignore prior tweets , as that was someone pretending to be me : ) this is actually me .                                                  \n",
       "1  went to iceland on sat to ride bumper cars on ice ! no , not the country , vlad 's rink in van nuys . awesome family fun : ) twitpicture        \n",
       "2  i made the volume on the model s msciurl go to 11 . now i just need to work in a miniature stonehenge ...                                       \n",
       "3  great voltaire quote , arguably better than twain . hearing news of his own death , voltaire replied the reports were true , only premature .   \n",
       "4  that was a total non sequitur btw                                                                                                               \n",
       "\n",
       "   created_hour  dow  num_links  num_words  num_photos  \n",
       "0  14            4    0          16         0           \n",
       "1  4             3    0          25         1           \n",
       "2  5             3    1          18         0           \n",
       "3  3             5    0          21         0           \n",
       "4  3             5    0          6          0           "
      ]
     },
     "execution_count": 29,
     "metadata": {},
     "output_type": "execute_result"
    }
   ],
   "source": [
    "trumptweets.head(5)"
   ]
  },
  {
   "cell_type": "markdown",
   "metadata": {},
   "source": [
    "# MORE OR LESS RETWEETS THAN AVG!!"
   ]
  },
  {
   "cell_type": "code",
   "execution_count": 30,
   "metadata": {},
   "outputs": [],
   "source": [
    "min_year = min([x.year for x in trumptweets['created_at'].tolist()])\n",
    "max_year = max([x.year for x in trumptweets['created_at'].tolist()])+1"
   ]
  },
  {
   "cell_type": "code",
   "execution_count": 31,
   "metadata": {},
   "outputs": [
    {
     "name": "stderr",
     "output_type": "stream",
     "text": [
      "/usr/local/lib/python3.5/dist-packages/numpy/core/fromnumeric.py:3257: RuntimeWarning: Mean of empty slice.\n",
      "  out=out, **kwargs)\n",
      "/usr/local/lib/python3.5/dist-packages/numpy/core/_methods.py:161: RuntimeWarning: invalid value encountered in double_scalars\n",
      "  ret = ret.dtype.type(ret / rcount)\n"
     ]
    }
   ],
   "source": [
    "curr_dt = datetime(min_year, 1, 1)\n",
    "dt_avg = defaultdict(lambda: defaultdict(int))\n",
    "while curr_dt < datetime(max_year, 1, 1):\n",
    "    dt_avg[curr_dt.year][curr_dt.month] = np.mean(trumptweets[trumptweets['created_at'].between(curr_dt, curr_dt+relativedelta.relativedelta(months=1))]['retweet_count'].tolist())  \n",
    "    curr_dt += relativedelta.relativedelta(months=1)"
   ]
  },
  {
   "cell_type": "markdown",
   "metadata": {},
   "source": [
    "## Save averages to pkl to read in EDA.ipynb"
   ]
  },
  {
   "cell_type": "code",
   "execution_count": 32,
   "metadata": {},
   "outputs": [],
   "source": [
    "write_pkl(\"dt_avg_{}.pkl\".format(output_file_name), dict(dt_avg))"
   ]
  },
  {
   "cell_type": "code",
   "execution_count": 33,
   "metadata": {},
   "outputs": [],
   "source": [
    "greater_than_monthly_avg = list(map(int, [count > dt_avg[curr_date.year][curr_date.month] \n",
    "                                          for count, curr_date in zip(trumptweets['retweet_count'].tolist(), trumptweets['created_at'].tolist())]))\n",
    "trumptweets['above_monthly_avg'] = greater_than_monthly_avg"
   ]
  },
  {
   "cell_type": "markdown",
   "metadata": {},
   "source": [
    "## Percent Caps"
   ]
  },
  {
   "cell_type": "code",
   "execution_count": 34,
   "metadata": {},
   "outputs": [],
   "source": [
    "orig = trumptweets['text'].tolist()\n",
    "percent_caps = []\n",
    "for tweet in orig:\n",
    "    words = tweet.split(\" \")\n",
    "    num_allcaps = sum([1 for x in words if x.upper() == x and re.search('[a-zA-Z]', x)])\n",
    "    percent_caps.append(int(num_allcaps/len(words)*10)/10 if len(words) else 0)"
   ]
  },
  {
   "cell_type": "code",
   "execution_count": 35,
   "metadata": {},
   "outputs": [
    {
     "name": "stdout",
     "output_type": "stream",
     "text": [
      "{0.0, 1.0, 0.1, 0.3, 0.2, 0.5, 0.4, 0.6}\n"
     ]
    }
   ],
   "source": [
    "trumptweets['percent_caps'] = percent_caps\n",
    "print(set(percent_caps))"
   ]
  },
  {
   "cell_type": "markdown",
   "metadata": {},
   "source": [
    "## Num Hashtags"
   ]
  },
  {
   "cell_type": "code",
   "execution_count": 36,
   "metadata": {},
   "outputs": [],
   "source": [
    "preprocessed = trumptweets['preprocessed_text'].tolist()\n",
    "num_hashtags = []\n",
    "for tweet in preprocessed:\n",
    "    words = tweet.split(\" \")\n",
    "    num_hashtag = sum([1 for x in words if 'twithashtag' in x and re.search('[a-zA-Z]', x)])\n",
    "    num_hashtags.append(num_hashtag if num_hashtag else 0)"
   ]
  },
  {
   "cell_type": "code",
   "execution_count": 37,
   "metadata": {},
   "outputs": [
    {
     "name": "stdout",
     "output_type": "stream",
     "text": [
      "{0, 1, 2}\n"
     ]
    }
   ],
   "source": [
    "trumptweets['num_hashtags'] = num_hashtags\n",
    "print(set(num_hashtags))"
   ]
  },
  {
   "cell_type": "markdown",
   "metadata": {},
   "source": [
    "## Num Mentions"
   ]
  },
  {
   "cell_type": "code",
   "execution_count": 38,
   "metadata": {},
   "outputs": [],
   "source": [
    "num_mentions = []\n",
    "for tweet in preprocessed:\n",
    "    words = tweet.split(\" \")\n",
    "    num_mention = sum([1 for x in words if 'twitmention' in x and re.search('[a-zA-Z]', x)])\n",
    "    num_mentions.append(num_mention if num_mention else 0)"
   ]
  },
  {
   "cell_type": "code",
   "execution_count": 39,
   "metadata": {},
   "outputs": [
    {
     "name": "stdout",
     "output_type": "stream",
     "text": [
      "{0, 1, 2, 3, 4}\n"
     ]
    }
   ],
   "source": [
    "trumptweets['num_mentions'] = num_mentions\n",
    "print(set(num_mentions))"
   ]
  },
  {
   "cell_type": "code",
   "execution_count": 40,
   "metadata": {},
   "outputs": [],
   "source": [
    "trumptweets = trumptweets.drop([\"date\", \"time\", \"urls\", \"photos\", \"hashtags\"], axis=1)"
   ]
  },
  {
   "cell_type": "code",
   "execution_count": null,
   "metadata": {},
   "outputs": [],
   "source": []
  },
  {
   "cell_type": "markdown",
   "metadata": {},
   "source": [
    "### Final Dataframe..."
   ]
  },
  {
   "cell_type": "code",
   "execution_count": 42,
   "metadata": {},
   "outputs": [
    {
     "data": {
      "text/html": [
       "<div>\n",
       "<style scoped>\n",
       "    .dataframe tbody tr th:only-of-type {\n",
       "        vertical-align: middle;\n",
       "    }\n",
       "\n",
       "    .dataframe tbody tr th {\n",
       "        vertical-align: top;\n",
       "    }\n",
       "\n",
       "    .dataframe thead th {\n",
       "        text-align: right;\n",
       "    }\n",
       "</style>\n",
       "<table border=\"1\" class=\"dataframe\">\n",
       "  <thead>\n",
       "    <tr style=\"text-align: right;\">\n",
       "      <th></th>\n",
       "      <th>text</th>\n",
       "      <th>retweet_count</th>\n",
       "      <th>retweet</th>\n",
       "      <th>num_videos</th>\n",
       "      <th>created_at</th>\n",
       "      <th>preprocessed_text</th>\n",
       "      <th>created_hour</th>\n",
       "      <th>dow</th>\n",
       "      <th>num_links</th>\n",
       "      <th>num_words</th>\n",
       "      <th>num_photos</th>\n",
       "      <th>above_monthly_avg</th>\n",
       "      <th>percent_caps</th>\n",
       "      <th>num_hashtags</th>\n",
       "      <th>num_mentions</th>\n",
       "    </tr>\n",
       "  </thead>\n",
       "  <tbody>\n",
       "    <tr>\n",
       "      <th>0</th>\n",
       "      <td>Please ignore prior tweets, as that was someone pretending to be me :)  This is actually me.</td>\n",
       "      <td>122</td>\n",
       "      <td>False</td>\n",
       "      <td>0</td>\n",
       "      <td>2010-06-04 14:31:57</td>\n",
       "      <td>please ignore prior tweets , as that was someone pretending to be me : ) this is actually me .</td>\n",
       "      <td>14</td>\n",
       "      <td>4</td>\n",
       "      <td>0</td>\n",
       "      <td>16</td>\n",
       "      <td>0</td>\n",
       "      <td>0</td>\n",
       "      <td>0.0</td>\n",
       "      <td>0</td>\n",
       "      <td>0</td>\n",
       "    </tr>\n",
       "    <tr>\n",
       "      <th>1</th>\n",
       "      <td>Went to Iceland on Sat to ride bumper cars on ice!  No, not the country, Vlad's rink in Van Nuys. Awesome family fun :) pic.twitter.com/rBQXJ9IT</td>\n",
       "      <td>17</td>\n",
       "      <td>False</td>\n",
       "      <td>0</td>\n",
       "      <td>2011-12-01 04:55:11</td>\n",
       "      <td>went to iceland on sat to ride bumper cars on ice ! no , not the country , vlad 's rink in van nuys . awesome family fun : ) twitpicture</td>\n",
       "      <td>4</td>\n",
       "      <td>3</td>\n",
       "      <td>0</td>\n",
       "      <td>25</td>\n",
       "      <td>1</td>\n",
       "      <td>0</td>\n",
       "      <td>0.0</td>\n",
       "      <td>0</td>\n",
       "      <td>0</td>\n",
       "    </tr>\n",
       "    <tr>\n",
       "      <th>2</th>\n",
       "      <td>I made the volume on the Model S  http://ow.ly/i/mtD7  go to 11.  Now I just need to work in a miniature Stonehenge...</td>\n",
       "      <td>9</td>\n",
       "      <td>False</td>\n",
       "      <td>0</td>\n",
       "      <td>2011-12-01 05:29:04</td>\n",
       "      <td>i made the volume on the model s msciurl go to 11 . now i just need to work in a miniature stonehenge ...</td>\n",
       "      <td>5</td>\n",
       "      <td>3</td>\n",
       "      <td>1</td>\n",
       "      <td>18</td>\n",
       "      <td>0</td>\n",
       "      <td>0</td>\n",
       "      <td>0.1</td>\n",
       "      <td>0</td>\n",
       "      <td>0</td>\n",
       "    </tr>\n",
       "    <tr>\n",
       "      <th>3</th>\n",
       "      <td>Great Voltaire quote, arguably better than Twain. Hearing news of his own death, Voltaire replied the reports were true, only premature.</td>\n",
       "      <td>25</td>\n",
       "      <td>False</td>\n",
       "      <td>0</td>\n",
       "      <td>2011-12-03 03:20:28</td>\n",
       "      <td>great voltaire quote , arguably better than twain . hearing news of his own death , voltaire replied the reports were true , only premature .</td>\n",
       "      <td>3</td>\n",
       "      <td>5</td>\n",
       "      <td>0</td>\n",
       "      <td>21</td>\n",
       "      <td>0</td>\n",
       "      <td>0</td>\n",
       "      <td>0.0</td>\n",
       "      <td>0</td>\n",
       "      <td>0</td>\n",
       "    </tr>\n",
       "    <tr>\n",
       "      <th>4</th>\n",
       "      <td>That was a total non sequitur btw</td>\n",
       "      <td>4</td>\n",
       "      <td>False</td>\n",
       "      <td>0</td>\n",
       "      <td>2011-12-03 03:22:07</td>\n",
       "      <td>that was a total non sequitur btw</td>\n",
       "      <td>3</td>\n",
       "      <td>5</td>\n",
       "      <td>0</td>\n",
       "      <td>6</td>\n",
       "      <td>0</td>\n",
       "      <td>0</td>\n",
       "      <td>0.0</td>\n",
       "      <td>0</td>\n",
       "      <td>0</td>\n",
       "    </tr>\n",
       "  </tbody>\n",
       "</table>\n",
       "</div>"
      ],
      "text/plain": [
       "                                                                                                                                               text  \\\n",
       "0  Please ignore prior tweets, as that was someone pretending to be me :)  This is actually me.                                                       \n",
       "1  Went to Iceland on Sat to ride bumper cars on ice!  No, not the country, Vlad's rink in Van Nuys. Awesome family fun :) pic.twitter.com/rBQXJ9IT   \n",
       "2  I made the volume on the Model S  http://ow.ly/i/mtD7  go to 11.  Now I just need to work in a miniature Stonehenge...                             \n",
       "3  Great Voltaire quote, arguably better than Twain. Hearing news of his own death, Voltaire replied the reports were true, only premature.           \n",
       "4  That was a total non sequitur btw                                                                                                                  \n",
       "\n",
       "   retweet_count  retweet  num_videos          created_at  \\\n",
       "0  122            False    0          2010-06-04 14:31:57   \n",
       "1  17             False    0          2011-12-01 04:55:11   \n",
       "2  9              False    0          2011-12-01 05:29:04   \n",
       "3  25             False    0          2011-12-03 03:20:28   \n",
       "4  4              False    0          2011-12-03 03:22:07   \n",
       "\n",
       "                                                                                                                               preprocessed_text  \\\n",
       "0  please ignore prior tweets , as that was someone pretending to be me : ) this is actually me .                                                  \n",
       "1  went to iceland on sat to ride bumper cars on ice ! no , not the country , vlad 's rink in van nuys . awesome family fun : ) twitpicture        \n",
       "2  i made the volume on the model s msciurl go to 11 . now i just need to work in a miniature stonehenge ...                                       \n",
       "3  great voltaire quote , arguably better than twain . hearing news of his own death , voltaire replied the reports were true , only premature .   \n",
       "4  that was a total non sequitur btw                                                                                                               \n",
       "\n",
       "   created_hour  dow  num_links  num_words  num_photos  above_monthly_avg  \\\n",
       "0  14            4    0          16         0           0                   \n",
       "1  4             3    0          25         1           0                   \n",
       "2  5             3    1          18         0           0                   \n",
       "3  3             5    0          21         0           0                   \n",
       "4  3             5    0          6          0           0                   \n",
       "\n",
       "   percent_caps  num_hashtags  num_mentions  \n",
       "0  0.0           0             0             \n",
       "1  0.0           0             0             \n",
       "2  0.1           0             0             \n",
       "3  0.0           0             0             \n",
       "4  0.0           0             0             "
      ]
     },
     "execution_count": 42,
     "metadata": {},
     "output_type": "execute_result"
    }
   ],
   "source": [
    "trumptweets.head(5)"
   ]
  },
  {
   "cell_type": "markdown",
   "metadata": {},
   "source": [
    "### Save"
   ]
  },
  {
   "cell_type": "code",
   "execution_count": 43,
   "metadata": {},
   "outputs": [],
   "source": [
    "trumptweets.to_csv(\"./stocks/{}\".format(output_file_name), index=False)"
   ]
  },
  {
   "cell_type": "code",
   "execution_count": null,
   "metadata": {},
   "outputs": [],
   "source": []
  }
 ],
 "metadata": {
  "kernelspec": {
   "display_name": "Python 3",
   "language": "python",
   "name": "python3"
  },
  "language_info": {
   "codemirror_mode": {
    "name": "ipython",
    "version": 3
   },
   "file_extension": ".py",
   "mimetype": "text/x-python",
   "name": "python",
   "nbconvert_exporter": "python",
   "pygments_lexer": "ipython3",
   "version": "3.5.2"
  }
 },
 "nbformat": 4,
 "nbformat_minor": 4
}
