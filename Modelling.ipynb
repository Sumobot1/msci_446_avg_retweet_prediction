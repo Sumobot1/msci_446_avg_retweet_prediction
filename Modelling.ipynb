{
 "cells": [
  {
   "cell_type": "code",
   "execution_count": 102,
   "metadata": {},
   "outputs": [],
   "source": [
    "import pandas as pd\n",
    "from datetime import datetime, timedelta, date\n",
    "import numpy as np\n",
    "from collections import Counter\n",
    "from data_science_toolkit.data_visualization import get_fig_ax, visualize_class_distribution, top_n_tokens_plot_from_counter\n",
    "import matplotlib.pyplot as plt\n",
    "import nltk\n",
    "import  re\n",
    "from nltk.corpus import stopwords \n",
    "from nltk.tokenize import word_tokenize \n",
    "# Stealing stuff... http://brandonrose.org/clustering\n",
    "from nltk.stem.snowball import SnowballStemmer\n",
    "import nltk, re\n",
    "import itertools\n",
    "from sklearn.feature_extraction.text import TfidfVectorizer\n",
    "from sklearn.feature_extraction.text import CountVectorizer, TfidfVectorizer\n",
    "import pandas\n",
    "import numpy as np\n",
    "from sklearn.svm import SVC\n",
    "from sklearn.metrics import *\n",
    "from datetime import date"
   ]
  },
  {
   "cell_type": "code",
   "execution_count": 103,
   "metadata": {},
   "outputs": [],
   "source": [
    "%matplotlib inline\n",
    "pd.set_option('display.max_colwidth', -1)\n",
    "pd.set_option('display.max_rows', 500)\n",
    "# pd.set_option('display.max_columns', 500)\n",
    "# pd.set_option('display.width', 1000)"
   ]
  },
  {
   "cell_type": "code",
   "execution_count": 104,
   "metadata": {},
   "outputs": [],
   "source": [
    "stock_tweet = pd.read_csv('./since_election_with_cluster_trump_tweets_sp500.csv')\n",
    "stock_tweet['created_at']= pd.to_datetime(stock_tweet['created_at']) \n",
    "stock_tweet['dow'] = stock_tweet.dow.astype('category')\n",
    "stock_tweet['num_links'] = stock_tweet.num_links.astype('category')\n",
    "stock_tweet['num_words'] = stock_tweet.num_words.astype('category')\n",
    "stock_tweet['cluster_number'] = stock_tweet.cluster_number.astype('category')\n",
    "stock_tweet['created_hour'] = stock_tweet.created_hour.astype('category')"
   ]
  },
  {
   "cell_type": "code",
   "execution_count": 105,
   "metadata": {},
   "outputs": [
    {
     "name": "stdout",
     "output_type": "stream",
     "text": [
      "<class 'pandas.core.frame.DataFrame'>\n",
      "RangeIndex: 4395 entries, 0 to 4394\n",
      "Data columns (total 21 columns):\n",
      "text                 4395 non-null object\n",
      "created_at           4395 non-null datetime64[ns]\n",
      "retweet_count        4395 non-null float64\n",
      "favorite_count       4395 non-null int64\n",
      "is_retweet           4395 non-null bool\n",
      "after_dir            4395 non-null int64\n",
      "1_open_dir           4395 non-null int64\n",
      "1_close_dir          4395 non-null int64\n",
      "2_open_dir           4395 non-null int64\n",
      "2_close_dir          4395 non-null int64\n",
      "eow_close_dir        4395 non-null int64\n",
      "sow_open_dir         4395 non-null int64\n",
      "sig_up               4395 non-null int64\n",
      "sig_down             4395 non-null int64\n",
      "is_sig               4395 non-null int64\n",
      "preprocessed_text    4395 non-null object\n",
      "created_hour         4395 non-null category\n",
      "dow                  4395 non-null category\n",
      "num_links            4395 non-null category\n",
      "num_words            4395 non-null category\n",
      "cluster_number       4395 non-null category\n",
      "dtypes: bool(1), category(5), datetime64[ns](1), float64(1), int64(11), object(2)\n",
      "memory usage: 545.5+ KB\n"
     ]
    }
   ],
   "source": [
    "stock_tweet.info()"
   ]
  },
  {
   "cell_type": "code",
   "execution_count": 106,
   "metadata": {},
   "outputs": [
    {
     "name": "stdout",
     "output_type": "stream",
     "text": [
      "{'', 'until', 'couldn', \"that'll\", 'an', 'didn', \"isn't\", 'himself', 'after', \"wouldn't\", 'up', 'nor', 'yourselves', 'his', 'be', 'has', 'it', 'only', 'their', 'd', 'below', \"it's\", \"should've\", \"you've\", 'any', 's', \"haven't\", 'too', 'her', 'hasn', 'having', 'other', 'through', 'mustn', \"mustn't\", 'whom', 'when', 'wasn', 'haven', 're', 't', 'have', \"you'll\", 'both', \"shouldn't\", 'no', 'll', 'yourself', 'a', 'while', 'yours', 'o', 'few', 'were', 'into', 'off', 'down', 'here', 'y', 'the', 'he', 'now', 'above', 'aren', 'these', 'such', 'by', 'as', 'how', 'for', 'so', \"wasn't\", 'me', 'my', 'and', 'that', 'same', 'theirs', 'doing', 'each', 'again', 'm', 'our', \"don't\", 'before', 'most', 'than', 'all', 'or', 'over', \"weren't\", \"you'd\", \"won't\", 'where', 'did', 'we', \"she's\", 'won', 'about', 'those', 'hadn', 'some', 'will', \"needn't\", 'been', 'who', 'this', 'should', 'between', 'is', 'with', 'under', 'itself', 'very', 'themselves', 'doesn', 'weren', 'once', 'what', \"hadn't\", 'being', \"you're\", 'just', 'at', 'more', \"shan't\", 'wouldn', 'ma', \"didn't\", 'during', \"hasn't\", 'was', 'can', 'isn', 'in', \"mightn't\", 'you', 'don', \"couldn't\", 'against', 'if', 'to', 'shan', 'does', 'but', 'shouldn', 'had', 'are', 'because', 'i', 'ain', 'from', 'out', 'herself', 'hers', 'ourselves', 'there', 'needn', 'which', 'ours', 'why', \"aren't\", 'own', 'myself', 'them', 'him', 'on', 'then', 'mightn', 'not', 'do', 'your', 'of', 'they', \"doesn't\", 'further', 'she', 've', 'am', 'its'}\n"
     ]
    }
   ],
   "source": [
    "stop_words = set(stopwords.words('english')).union({''})\n",
    "print(stop_words)"
   ]
  },
  {
   "cell_type": "code",
   "execution_count": 107,
   "metadata": {},
   "outputs": [
    {
     "data": {
      "text/plain": [
       "4395"
      ]
     },
     "execution_count": 107,
     "metadata": {},
     "output_type": "execute_result"
    }
   ],
   "source": [
    "len(stock_tweet.index)"
   ]
  },
  {
   "cell_type": "code",
   "execution_count": 108,
   "metadata": {},
   "outputs": [
    {
     "name": "stderr",
     "output_type": "stream",
     "text": [
      "4395it [00:00, 950890.65it/s]\n",
      "3955it [00:00, 1153419.02it/s]\n"
     ]
    }
   ],
   "source": [
    "# from data_science_toolkit.dataset_ops import classifier_train_test_split\n",
    "# train_in, test_in, train_out, test_out = classifier_train_test_split(stock_tweet.preprocessed_text.tolist(), stock_tweet.after_dir.tolist(), test_size=0.2, random_state=1)\n",
    "from data_science_toolkit.dataset_ops import classifier_train_val_test_dfs\n",
    "# Need to shuffle!!\n",
    "train_df, val_df, test_df = classifier_train_val_test_dfs(stock_tweet.sample(frac=1), \"after_dir\", train_val_test_split=(0.8,0.1,0.1), random_state=1)"
   ]
  },
  {
   "cell_type": "code",
   "execution_count": 109,
   "metadata": {},
   "outputs": [],
   "source": [
    "train_in = train_df['preprocessed_text'].tolist()\n",
    "train_out = train_df['after_dir'].tolist()\n",
    "val_in = val_df['preprocessed_text'].tolist()\n",
    "val_out = val_df['after_dir'].tolist()\n",
    "test_in = test_df['preprocessed_text'].tolist()\n",
    "test_out = test_df['after_dir'].tolist()"
   ]
  },
  {
   "cell_type": "markdown",
   "metadata": {},
   "source": [
    "# STOLE A BUNCH OF SHIT FROM HERE: https://medium.com/@chrisfotache/text-classification-in-python-pipelines-nlp-nltk-tf-idf-xgboost-and-more-b83451a327e0"
   ]
  },
  {
   "cell_type": "code",
   "execution_count": 9,
   "metadata": {},
   "outputs": [],
   "source": [
    "def tokenize_and_stem(text):\n",
    "    # first tokenize by sentence, then by word to ensure that punctuation is caught as it's own token\n",
    "    tokens = [word for sent in nltk.sent_tokenize(text) for word in nltk.word_tokenize(sent)]\n",
    "#     tokens = text.split(\" \")\n",
    "    filtered_tokens = []\n",
    "    # filter out any tokens not containing letters (e.g., numeric tokens, raw punctuation)\n",
    "    for token in tokens:\n",
    "        if re.search('[a-zA-Z]', token):\n",
    "            filtered_tokens.append(token)\n",
    "    stems = [stemmer.stem(t) for t in filtered_tokens]\n",
    "#     stems = [stemmer.stem(t) for t in text.split(\" \")]\n",
    "    return stems\n",
    "\n",
    "def tokenize_only(text):\n",
    "    # first tokenize by sentence, then by word to ensure that punctuation is caught as it's own token\n",
    "    tokens = [word.lower() for sent in nltk.sent_tokenize(text) for word in nltk.word_tokenize(sent)]\n",
    "    filtered_tokens = []\n",
    "    # filter out any tokens not containing letters (e.g., numeric tokens, raw punctuation)\n",
    "    for token in tokens:\n",
    "        if re.search('[a-zA-Z]', token):\n",
    "            filtered_tokens.append(token)\n",
    "    return filtered_tokens\n",
    "\n",
    "def already_preprocessed_tokenize(text):\n",
    "    tokens = text.split(\" \")\n",
    "    filtered_tokens = []\n",
    "    # filter out any tokens not containing letters (e.g., numeric tokens, raw punctuation)\n",
    "    for token in tokens:\n",
    "        if re.search('[a-zA-Z]', token):\n",
    "            filtered_tokens.append(token)\n",
    "    return filtered_tokens"
   ]
  },
  {
   "cell_type": "code",
   "execution_count": 10,
   "metadata": {},
   "outputs": [],
   "source": [
    "stemmer = SnowballStemmer(\"english\")"
   ]
  },
  {
   "cell_type": "code",
   "execution_count": 11,
   "metadata": {},
   "outputs": [
    {
     "name": "stdout",
     "output_type": "stream",
     "text": [
      "there are  9588  items in vocab_frame\n"
     ]
    }
   ],
   "source": [
    "preprocessed_vocab = ' '.join(stock_tweet['preprocessed_text'].tolist())\n",
    "total_vocab = list(set(tokenize_only(preprocessed_vocab)))\n",
    "total_vocab_stemmed = [stemmer.stem(t) for t in total_vocab]\n",
    "vocab_frame = pd.DataFrame({'words': total_vocab}, index = total_vocab_stemmed)\n",
    "print('there are ', str(vocab_frame.shape[0]), ' items in vocab_frame')"
   ]
  },
  {
   "cell_type": "code",
   "execution_count": 12,
   "metadata": {},
   "outputs": [],
   "source": [
    "from sklearn.decomposition import TruncatedSVD\n",
    "from sklearn.pipeline import Pipeline\n",
    "#define vectorizer parameters\n",
    "# tfidf_vectorizer = TfidfVectorizer(max_df=0.9,\n",
    "#                                  min_df=1, stop_words=stop_words,\n",
    "#                                  use_idf=True, tokenizer=already_preprocessed_tokenize, ngram_range=(1,3))\n",
    "tfidf_vectorizer = TfidfVectorizer(max_df=0.9,\n",
    "                                 min_df=1,\n",
    "                                 use_idf=True, tokenizer=already_preprocessed_tokenize, ngram_range=(1,4))\n",
    "# svd = TruncatedSVD(n_components=2000)\n",
    "# pipeline = Pipeline([\n",
    "#     ('tfidf', tfidf_vectorizer),\n",
    "#     ('svd', svd)])\n",
    "\n",
    "# train_x = pipeline.fit_transform(train_in)\n",
    "train_x = tfidf_vectorizer.fit_transform(train_in) #fit the vectorizer to synopses\n",
    "test_x = tfidf_vectorizer.transform(test_in)\n",
    "# test_x = pipeline.transform(test_in)"
   ]
  },
  {
   "cell_type": "code",
   "execution_count": 13,
   "metadata": {},
   "outputs": [],
   "source": [
    "# get_numeric_data = FunctionTransformer(lambda x: x[['num1','num2']], validate=False)\n",
    "# process_and_join_features = Pipeline([\n",
    "#     ('features', FeatureUnion([\n",
    "#             ('numeric_features', Pipeline([\n",
    "#                 ('selector', get_numeric_data)\n",
    "#             ])),\n",
    "#              ('text_features', Pipeline([\n",
    "#                 ('selector', get_text_data),\n",
    "#                 ('vec', CountVectorizer())\n",
    "#             ]))\n",
    "#          ])),\n",
    "#     ('clf', OneVsRestClassifier(LogisticRegression()))\n",
    "# ])\n",
    "\n",
    "from sklearn.base import BaseEstimator, TransformerMixin\n",
    "\n",
    "# class AverageWordLengthExtractor(BaseEstimator, TransformerMixin):\n",
    "#     \"\"\"Takes in dataframe, extracts road name column, outputs average word length\"\"\"\n",
    "\n",
    "#     def __init__(self):\n",
    "#         pass\n",
    "\n",
    "#     def average_word_length(self, name):\n",
    "#         \"\"\"Helper code to compute average word length of a name\"\"\"\n",
    "#         return np.mean([len(word) for word in name.split()])\n",
    "\n",
    "#     def transform(self, df, y=None):\n",
    "#         \"\"\"The workhorse of this feature extractor\"\"\"\n",
    "#         return df['road_name'].apply(self.average_word_length)\n",
    "\n",
    "#     def fit(self, df, y=None):\n",
    "#         \"\"\"Returns `self` unless something different happens in train and test\"\"\"\n",
    "#         return self\n",
    "# class NumericalExtractor(BaseEstimator, TransformerMixin):\n",
    "#     def __init__(self):\n",
    "#         pass\n",
    "#     def fit(self, df, y=None):\n",
    "#         return df\n",
    "#     def transform(self, df, y=None):\n",
    "#         return df\n",
    "\n",
    "# class TFIDFVectorizerExtractor(BaseEstimator, TransformerMixin):\n",
    "#     def __init__(self):\n",
    "#         self.vec = None\n",
    "#     def fit(self, df, y=None):\n",
    "#         self.vec = TfidfVectorizer(max_df=0.9,\n",
    "#                                  min_df=1,\n",
    "#                                  use_idf=True, tokenizer=already_preprocessed_tokenize, ngram_range=(1,4))\n",
    "#         return self.vec.fit(df['preprocessed_text'].tolist())\n",
    "#     def transform(self, df, y=None):\n",
    "#         return self.vec.transform(df['preprocessed_text'].tolist())\n",
    "class TextSelector(BaseEstimator, TransformerMixin):\n",
    "    def __init__(self, field):\n",
    "        self.field = field\n",
    "    def fit(self, X, y=None):\n",
    "        return self\n",
    "    def transform(self, X):\n",
    "        return X[self.field]\n",
    "class NumberSelector(BaseEstimator, TransformerMixin):\n",
    "    def __init__(self, field):\n",
    "        self.field = field\n",
    "    def fit(self, X, y=None):\n",
    "        return self\n",
    "    def transform(self, X):\n",
    "        return X[[self.field]]"
   ]
  },
  {
   "cell_type": "code",
   "execution_count": 79,
   "metadata": {},
   "outputs": [],
   "source": [
    "from sklearn.pipeline import Pipeline, FeatureUnion\n",
    "from sklearn.preprocessing import StandardScaler\n",
    "from sklearn.ensemble import RandomForestClassifier\n",
    "\n",
    "# pipeline = Pipeline([\n",
    "#     ('feats', FeatureUnion([\n",
    "#         ('ngram', TFIDFVectorizerExtractor('preprocessed_text')), # can pass in either a pipeline\n",
    "#         ('ave', NumericalExtractor('dow')) # or a transformer\n",
    "#     ])),\n",
    "#     ('clf', SVC(probability=True, gamma='scale', kernel='rbf'))  # classifier\n",
    "# ])\n",
    "# , 'cluster_number', 'created_hour'\n",
    "classifier = Pipeline([\n",
    "    ('features', FeatureUnion([\n",
    "        ('text', Pipeline([\n",
    "            ('colext', TextSelector('preprocessed_text')),\n",
    "            ('tfidf', TfidfVectorizer(max_df=0.9,min_df=1,use_idf=True, tokenizer=already_preprocessed_tokenize, ngram_range=(1,4)))\n",
    "        ])),\n",
    "        ('dow', Pipeline([\n",
    "            ('dowext', NumberSelector('dow')),\n",
    "            ('dowscaler', StandardScaler()),\n",
    "        ])),\n",
    "        ('cluster_number', Pipeline([\n",
    "            ('clusterext', NumberSelector('cluster_number')),\n",
    "            ('clusterscaler', StandardScaler()),\n",
    "        ])),\n",
    "        ('created_hour', Pipeline([\n",
    "            ('createdext', NumberSelector('created_hour')),\n",
    "            ('createdscaler', StandardScaler()),\n",
    "        ])),\n",
    "    ])),\n",
    "    ('clf', SVC(probability=True, gamma='scale', kernel='rbf')),\n",
    "    ])"
   ]
  },
  {
   "cell_type": "code",
   "execution_count": 80,
   "metadata": {},
   "outputs": [
    {
     "data": {
      "text/plain": [
       "Pipeline(memory=None,\n",
       "         steps=[('features',\n",
       "                 FeatureUnion(n_jobs=None,\n",
       "                              transformer_list=[('text',\n",
       "                                                 Pipeline(memory=None,\n",
       "                                                          steps=[('colext',\n",
       "                                                                  TextSelector(field='preprocessed_text')),\n",
       "                                                                 ('tfidf',\n",
       "                                                                  TfidfVectorizer(analyzer='word',\n",
       "                                                                                  binary=False,\n",
       "                                                                                  decode_error='strict',\n",
       "                                                                                  dtype=<class 'numpy.float64'>,\n",
       "                                                                                  encoding='utf-8',\n",
       "                                                                                  input='content',\n",
       "                                                                                  lowercase=True,\n",
       "                                                                                  max_df=0.9,\n",
       "                                                                                  max_features=Non...\n",
       "                                                                 ('createdscaler',\n",
       "                                                                  StandardScaler(copy=True,\n",
       "                                                                                 with_mean=True,\n",
       "                                                                                 with_std=True))],\n",
       "                                                          verbose=False))],\n",
       "                              transformer_weights=None, verbose=False)),\n",
       "                ('clf',\n",
       "                 SVC(C=1.0, cache_size=200, class_weight=None, coef0=0.0,\n",
       "                     decision_function_shape='ovr', degree=3, gamma='scale',\n",
       "                     kernel='rbf', max_iter=-1, probability=True,\n",
       "                     random_state=None, shrinking=True, tol=0.001,\n",
       "                     verbose=False))],\n",
       "         verbose=False)"
      ]
     },
     "execution_count": 80,
     "metadata": {},
     "output_type": "execute_result"
    }
   ],
   "source": [
    "classifier.fit(train_df, train_out)"
   ]
  },
  {
   "cell_type": "code",
   "execution_count": null,
   "metadata": {},
   "outputs": [],
   "source": []
  },
  {
   "cell_type": "code",
   "execution_count": 115,
   "metadata": {},
   "outputs": [],
   "source": [
    "train_df_random_forest = None\n",
    "train_df_random_forest = pd.concat([train_df, pd.get_dummies(train_df[['dow', 'num_links', 'num_words', 'created_hour', 'cluster_number']])], axis=1)\n",
    "# train_df_random_forest = train_df.join()"
   ]
  },
  {
   "cell_type": "code",
   "execution_count": 116,
   "metadata": {},
   "outputs": [
    {
     "data": {
      "text/plain": [
       "['text',\n",
       " 'created_at',\n",
       " 'retweet_count',\n",
       " 'favorite_count',\n",
       " 'is_retweet',\n",
       " 'after_dir',\n",
       " '1_open_dir',\n",
       " '1_close_dir',\n",
       " '2_open_dir',\n",
       " '2_close_dir',\n",
       " 'eow_close_dir',\n",
       " 'sow_open_dir',\n",
       " 'sig_up',\n",
       " 'sig_down',\n",
       " 'is_sig',\n",
       " 'preprocessed_text',\n",
       " 'created_hour',\n",
       " 'dow',\n",
       " 'num_links',\n",
       " 'num_words',\n",
       " 'cluster_number',\n",
       " 'dow_0',\n",
       " 'dow_1',\n",
       " 'dow_2',\n",
       " 'dow_3',\n",
       " 'dow_4',\n",
       " 'dow_5',\n",
       " 'dow_6',\n",
       " 'num_links_0',\n",
       " 'num_links_1',\n",
       " 'num_words_6',\n",
       " 'num_words_7',\n",
       " 'num_words_8',\n",
       " 'num_words_9',\n",
       " 'num_words_10',\n",
       " 'num_words_11',\n",
       " 'num_words_12',\n",
       " 'num_words_13',\n",
       " 'num_words_14',\n",
       " 'num_words_15',\n",
       " 'num_words_16',\n",
       " 'num_words_17',\n",
       " 'num_words_18',\n",
       " 'num_words_19',\n",
       " 'num_words_20',\n",
       " 'num_words_21',\n",
       " 'num_words_22',\n",
       " 'num_words_23',\n",
       " 'num_words_24',\n",
       " 'num_words_25',\n",
       " 'num_words_26',\n",
       " 'num_words_27',\n",
       " 'num_words_28',\n",
       " 'num_words_29',\n",
       " 'num_words_30',\n",
       " 'num_words_31',\n",
       " 'num_words_32',\n",
       " 'num_words_33',\n",
       " 'num_words_34',\n",
       " 'num_words_35',\n",
       " 'num_words_36',\n",
       " 'num_words_37',\n",
       " 'num_words_38',\n",
       " 'num_words_39',\n",
       " 'num_words_40',\n",
       " 'num_words_41',\n",
       " 'num_words_42',\n",
       " 'num_words_43',\n",
       " 'num_words_44',\n",
       " 'num_words_45',\n",
       " 'num_words_46',\n",
       " 'num_words_47',\n",
       " 'num_words_48',\n",
       " 'num_words_49',\n",
       " 'num_words_50',\n",
       " 'num_words_51',\n",
       " 'num_words_52',\n",
       " 'num_words_53',\n",
       " 'num_words_54',\n",
       " 'num_words_55',\n",
       " 'num_words_56',\n",
       " 'num_words_57',\n",
       " 'num_words_95',\n",
       " 'created_hour_0',\n",
       " 'created_hour_1',\n",
       " 'created_hour_2',\n",
       " 'created_hour_3',\n",
       " 'created_hour_4',\n",
       " 'created_hour_5',\n",
       " 'created_hour_6',\n",
       " 'created_hour_7',\n",
       " 'created_hour_8',\n",
       " 'created_hour_9',\n",
       " 'created_hour_10',\n",
       " 'created_hour_11',\n",
       " 'created_hour_12',\n",
       " 'created_hour_13',\n",
       " 'created_hour_14',\n",
       " 'created_hour_15',\n",
       " 'created_hour_16',\n",
       " 'created_hour_17',\n",
       " 'created_hour_18',\n",
       " 'created_hour_19',\n",
       " 'created_hour_20',\n",
       " 'created_hour_21',\n",
       " 'created_hour_22',\n",
       " 'created_hour_23',\n",
       " 'cluster_number_0',\n",
       " 'cluster_number_1',\n",
       " 'cluster_number_2',\n",
       " 'cluster_number_3',\n",
       " 'cluster_number_4',\n",
       " 'cluster_number_5',\n",
       " 'cluster_number_6',\n",
       " 'cluster_number_7',\n",
       " 'cluster_number_8',\n",
       " 'cluster_number_9']"
      ]
     },
     "execution_count": 116,
     "metadata": {},
     "output_type": "execute_result"
    }
   ],
   "source": [
    "train_df_random_forest.columns.tolist()\n",
    "# pd.get_dummies(train_df[['dow', 'num_links', 'num_words', 'created_hour']])"
   ]
  },
  {
   "cell_type": "code",
   "execution_count": 114,
   "metadata": {},
   "outputs": [
    {
     "data": {
      "text/html": [
       "<div>\n",
       "<style scoped>\n",
       "    .dataframe tbody tr th:only-of-type {\n",
       "        vertical-align: middle;\n",
       "    }\n",
       "\n",
       "    .dataframe tbody tr th {\n",
       "        vertical-align: top;\n",
       "    }\n",
       "\n",
       "    .dataframe thead th {\n",
       "        text-align: right;\n",
       "    }\n",
       "</style>\n",
       "<table border=\"1\" class=\"dataframe\">\n",
       "  <thead>\n",
       "    <tr style=\"text-align: right;\">\n",
       "      <th></th>\n",
       "      <th>text</th>\n",
       "      <th>created_at</th>\n",
       "      <th>retweet_count</th>\n",
       "      <th>favorite_count</th>\n",
       "      <th>is_retweet</th>\n",
       "      <th>after_dir</th>\n",
       "      <th>1_open_dir</th>\n",
       "      <th>1_close_dir</th>\n",
       "      <th>2_open_dir</th>\n",
       "      <th>2_close_dir</th>\n",
       "      <th>...</th>\n",
       "      <th>created_hour_14</th>\n",
       "      <th>created_hour_15</th>\n",
       "      <th>created_hour_16</th>\n",
       "      <th>created_hour_17</th>\n",
       "      <th>created_hour_18</th>\n",
       "      <th>created_hour_19</th>\n",
       "      <th>created_hour_20</th>\n",
       "      <th>created_hour_21</th>\n",
       "      <th>created_hour_22</th>\n",
       "      <th>created_hour_23</th>\n",
       "    </tr>\n",
       "  </thead>\n",
       "  <tbody>\n",
       "    <tr>\n",
       "      <td>314</td>\n",
       "      <td>Happy Canada Day to all of the great people of Canada and to your Prime Minister and my new found friend @JustinTrudeau. #Canada150</td>\n",
       "      <td>2017-07-01 12:44:23</td>\n",
       "      <td>16360.0</td>\n",
       "      <td>78780</td>\n",
       "      <td>False</td>\n",
       "      <td>1</td>\n",
       "      <td>1</td>\n",
       "      <td>1</td>\n",
       "      <td>1</td>\n",
       "      <td>0</td>\n",
       "      <td>...</td>\n",
       "      <td>0</td>\n",
       "      <td>0</td>\n",
       "      <td>0</td>\n",
       "      <td>0</td>\n",
       "      <td>0</td>\n",
       "      <td>0</td>\n",
       "      <td>0</td>\n",
       "      <td>0</td>\n",
       "      <td>0</td>\n",
       "      <td>0</td>\n",
       "    </tr>\n",
       "  </tbody>\n",
       "</table>\n",
       "<p>1 rows × 107 columns</p>\n",
       "</div>"
      ],
      "text/plain": [
       "                                                                                                                                    text  \\\n",
       "314  Happy Canada Day to all of the great people of Canada and to your Prime Minister and my new found friend @JustinTrudeau. #Canada150   \n",
       "\n",
       "             created_at  retweet_count  favorite_count  is_retweet  after_dir  \\\n",
       "314 2017-07-01 12:44:23  16360.0        78780           False       1           \n",
       "\n",
       "     1_open_dir  1_close_dir  2_open_dir  2_close_dir  ...  created_hour_14  \\\n",
       "314  1           1            1           0            ...  0                 \n",
       "\n",
       "     created_hour_15  created_hour_16  created_hour_17  created_hour_18  \\\n",
       "314  0                0                0                0                 \n",
       "\n",
       "    created_hour_19 created_hour_20 created_hour_21 created_hour_22  \\\n",
       "314  0               0               0               0                \n",
       "\n",
       "    created_hour_23  \n",
       "314  0               \n",
       "\n",
       "[1 rows x 107 columns]"
      ]
     },
     "execution_count": 114,
     "metadata": {},
     "output_type": "execute_result"
    }
   ],
   "source": [
    "train_df_random_forest.head(1)"
   ]
  },
  {
   "cell_type": "code",
   "execution_count": 125,
   "metadata": {},
   "outputs": [],
   "source": [
    "classifier2 = Pipeline([\n",
    "    ('features', FeatureUnion([\n",
    "        ('bow', Pipeline([\n",
    "            ('colext', TextSelector('preprocessed_text')),\n",
    "            ('counts', CountVectorizer(stop_words=stop_words, ngram_range=(1,5)))\n",
    "        ])),\n",
    "        ('text', Pipeline([\n",
    "            ('colext', TextSelector('preprocessed_text')),\n",
    "            ('tfidf', TfidfVectorizer(max_df=0.9,min_df=1,use_idf=True, tokenizer=already_preprocessed_tokenize, ngram_range=(1,4)))\n",
    "        ])),\n",
    "        ('dow_0', Pipeline([\n",
    "            ('dowext', NumberSelector('dow_0')),\n",
    "            ('dowscaler', StandardScaler()),\n",
    "        ])),\n",
    "        ('dow_1', Pipeline([\n",
    "            ('dowext', NumberSelector('dow_1')),\n",
    "            ('dowscaler', StandardScaler()),\n",
    "        ])),\n",
    "        ('dow_2', Pipeline([\n",
    "            ('dowext', NumberSelector('dow_2')),\n",
    "            ('dowscaler', StandardScaler()),\n",
    "        ])),\n",
    "        ('dow_3', Pipeline([\n",
    "            ('dowext', NumberSelector('dow_3')),\n",
    "            ('dowscaler', StandardScaler()),\n",
    "        ])),\n",
    "        ('dow_4', Pipeline([\n",
    "            ('dowext', NumberSelector('dow_4')),\n",
    "            ('dowscaler', StandardScaler()),\n",
    "        ])),\n",
    "        ('dow_5', Pipeline([\n",
    "            ('dowext', NumberSelector('dow_5')),\n",
    "            ('dowscaler', StandardScaler()),\n",
    "        ])),\n",
    "        ('dow_6', Pipeline([\n",
    "            ('dowext', NumberSelector('dow_6')),\n",
    "            ('dowscaler', StandardScaler()),\n",
    "        ])),\n",
    "        ('cluster_number_0', Pipeline([\n",
    "            ('clusterext', NumberSelector('cluster_number_0')),\n",
    "            ('clusterscaler', StandardScaler()),\n",
    "        ])),\n",
    "        ('cluster_number_1', Pipeline([\n",
    "            ('clusterext', NumberSelector('cluster_number_1')),\n",
    "            ('clusterscaler', StandardScaler()),\n",
    "        ])),\n",
    "        ('cluster_number_2', Pipeline([\n",
    "            ('clusterext', NumberSelector('cluster_number_2')),\n",
    "            ('clusterscaler', StandardScaler()),\n",
    "        ])),\n",
    "        ('cluster_number_3', Pipeline([\n",
    "            ('clusterext', NumberSelector('cluster_number_3')),\n",
    "            ('clusterscaler', StandardScaler()),\n",
    "        ])),\n",
    "        ('cluster_number_4', Pipeline([\n",
    "            ('clusterext', NumberSelector('cluster_number_4')),\n",
    "            ('clusterscaler', StandardScaler()),\n",
    "        ])),\n",
    "        ('cluster_number_5', Pipeline([\n",
    "            ('clusterext', NumberSelector('cluster_number_5')),\n",
    "            ('clusterscaler', StandardScaler()),\n",
    "        ])),\n",
    "        ('cluster_number_6', Pipeline([\n",
    "            ('clusterext', NumberSelector('cluster_number_6')),\n",
    "            ('clusterscaler', StandardScaler()),\n",
    "        ])),\n",
    "        ('cluster_number_7', Pipeline([\n",
    "            ('clusterext', NumberSelector('cluster_number_7')),\n",
    "            ('clusterscaler', StandardScaler()),\n",
    "        ])),\n",
    "        ('cluster_number_8', Pipeline([\n",
    "            ('clusterext', NumberSelector('cluster_number_8')),\n",
    "            ('clusterscaler', StandardScaler()),\n",
    "        ])),\n",
    "        ('cluster_number_9', Pipeline([\n",
    "            ('clusterext', NumberSelector('cluster_number_9')),\n",
    "            ('clusterscaler', StandardScaler()),\n",
    "        ])),\n",
    "        ('created_hour', Pipeline([\n",
    "            ('createdext', NumberSelector('created_hour')),\n",
    "            ('createdscaler', StandardScaler()),\n",
    "        ])),\n",
    "        ('num_words', Pipeline([\n",
    "            ('createdext', NumberSelector('num_words')),\n",
    "            ('createdscaler', StandardScaler()),\n",
    "        ])),\n",
    "        ('num_links', Pipeline([\n",
    "            ('createdext', NumberSelector('num_links')),\n",
    "            ('createdscaler', StandardScaler()),\n",
    "        ])),\n",
    "    ])),\n",
    "    ('clf', RandomForestClassifier()),\n",
    "    ])"
   ]
  },
  {
   "cell_type": "code",
   "execution_count": 126,
   "metadata": {},
   "outputs": [
    {
     "name": "stderr",
     "output_type": "stream",
     "text": [
      "/home/michael/anaconda3/envs/testenv/lib/python3.7/site-packages/sklearn/ensemble/forest.py:245: FutureWarning: The default value of n_estimators will change from 10 in version 0.20 to 100 in 0.22.\n",
      "  \"10 in version 0.20 to 100 in 0.22.\", FutureWarning)\n"
     ]
    },
    {
     "data": {
      "text/plain": [
       "Pipeline(memory=None,\n",
       "         steps=[('features',\n",
       "                 FeatureUnion(n_jobs=None,\n",
       "                              transformer_list=[('bow',\n",
       "                                                 Pipeline(memory=None,\n",
       "                                                          steps=[('colext',\n",
       "                                                                  TextSelector(field='preprocessed_text')),\n",
       "                                                                 ('counts',\n",
       "                                                                  CountVectorizer(analyzer='word',\n",
       "                                                                                  binary=False,\n",
       "                                                                                  decode_error='strict',\n",
       "                                                                                  dtype=<class 'numpy.int64'>,\n",
       "                                                                                  encoding='utf-8',\n",
       "                                                                                  input='content',\n",
       "                                                                                  lowercase=True,\n",
       "                                                                                  max_df=1.0,\n",
       "                                                                                  max_features=None,...\n",
       "                 RandomForestClassifier(bootstrap=True, class_weight=None,\n",
       "                                        criterion='gini', max_depth=None,\n",
       "                                        max_features='auto',\n",
       "                                        max_leaf_nodes=None,\n",
       "                                        min_impurity_decrease=0.0,\n",
       "                                        min_impurity_split=None,\n",
       "                                        min_samples_leaf=1, min_samples_split=2,\n",
       "                                        min_weight_fraction_leaf=0.0,\n",
       "                                        n_estimators=10, n_jobs=None,\n",
       "                                        oob_score=False, random_state=None,\n",
       "                                        verbose=0, warm_start=False))],\n",
       "         verbose=False)"
      ]
     },
     "execution_count": 126,
     "metadata": {},
     "output_type": "execute_result"
    }
   ],
   "source": [
    "classifier2.fit(train_df_random_forest, train_out)"
   ]
  },
  {
   "cell_type": "code",
   "execution_count": 127,
   "metadata": {},
   "outputs": [],
   "source": [
    "dank_predictions = classifier.predict_proba(test_df)"
   ]
  },
  {
   "cell_type": "code",
   "execution_count": 128,
   "metadata": {},
   "outputs": [],
   "source": [
    "test_df_random_forest = pd.concat([test_df, pd.get_dummies(test_df[['dow', 'num_links', 'num_words', 'created_hour', 'cluster_number']])], axis=1)\n",
    "# test_df_random_forest.columns.tolist()"
   ]
  },
  {
   "cell_type": "code",
   "execution_count": 129,
   "metadata": {},
   "outputs": [],
   "source": [
    "dp2 = classifier2.predict_proba(test_df_random_forest)"
   ]
  },
  {
   "cell_type": "code",
   "execution_count": 130,
   "metadata": {},
   "outputs": [
    {
     "name": "stdout",
     "output_type": "stream",
     "text": [
      "ROC-AUC yields 0.8751431128874455\n",
      "Accuracy:  0.7113636363636363\n"
     ]
    }
   ],
   "source": [
    "print('ROC-AUC yields ' + str(roc_auc_score(test_out, dank_predictions[:,1])))\n",
    "print(\"Accuracy: \", accuracy_score(test_out, np.round(dank_predictions[:,1])))"
   ]
  },
  {
   "cell_type": "code",
   "execution_count": 131,
   "metadata": {},
   "outputs": [
    {
     "name": "stdout",
     "output_type": "stream",
     "text": [
      "ROC-AUC yields 0.6201627844043381\n",
      "Accuracy:  0.5909090909090909\n"
     ]
    }
   ],
   "source": [
    "print('ROC-AUC yields ' + str(roc_auc_score(test_out, dp2[:,1])))\n",
    "print(\"Accuracy: \", accuracy_score(test_out, np.round(dp2[:,1])))"
   ]
  },
  {
   "cell_type": "code",
   "execution_count": 132,
   "metadata": {},
   "outputs": [],
   "source": [
    "terms = tfidf_vectorizer.get_feature_names()\n",
    "# terms"
   ]
  },
  {
   "cell_type": "code",
   "execution_count": 133,
   "metadata": {},
   "outputs": [
    {
     "data": {
      "text/plain": [
       "<1x254390 sparse matrix of type '<class 'numpy.float64'>'\n",
       "\twith 38 stored elements in Compressed Sparse Row format>"
      ]
     },
     "execution_count": 133,
     "metadata": {},
     "output_type": "execute_result"
    }
   ],
   "source": [
    "train_x[0]"
   ]
  },
  {
   "cell_type": "code",
   "execution_count": 134,
   "metadata": {},
   "outputs": [
    {
     "data": {
      "text/plain": [
       "SVC(C=1.0, cache_size=200, class_weight=None, coef0=0.0,\n",
       "    decision_function_shape='ovr', degree=3, gamma='scale', kernel='rbf',\n",
       "    max_iter=-1, probability=True, random_state=None, shrinking=True, tol=0.001,\n",
       "    verbose=False)"
      ]
     },
     "execution_count": 134,
     "metadata": {},
     "output_type": "execute_result"
    }
   ],
   "source": [
    "# train classifier\n",
    "clf = SVC(probability=True, gamma='scale', kernel='rbf')\n",
    "clf.fit(train_x, train_out)"
   ]
  },
  {
   "cell_type": "code",
   "execution_count": 135,
   "metadata": {},
   "outputs": [],
   "source": [
    "# predict and evaluate predictions\n",
    "predictions = clf.predict_proba(test_x)"
   ]
  },
  {
   "cell_type": "code",
   "execution_count": 136,
   "metadata": {},
   "outputs": [
    {
     "name": "stdout",
     "output_type": "stream",
     "text": [
      "ROC-AUC yields 0.5177147734132683\n",
      "Accuracy:  0.5477272727272727\n"
     ]
    }
   ],
   "source": [
    "print('ROC-AUC yields ' + str(roc_auc_score(test_out, predictions[:,1])))\n",
    "print(\"Accuracy: \", accuracy_score(test_out, np.round(predictions[:,1])))"
   ]
  },
  {
   "cell_type": "code",
   "execution_count": 137,
   "metadata": {},
   "outputs": [],
   "source": [
    "# np.round(predictions[:,0])\n",
    "# test_out\n",
    "count_vectorizer = CountVectorizer(stop_words=stop_words, ngram_range=(2,5))\n",
    "count_train_x = count_vectorizer.fit_transform(train_in)\n",
    "count_test_x = count_vectorizer.transform(test_in)"
   ]
  },
  {
   "cell_type": "code",
   "execution_count": 138,
   "metadata": {},
   "outputs": [],
   "source": [
    "count_clf = SVC(probability=True, gamma='scale', kernel='rbf')\n",
    "count_clf.fit(count_train_x, train_out)\n",
    "count_predictions = count_clf.predict_proba(count_test_x)"
   ]
  },
  {
   "cell_type": "code",
   "execution_count": 139,
   "metadata": {},
   "outputs": [
    {
     "name": "stdout",
     "output_type": "stream",
     "text": [
      "ROC-AUC yields 0.614323778596557\n",
      "Accuracy:  0.575\n"
     ]
    }
   ],
   "source": [
    "print('ROC-AUC yields ' + str(roc_auc_score(test_out, count_predictions[:,1])))\n",
    "print(\"Accuracy: \", accuracy_score(test_out, np.round(count_predictions[:,1])))"
   ]
  },
  {
   "cell_type": "code",
   "execution_count": 140,
   "metadata": {},
   "outputs": [],
   "source": [
    "averaged_preds = np.mean(np.array([dank_predictions[:,1], count_predictions[:,1], dp2[:,1]]), axis=0)"
   ]
  },
  {
   "cell_type": "code",
   "execution_count": 141,
   "metadata": {},
   "outputs": [
    {
     "data": {
      "text/plain": [
       "0.6272727272727273"
      ]
     },
     "execution_count": 141,
     "metadata": {},
     "output_type": "execute_result"
    }
   ],
   "source": [
    "accuracy_score(test_out, np.round(averaged_preds))"
   ]
  },
  {
   "cell_type": "code",
   "execution_count": 142,
   "metadata": {},
   "outputs": [
    {
     "data": {
      "text/plain": [
       "0.7329461479214805"
      ]
     },
     "execution_count": 142,
     "metadata": {},
     "output_type": "execute_result"
    }
   ],
   "source": [
    "roc_auc_score(test_out, averaged_preds)"
   ]
  },
  {
   "cell_type": "code",
   "execution_count": 143,
   "metadata": {},
   "outputs": [
    {
     "data": {
      "image/png": "[encoded data removed]",
      "text/plain": [
       "<Figure size 432x288 with 1 Axes>"
      ]
     },
     "metadata": {
      "needs_background": "light"
     },
     "output_type": "display_data"
    }
   ],
   "source": [
    "lr_precision, lr_recall, _ = precision_recall_curve(test_out, averaged_preds)\n",
    "idf_prec, idf_rec, _ = precision_recall_curve(test_out, predictions[:,1])\n",
    "bow_prec, bow_rec, _ = precision_recall_curve(test_out, count_predictions[:,1])\n",
    "dank_prec, dank_rec, _ = precision_recall_curve(test_out, dank_predictions[:,1])\n",
    "d2_prec, d2_rec, _ = precision_recall_curve(test_out, dp2[:,1])\n",
    "plt.plot(lr_recall, lr_precision, marker='.', label='Averaged')\n",
    "plt.plot(idf_rec, idf_prec, marker='.', label='TF-IDF')\n",
    "plt.plot(bow_rec, bow_prec, marker='.', label='BOW')\n",
    "plt.plot(dank_rec, dank_prec, marker='.', label='dank')\n",
    "plt.plot(d2_rec, d2_prec, marker='.', label='d2')\n",
    "# axis labels\n",
    "plt.xlabel('Recall')\n",
    "plt.ylabel('Precision')\n",
    "# show the legend\n",
    "plt.legend()\n",
    "# show the plot\n",
    "plt.show()"
   ]
  },
  {
   "cell_type": "code",
   "execution_count": 144,
   "metadata": {},
   "outputs": [
    {
     "name": "stdout",
     "output_type": "stream",
     "text": [
      "False Positives\n"
     ]
    },
    {
     "ename": "NameError",
     "evalue": "name 'i' is not defined",
     "output_type": "error",
     "traceback": [
      "\u001b[0;31m---------------------------------------------------------------------------\u001b[0m",
      "\u001b[0;31mNameError\u001b[0m                                 Traceback (most recent call last)",
      "\u001b[0;32m<ipython-input-144-86b8b254b421>\u001b[0m in \u001b[0;36m<module>\u001b[0;34m\u001b[0m\n\u001b[1;32m      1\u001b[0m \u001b[0mprint\u001b[0m\u001b[0;34m(\u001b[0m\u001b[0;34m\"False Positives\"\u001b[0m\u001b[0;34m)\u001b[0m\u001b[0;34m\u001b[0m\u001b[0;34m\u001b[0m\u001b[0m\n\u001b[1;32m      2\u001b[0m \u001b[0;31m# fp_test_df = test_df[['after_dir', 'preprocessed_text']]\u001b[0m\u001b[0;34m\u001b[0m\u001b[0;34m\u001b[0m\u001b[0;34m\u001b[0m\u001b[0m\n\u001b[0;32m----> 3\u001b[0;31m \u001b[0mtest_df\u001b[0m\u001b[0;34m[\u001b[0m\u001b[0;34m'pred'\u001b[0m\u001b[0;34m]\u001b[0m \u001b[0;34m=\u001b[0m \u001b[0mpredictions\u001b[0m\u001b[0;34m[\u001b[0m\u001b[0mi\u001b[0m\u001b[0;34m,\u001b[0m\u001b[0;36m1\u001b[0m\u001b[0;34m]\u001b[0m\u001b[0;34m\u001b[0m\u001b[0;34m\u001b[0m\u001b[0m\n\u001b[0m\u001b[1;32m      4\u001b[0m \u001b[0mtest_df\u001b[0m\u001b[0;34m[\u001b[0m\u001b[0;34m'is_fp'\u001b[0m\u001b[0;34m]\u001b[0m \u001b[0;34m=\u001b[0m \u001b[0mnp\u001b[0m\u001b[0;34m.\u001b[0m\u001b[0mwhere\u001b[0m\u001b[0;34m(\u001b[0m\u001b[0;34m(\u001b[0m\u001b[0;34m(\u001b[0m\u001b[0mtest_df\u001b[0m\u001b[0;34m[\u001b[0m\u001b[0;34m\"after_dir\"\u001b[0m\u001b[0;34m]\u001b[0m \u001b[0;34m==\u001b[0m \u001b[0;36m0\u001b[0m\u001b[0;34m)\u001b[0m \u001b[0;34m&\u001b[0m \u001b[0;34m(\u001b[0m\u001b[0mtest_df\u001b[0m\u001b[0;34m[\u001b[0m\u001b[0;34m'after_dir'\u001b[0m\u001b[0;34m]\u001b[0m \u001b[0;34m!=\u001b[0m \u001b[0mtest_df\u001b[0m\u001b[0;34m[\u001b[0m\u001b[0;34m'pred'\u001b[0m\u001b[0;34m]\u001b[0m\u001b[0;34m)\u001b[0m\u001b[0;34m)\u001b[0m\u001b[0;34m,\u001b[0m \u001b[0;36m1\u001b[0m\u001b[0;34m,\u001b[0m \u001b[0;36m0\u001b[0m\u001b[0;34m)\u001b[0m\u001b[0;34m\u001b[0m\u001b[0;34m\u001b[0m\u001b[0m\n\u001b[1;32m      5\u001b[0m \u001b[0mtest_df\u001b[0m\u001b[0;34m[\u001b[0m\u001b[0;34m'is_fn'\u001b[0m\u001b[0;34m]\u001b[0m \u001b[0;34m=\u001b[0m \u001b[0mnp\u001b[0m\u001b[0;34m.\u001b[0m\u001b[0mwhere\u001b[0m\u001b[0;34m(\u001b[0m\u001b[0;34m(\u001b[0m\u001b[0;34m(\u001b[0m\u001b[0mtest_df\u001b[0m\u001b[0;34m[\u001b[0m\u001b[0;34m\"after_dir\"\u001b[0m\u001b[0;34m]\u001b[0m \u001b[0;34m==\u001b[0m \u001b[0;36m1\u001b[0m\u001b[0;34m)\u001b[0m \u001b[0;34m&\u001b[0m \u001b[0;34m(\u001b[0m\u001b[0mtest_df\u001b[0m\u001b[0;34m[\u001b[0m\u001b[0;34m'after_dir'\u001b[0m\u001b[0;34m]\u001b[0m \u001b[0;34m!=\u001b[0m \u001b[0mtest_df\u001b[0m\u001b[0;34m[\u001b[0m\u001b[0;34m'pred'\u001b[0m\u001b[0;34m]\u001b[0m\u001b[0;34m)\u001b[0m\u001b[0;34m)\u001b[0m\u001b[0;34m,\u001b[0m \u001b[0;36m1\u001b[0m\u001b[0;34m,\u001b[0m \u001b[0;36m0\u001b[0m\u001b[0;34m)\u001b[0m\u001b[0;34m\u001b[0m\u001b[0;34m\u001b[0m\u001b[0m\n",
      "\u001b[0;31mNameError\u001b[0m: name 'i' is not defined"
     ]
    }
   ],
   "source": [
    "print(\"False Positives\")\n",
    "# fp_test_df = test_df[['after_dir', 'preprocessed_text']]\n",
    "test_df['pred'] = predictions[i,1]\n",
    "test_df['is_fp'] = np.where(((test_df[\"after_dir\"] == 0) & (test_df['after_dir'] != test_df['pred'])), 1, 0)\n",
    "test_df['is_fn'] = np.where(((test_df[\"after_dir\"] == 1) & (test_df['after_dir'] != test_df['pred'])), 1, 0)\n",
    "# for i in range(len(test_out)):\n",
    "#     if test_out[i] == 0 and test_out[i] != np.round(predictions[i,1]):\n",
    "#         print(test_out[i], np.round(predictions[i,1]), test_df.iloc[i].preprocessed_text)"
   ]
  },
  {
   "cell_type": "code",
   "execution_count": null,
   "metadata": {},
   "outputs": [],
   "source": [
    "test_df[test_df.is_fp == 1][['pred', 'after_dir','preprocessed_text']]"
   ]
  },
  {
   "cell_type": "code",
   "execution_count": null,
   "metadata": {},
   "outputs": [],
   "source": []
  }
 ],
 "metadata": {
  "kernelspec": {
   "display_name": "Python 3",
   "language": "python",
   "name": "python3"
  },
  "language_info": {
   "codemirror_mode": {
    "name": "ipython",
    "version": 3
   },
   "file_extension": ".py",
   "mimetype": "text/x-python",
   "name": "python",
   "nbconvert_exporter": "python",
   "pygments_lexer": "ipython3",
   "version": "3.7.4"
  }
 },
 "nbformat": 4,
 "nbformat_minor": 4
}
