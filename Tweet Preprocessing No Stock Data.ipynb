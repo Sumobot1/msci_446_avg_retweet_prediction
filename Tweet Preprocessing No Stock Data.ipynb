{
 "cells": [
  {
   "cell_type": "code",
   "execution_count": 1,
   "metadata": {},
   "outputs": [],
   "source": [
    "import pandas as pd\n",
    "from datetime import datetime, timedelta\n",
    "import numpy as np\n",
    "import re\n",
    "from data_science_toolkit.string_ops import remove_newlines, remove_excess_spaces, normalize_links, lower, custom_replace, html_to_unicode, unicode_to_html\n",
    "from data_science_toolkit.utils import parallel_compute\n",
    "import nltk\n",
    "from unidecode import unidecode\n",
    "import numpy as np\n",
    "from collections import defaultdict\n",
    "from dateutil import relativedelta\n",
    "from data_science_toolkit.file_ops import write_pkl"
   ]
  },
  {
   "cell_type": "code",
   "execution_count": 2,
   "metadata": {},
   "outputs": [],
   "source": [
    "pd.set_option('display.max_colwidth', -1)\n",
    "pd.set_option('display.max_rows', 500)"
   ]
  },
  {
   "cell_type": "markdown",
   "metadata": {},
   "source": [
    "# CHANGE THIS WHEN USING A DIFFERENT TWITTER ACCOUNT!!"
   ]
  },
  {
   "cell_type": "code",
   "execution_count": 3,
   "metadata": {},
   "outputs": [],
   "source": [
    "input_file_name = 'Trump_Tweets.csv'\n",
    "output_file_name = \"trump_tweets_sp500.csv\""
   ]
  },
  {
   "cell_type": "code",
   "execution_count": 4,
   "metadata": {},
   "outputs": [],
   "source": [
    "trumptweets = pd.read_csv(\"./tweets/{}\".format(input_file_name))\n",
    "trumptweets = trumptweets.dropna()\n",
    "# stocks = pd.read_csv('./stocks/spx_preprocessed.csv')\n",
    "# stocks['Date']= pd.to_datetime(stocks['Date']) "
   ]
  },
  {
   "cell_type": "code",
   "execution_count": 5,
   "metadata": {},
   "outputs": [
    {
     "data": {
      "text/html": [
       "<div>\n",
       "<style scoped>\n",
       "    .dataframe tbody tr th:only-of-type {\n",
       "        vertical-align: middle;\n",
       "    }\n",
       "\n",
       "    .dataframe tbody tr th {\n",
       "        vertical-align: top;\n",
       "    }\n",
       "\n",
       "    .dataframe thead th {\n",
       "        text-align: right;\n",
       "    }\n",
       "</style>\n",
       "<table border=\"1\" class=\"dataframe\">\n",
       "  <thead>\n",
       "    <tr style=\"text-align: right;\">\n",
       "      <th></th>\n",
       "      <th>source</th>\n",
       "      <th>text</th>\n",
       "      <th>created_at</th>\n",
       "      <th>retweet_count</th>\n",
       "      <th>favorite_count</th>\n",
       "      <th>is_retweet</th>\n",
       "      <th>id_str</th>\n",
       "    </tr>\n",
       "  </thead>\n",
       "  <tbody>\n",
       "    <tr>\n",
       "      <th>0</th>\n",
       "      <td>Twitter Media Studio</td>\n",
       "      <td>Thank you to @MarthaRaddatz and @TerryMoran for a job well done! https://t.co/mcHjqX1K2L</td>\n",
       "      <td>10-27-2019 21:24:55</td>\n",
       "      <td>11176.0</td>\n",
       "      <td>41087</td>\n",
       "      <td>false</td>\n",
       "      <td>1.188567e+18</td>\n",
       "    </tr>\n",
       "    <tr>\n",
       "      <th>1</th>\n",
       "      <td>Twitter for iPhone</td>\n",
       "      <td>RT @StateDept: Last night the United States brought the world's number one terrorist leader to justice. President @realDonaldTrump address…</td>\n",
       "      <td>10-27-2019 16:50:08</td>\n",
       "      <td>16384.0</td>\n",
       "      <td>0</td>\n",
       "      <td>true</td>\n",
       "      <td>1.188498e+18</td>\n",
       "    </tr>\n",
       "    <tr>\n",
       "      <th>2</th>\n",
       "      <td>Twitter for iPhone</td>\n",
       "      <td>RT @WhiteHouse: Thank you to the service members military leaders and agency officials who were critical to the success of this mission.…</td>\n",
       "      <td>10-27-2019 16:49:45</td>\n",
       "      <td>11357.0</td>\n",
       "      <td>0</td>\n",
       "      <td>true</td>\n",
       "      <td>1.188498e+18</td>\n",
       "    </tr>\n",
       "    <tr>\n",
       "      <th>3</th>\n",
       "      <td>Twitter for iPhone</td>\n",
       "      <td>https://t.co/7esnNSoa5D</td>\n",
       "      <td>10-27-2019 16:25:12</td>\n",
       "      <td>25546.0</td>\n",
       "      <td>108756</td>\n",
       "      <td>false</td>\n",
       "      <td>1.188492e+18</td>\n",
       "    </tr>\n",
       "    <tr>\n",
       "      <th>4</th>\n",
       "      <td>Twitter for iPhone</td>\n",
       "      <td>https://t.co/yJ0VKdNxHP</td>\n",
       "      <td>10-27-2019 14:31:33</td>\n",
       "      <td>22275.0</td>\n",
       "      <td>76549</td>\n",
       "      <td>false</td>\n",
       "      <td>1.188463e+18</td>\n",
       "    </tr>\n",
       "  </tbody>\n",
       "</table>\n",
       "</div>"
      ],
      "text/plain": [
       "                 source  \\\n",
       "0  Twitter Media Studio   \n",
       "1  Twitter for iPhone     \n",
       "2  Twitter for iPhone     \n",
       "3  Twitter for iPhone     \n",
       "4  Twitter for iPhone     \n",
       "\n",
       "                                                                                                                                          text  \\\n",
       "0  Thank you to @MarthaRaddatz and @TerryMoran for a job well done! https://t.co/mcHjqX1K2L                                                      \n",
       "1  RT @StateDept: Last night the United States brought the world's number one terrorist leader to justice. President @realDonaldTrump address…   \n",
       "2  RT @WhiteHouse: Thank you to the service members military leaders and agency officials who were critical to the success of this mission.…     \n",
       "3  https://t.co/7esnNSoa5D                                                                                                                       \n",
       "4  https://t.co/yJ0VKdNxHP                                                                                                                       \n",
       "\n",
       "            created_at  retweet_count favorite_count is_retweet        id_str  \n",
       "0  10-27-2019 21:24:55  11176.0        41087          false      1.188567e+18  \n",
       "1  10-27-2019 16:50:08  16384.0        0              true       1.188498e+18  \n",
       "2  10-27-2019 16:49:45  11357.0        0              true       1.188498e+18  \n",
       "3  10-27-2019 16:25:12  25546.0        108756         false      1.188492e+18  \n",
       "4  10-27-2019 14:31:33  22275.0        76549          false      1.188463e+18  "
      ]
     },
     "execution_count": 5,
     "metadata": {},
     "output_type": "execute_result"
    }
   ],
   "source": [
    "trumptweets.head(5)"
   ]
  },
  {
   "cell_type": "code",
   "execution_count": 6,
   "metadata": {},
   "outputs": [],
   "source": [
    "trumptweets = trumptweets.drop([\"source\", \"id_str\"], axis=1)"
   ]
  },
  {
   "cell_type": "code",
   "execution_count": 7,
   "metadata": {},
   "outputs": [],
   "source": [
    "trumptweets['created_at']= pd.to_datetime(trumptweets['created_at'], format=\"%m-%d-%Y %H:%M:%S\") "
   ]
  },
  {
   "cell_type": "code",
   "execution_count": 8,
   "metadata": {},
   "outputs": [
    {
     "name": "stdout",
     "output_type": "stream",
     "text": [
      "<class 'pandas.core.frame.DataFrame'>\n",
      "Int64Index: 39096 entries, 0 to 39160\n",
      "Data columns (total 5 columns):\n",
      "text              39096 non-null object\n",
      "created_at        39096 non-null datetime64[ns]\n",
      "retweet_count     39096 non-null float64\n",
      "favorite_count    39096 non-null object\n",
      "is_retweet        39096 non-null object\n",
      "dtypes: datetime64[ns](1), float64(1), object(3)\n",
      "memory usage: 1.8+ MB\n"
     ]
    }
   ],
   "source": [
    "trumptweets.info()"
   ]
  },
  {
   "cell_type": "markdown",
   "metadata": {},
   "source": [
    "### Only keep original tweets"
   ]
  },
  {
   "cell_type": "code",
   "execution_count": 9,
   "metadata": {},
   "outputs": [],
   "source": [
    "trumptweets['is_retweet'] = (trumptweets['is_retweet'] == 'true').astype(bool)\n",
    "trumptweets = trumptweets[trumptweets['is_retweet'] == False]"
   ]
  },
  {
   "cell_type": "code",
   "execution_count": 10,
   "metadata": {},
   "outputs": [],
   "source": [
    "trumptweets = trumptweets.sort_values(by=\"created_at\")\n",
    "trumptweets = trumptweets.reset_index(drop=True)\n",
    "# stocks = stocks.sort_values(by=\"Date\")\n",
    "# stocks = stocks.reset_index(drop=True)"
   ]
  },
  {
   "cell_type": "markdown",
   "metadata": {},
   "source": [
    "## Easy Text preprocessing\n",
    "- Convert to lower case\n",
    "- Convert links to `msciurl`\n",
    "- Remove 'RT'\n",
    "- Turn @mentions into `twitmention` (nltk splits the @ and the name)\n",
    "- Turn #hashtags into `twithashtag` (nltk splits the # and the content)\n",
    "- Tokenize sentence (split punctuation into its own tokens)\n",
    "- Replace unicode characters with their ascii equivalents (makes things easier to analyze)\n",
    "- Remove excess spaces/newlines"
   ]
  },
  {
   "cell_type": "code",
   "execution_count": 11,
   "metadata": {},
   "outputs": [],
   "source": [
    "def preprocess_tweet(tweet):\n",
    "    tweet = normalize_links(remove_newlines(html_to_unicode(tweet)), 'msciurl')\n",
    "    # NLTK by default turns mentions into @ <tag>.  Makes for easier analysis this stops the mentions from being separated, and allows them to be used in the clustering and stuff later...\n",
    "    tweet = custom_replace(tweet,\n",
    "                          [re.compile('RT'), re.compile(r\"@(?=\\S)\"), re.compile(r\"#(?=\\S)\")],\n",
    "                          [' ', 'twitmention', 'twithashtag'])\n",
    "    tweet = ' '.join([word for sent in nltk.sent_tokenize(tweet) for word in nltk.word_tokenize(sent)])\n",
    "    return unidecode(lower(remove_excess_spaces(tweet)))"
   ]
  },
  {
   "cell_type": "code",
   "execution_count": 12,
   "metadata": {},
   "outputs": [
    {
     "name": "stderr",
     "output_type": "stream",
     "text": [
      "100%|██████████| 36305/36305 [00:03<00:00, 9909.92it/s] \n"
     ]
    }
   ],
   "source": [
    "tweets = trumptweets[\"text\"].tolist()\n",
    "processed_tweets = parallel_compute(tweets, preprocess_tweet)"
   ]
  },
  {
   "cell_type": "code",
   "execution_count": 13,
   "metadata": {},
   "outputs": [],
   "source": [
    "trumptweets['preprocessed_text'] = processed_tweets"
   ]
  },
  {
   "cell_type": "markdown",
   "metadata": {},
   "source": [
    "## Add Other Columns for Analysis"
   ]
  },
  {
   "cell_type": "markdown",
   "metadata": {},
   "source": [
    "### Hour of day tweet was created"
   ]
  },
  {
   "cell_type": "code",
   "execution_count": 14,
   "metadata": {},
   "outputs": [],
   "source": [
    "trumptweets[\"created_hour\"] = trumptweets[\"created_at\"].apply(lambda x: x.hour)"
   ]
  },
  {
   "cell_type": "markdown",
   "metadata": {},
   "source": [
    "### Day of week tweet was created"
   ]
  },
  {
   "cell_type": "code",
   "execution_count": 15,
   "metadata": {},
   "outputs": [],
   "source": [
    "trumptweets['dow'] = trumptweets['created_at'].dt.dayofweek"
   ]
  },
  {
   "cell_type": "markdown",
   "metadata": {},
   "source": [
    "### Number of links in tweet"
   ]
  },
  {
   "cell_type": "code",
   "execution_count": 16,
   "metadata": {},
   "outputs": [],
   "source": [
    "trumptweets['num_links'] = trumptweets.preprocessed_text.apply(lambda tweet: sum([1 if 'msciurl' in word else 0 for word in tweet.split(\"  \")]))"
   ]
  },
  {
   "cell_type": "markdown",
   "metadata": {},
   "source": [
    "### Number of words in tweet (ignoring mentions, hashtags, and links)"
   ]
  },
  {
   "cell_type": "code",
   "execution_count": 17,
   "metadata": {},
   "outputs": [],
   "source": [
    "trumptweets['num_words'] = trumptweets.preprocessed_text.apply(lambda tweet: sum([1 if len(word) > 1 and 'msciurl' not in word and 'twitmention' not in word and 'twithashtag' not in word else 0 for word in tweet.split(\" \")]))"
   ]
  },
  {
   "cell_type": "markdown",
   "metadata": {},
   "source": [
    "## There is one tweets that is messed up... remove it"
   ]
  },
  {
   "cell_type": "code",
   "execution_count": 18,
   "metadata": {},
   "outputs": [],
   "source": [
    "trumptweets = trumptweets[trumptweets.num_words < 55]"
   ]
  },
  {
   "cell_type": "code",
   "execution_count": 19,
   "metadata": {},
   "outputs": [
    {
     "data": {
      "text/html": [
       "<div>\n",
       "<style scoped>\n",
       "    .dataframe tbody tr th:only-of-type {\n",
       "        vertical-align: middle;\n",
       "    }\n",
       "\n",
       "    .dataframe tbody tr th {\n",
       "        vertical-align: top;\n",
       "    }\n",
       "\n",
       "    .dataframe thead th {\n",
       "        text-align: right;\n",
       "    }\n",
       "</style>\n",
       "<table border=\"1\" class=\"dataframe\">\n",
       "  <thead>\n",
       "    <tr style=\"text-align: right;\">\n",
       "      <th></th>\n",
       "      <th>text</th>\n",
       "      <th>created_at</th>\n",
       "      <th>retweet_count</th>\n",
       "      <th>favorite_count</th>\n",
       "      <th>is_retweet</th>\n",
       "      <th>preprocessed_text</th>\n",
       "      <th>created_hour</th>\n",
       "      <th>dow</th>\n",
       "      <th>num_links</th>\n",
       "      <th>num_words</th>\n",
       "    </tr>\n",
       "  </thead>\n",
       "  <tbody>\n",
       "    <tr>\n",
       "      <th>0</th>\n",
       "      <td>Be sure to tune in and watch Donald Trump on Late Night with David Letterman as he presents the Top Ten List tonight!</td>\n",
       "      <td>2009-05-04 18:54:25</td>\n",
       "      <td>253.0</td>\n",
       "      <td>202</td>\n",
       "      <td>False</td>\n",
       "      <td>be sure to tune in and watch donald trump on late night with david letterman as he presents the top ten list tonight !</td>\n",
       "      <td>18</td>\n",
       "      <td>0</td>\n",
       "      <td>0</td>\n",
       "      <td>23</td>\n",
       "    </tr>\n",
       "    <tr>\n",
       "      <th>1</th>\n",
       "      <td>Donald Trump will be appearing on The View tomorrow morning to discuss Celebrity Apprentice and his new book Think Like A Champion!</td>\n",
       "      <td>2009-05-05 01:00:10</td>\n",
       "      <td>2.0</td>\n",
       "      <td>3</td>\n",
       "      <td>False</td>\n",
       "      <td>donald trump will be appearing on the view tomorrow morning to discuss celebrity apprentice and his new book think like a champion !</td>\n",
       "      <td>1</td>\n",
       "      <td>1</td>\n",
       "      <td>0</td>\n",
       "      <td>21</td>\n",
       "    </tr>\n",
       "    <tr>\n",
       "      <th>2</th>\n",
       "      <td>Donald Trump reads Top Ten Financial Tips on Late Show with David Letterman: http://tinyurl.com/ooafwn - Very funny!</td>\n",
       "      <td>2009-05-08 13:38:08</td>\n",
       "      <td>3.0</td>\n",
       "      <td>2</td>\n",
       "      <td>False</td>\n",
       "      <td>donald trump reads top ten financial tips on late show with david letterman : msciurl - very funny !</td>\n",
       "      <td>13</td>\n",
       "      <td>4</td>\n",
       "      <td>1</td>\n",
       "      <td>15</td>\n",
       "    </tr>\n",
       "    <tr>\n",
       "      <th>3</th>\n",
       "      <td>New Blog Post: Celebrity Apprentice Finale and Lessons Learned Along the Way: http://tinyurl.com/qlux5e</td>\n",
       "      <td>2009-05-08 20:40:15</td>\n",
       "      <td>8.0</td>\n",
       "      <td>27</td>\n",
       "      <td>False</td>\n",
       "      <td>new blog post : celebrity apprentice finale and lessons learned along the way : msciurl</td>\n",
       "      <td>20</td>\n",
       "      <td>4</td>\n",
       "      <td>1</td>\n",
       "      <td>12</td>\n",
       "    </tr>\n",
       "    <tr>\n",
       "      <th>4</th>\n",
       "      <td>My persona will never be that of a wallflower - I’d rather build walls than cling to them --Donald J. Trump</td>\n",
       "      <td>2009-05-12 14:07:28</td>\n",
       "      <td>1421.0</td>\n",
       "      <td>1950</td>\n",
       "      <td>False</td>\n",
       "      <td>my persona will never be that of a wallflower - i ' d rather build walls than cling to them -- donald j. trump</td>\n",
       "      <td>14</td>\n",
       "      <td>1</td>\n",
       "      <td>0</td>\n",
       "      <td>19</td>\n",
       "    </tr>\n",
       "  </tbody>\n",
       "</table>\n",
       "</div>"
      ],
      "text/plain": [
       "                                                                                                                                  text  \\\n",
       "0  Be sure to tune in and watch Donald Trump on Late Night with David Letterman as he presents the Top Ten List tonight!                 \n",
       "1  Donald Trump will be appearing on The View tomorrow morning to discuss Celebrity Apprentice and his new book Think Like A Champion!   \n",
       "2  Donald Trump reads Top Ten Financial Tips on Late Show with David Letterman: http://tinyurl.com/ooafwn - Very funny!                  \n",
       "3  New Blog Post: Celebrity Apprentice Finale and Lessons Learned Along the Way: http://tinyurl.com/qlux5e                               \n",
       "4  My persona will never be that of a wallflower - I’d rather build walls than cling to them --Donald J. Trump                           \n",
       "\n",
       "           created_at  retweet_count favorite_count  is_retweet  \\\n",
       "0 2009-05-04 18:54:25  253.0          202            False        \n",
       "1 2009-05-05 01:00:10  2.0            3              False        \n",
       "2 2009-05-08 13:38:08  3.0            2              False        \n",
       "3 2009-05-08 20:40:15  8.0            27             False        \n",
       "4 2009-05-12 14:07:28  1421.0         1950           False        \n",
       "\n",
       "                                                                                                                      preprocessed_text  \\\n",
       "0  be sure to tune in and watch donald trump on late night with david letterman as he presents the top ten list tonight !                 \n",
       "1  donald trump will be appearing on the view tomorrow morning to discuss celebrity apprentice and his new book think like a champion !   \n",
       "2  donald trump reads top ten financial tips on late show with david letterman : msciurl - very funny !                                   \n",
       "3  new blog post : celebrity apprentice finale and lessons learned along the way : msciurl                                                \n",
       "4  my persona will never be that of a wallflower - i ' d rather build walls than cling to them -- donald j. trump                         \n",
       "\n",
       "   created_hour  dow  num_links  num_words  \n",
       "0  18            0    0          23         \n",
       "1  1             1    0          21         \n",
       "2  13            4    1          15         \n",
       "3  20            4    1          12         \n",
       "4  14            1    0          19         "
      ]
     },
     "execution_count": 19,
     "metadata": {},
     "output_type": "execute_result"
    }
   ],
   "source": [
    "trumptweets.head(5)"
   ]
  },
  {
   "cell_type": "markdown",
   "metadata": {},
   "source": [
    "# MORE OR LESS RETWEETS THAN AVG!!"
   ]
  },
  {
   "cell_type": "code",
   "execution_count": 20,
   "metadata": {},
   "outputs": [],
   "source": [
    "min_year = min([x.year for x in trumptweets['created_at'].tolist()])\n",
    "max_year = max([x.year for x in trumptweets['created_at'].tolist()])+1"
   ]
  },
  {
   "cell_type": "code",
   "execution_count": 21,
   "metadata": {},
   "outputs": [
    {
     "name": "stderr",
     "output_type": "stream",
     "text": [
      "/usr/local/lib/python3.5/dist-packages/numpy/core/fromnumeric.py:3257: RuntimeWarning: Mean of empty slice.\n",
      "  out=out, **kwargs)\n",
      "/usr/local/lib/python3.5/dist-packages/numpy/core/_methods.py:161: RuntimeWarning: invalid value encountered in double_scalars\n",
      "  ret = ret.dtype.type(ret / rcount)\n"
     ]
    }
   ],
   "source": [
    "curr_dt = datetime(min_year, 1, 1)\n",
    "dt_avg = defaultdict(lambda: defaultdict(int))\n",
    "while curr_dt < datetime(max_year, 1, 1):\n",
    "    dt_avg[curr_dt.year][curr_dt.month] = np.mean(trumptweets[trumptweets['created_at'].between(curr_dt, curr_dt+relativedelta.relativedelta(months=1))]['retweet_count'].tolist())  \n",
    "    curr_dt += relativedelta.relativedelta(months=1)"
   ]
  },
  {
   "cell_type": "markdown",
   "metadata": {},
   "source": [
    "## Save averages to pkl to read in EDA.ipynb"
   ]
  },
  {
   "cell_type": "code",
   "execution_count": 22,
   "metadata": {},
   "outputs": [],
   "source": [
    "write_pkl(\"dt_avg_{}.pkl\".format(output_file_name), dict(dt_avg))"
   ]
  },
  {
   "cell_type": "code",
   "execution_count": 23,
   "metadata": {},
   "outputs": [],
   "source": [
    "greater_than_monthly_avg = list(map(int, [count > dt_avg[curr_date.year][curr_date.month] \n",
    "                                          for count, curr_date in zip(trumptweets['retweet_count'].tolist(), trumptweets['created_at'].tolist())]))\n",
    "trumptweets['above_monthly_avg'] = greater_than_monthly_avg"
   ]
  },
  {
   "cell_type": "markdown",
   "metadata": {},
   "source": [
    "## Percent Caps"
   ]
  },
  {
   "cell_type": "code",
   "execution_count": 24,
   "metadata": {},
   "outputs": [],
   "source": [
    "orig = trumptweets['text'].tolist()\n",
    "percent_caps = []\n",
    "for tweet in orig:\n",
    "    words = tweet.split(\" \")\n",
    "    num_allcaps = sum([1 for x in words if x.upper() == x and re.search('[a-zA-Z]', x)])\n",
    "    percent_caps.append(int(num_allcaps/len(words)*10)/10 if len(words) else 0)"
   ]
  },
  {
   "cell_type": "code",
   "execution_count": 25,
   "metadata": {},
   "outputs": [
    {
     "name": "stdout",
     "output_type": "stream",
     "text": [
      "{0.0, 0.4, 0.1, 0.3, 0.2, 1.0, 0.7, 0.5, 0.6, 0.8, 0.9}\n"
     ]
    }
   ],
   "source": [
    "trumptweets['percent_caps'] = percent_caps\n",
    "print(set(percent_caps))"
   ]
  },
  {
   "cell_type": "markdown",
   "metadata": {},
   "source": [
    "## Num Hashtags"
   ]
  },
  {
   "cell_type": "code",
   "execution_count": 26,
   "metadata": {},
   "outputs": [],
   "source": [
    "preprocessed = trumptweets['preprocessed_text'].tolist()\n",
    "num_hashtags = []\n",
    "for tweet in preprocessed:\n",
    "    words = tweet.split(\" \")\n",
    "    num_hashtag = sum([1 for x in words if 'twithashtag' in x and re.search('[a-zA-Z]', x)])\n",
    "    num_hashtags.append(num_hashtag if num_hashtag else 0)"
   ]
  },
  {
   "cell_type": "code",
   "execution_count": 27,
   "metadata": {},
   "outputs": [
    {
     "name": "stdout",
     "output_type": "stream",
     "text": [
      "{0, 1, 2, 3, 4, 5, 6, 7, 8}\n"
     ]
    }
   ],
   "source": [
    "trumptweets['num_hashtags'] = num_hashtags\n",
    "print(set(num_hashtags))"
   ]
  },
  {
   "cell_type": "markdown",
   "metadata": {},
   "source": [
    "## Num Mentions"
   ]
  },
  {
   "cell_type": "code",
   "execution_count": 28,
   "metadata": {},
   "outputs": [],
   "source": [
    "num_mentions = []\n",
    "for tweet in preprocessed:\n",
    "    words = tweet.split(\" \")\n",
    "    num_mention = sum([1 for x in words if 'twitmention' in x and re.search('[a-zA-Z]', x)])\n",
    "    num_mentions.append(num_mention if num_mention else 0)"
   ]
  },
  {
   "cell_type": "code",
   "execution_count": 29,
   "metadata": {},
   "outputs": [
    {
     "name": "stdout",
     "output_type": "stream",
     "text": [
      "{0, 1, 2, 3, 4, 5, 6, 7, 8, 9, 10, 11, 12, 13}\n"
     ]
    }
   ],
   "source": [
    "trumptweets['num_mentions'] = num_mentions\n",
    "print(set(num_mentions))"
   ]
  },
  {
   "cell_type": "markdown",
   "metadata": {},
   "source": [
    "### Final Dataframe..."
   ]
  },
  {
   "cell_type": "code",
   "execution_count": 30,
   "metadata": {},
   "outputs": [
    {
     "data": {
      "text/html": [
       "<div>\n",
       "<style scoped>\n",
       "    .dataframe tbody tr th:only-of-type {\n",
       "        vertical-align: middle;\n",
       "    }\n",
       "\n",
       "    .dataframe tbody tr th {\n",
       "        vertical-align: top;\n",
       "    }\n",
       "\n",
       "    .dataframe thead th {\n",
       "        text-align: right;\n",
       "    }\n",
       "</style>\n",
       "<table border=\"1\" class=\"dataframe\">\n",
       "  <thead>\n",
       "    <tr style=\"text-align: right;\">\n",
       "      <th></th>\n",
       "      <th>text</th>\n",
       "      <th>created_at</th>\n",
       "      <th>retweet_count</th>\n",
       "      <th>favorite_count</th>\n",
       "      <th>is_retweet</th>\n",
       "      <th>preprocessed_text</th>\n",
       "      <th>created_hour</th>\n",
       "      <th>dow</th>\n",
       "      <th>num_links</th>\n",
       "      <th>num_words</th>\n",
       "      <th>above_monthly_avg</th>\n",
       "      <th>percent_caps</th>\n",
       "      <th>num_hashtags</th>\n",
       "      <th>num_mentions</th>\n",
       "    </tr>\n",
       "  </thead>\n",
       "  <tbody>\n",
       "    <tr>\n",
       "      <th>0</th>\n",
       "      <td>Be sure to tune in and watch Donald Trump on Late Night with David Letterman as he presents the Top Ten List tonight!</td>\n",
       "      <td>2009-05-04 18:54:25</td>\n",
       "      <td>253.0</td>\n",
       "      <td>202</td>\n",
       "      <td>False</td>\n",
       "      <td>be sure to tune in and watch donald trump on late night with david letterman as he presents the top ten list tonight !</td>\n",
       "      <td>18</td>\n",
       "      <td>0</td>\n",
       "      <td>0</td>\n",
       "      <td>23</td>\n",
       "      <td>1</td>\n",
       "      <td>0.0</td>\n",
       "      <td>0</td>\n",
       "      <td>0</td>\n",
       "    </tr>\n",
       "    <tr>\n",
       "      <th>1</th>\n",
       "      <td>Donald Trump will be appearing on The View tomorrow morning to discuss Celebrity Apprentice and his new book Think Like A Champion!</td>\n",
       "      <td>2009-05-05 01:00:10</td>\n",
       "      <td>2.0</td>\n",
       "      <td>3</td>\n",
       "      <td>False</td>\n",
       "      <td>donald trump will be appearing on the view tomorrow morning to discuss celebrity apprentice and his new book think like a champion !</td>\n",
       "      <td>1</td>\n",
       "      <td>1</td>\n",
       "      <td>0</td>\n",
       "      <td>21</td>\n",
       "      <td>0</td>\n",
       "      <td>0.0</td>\n",
       "      <td>0</td>\n",
       "      <td>0</td>\n",
       "    </tr>\n",
       "    <tr>\n",
       "      <th>2</th>\n",
       "      <td>Donald Trump reads Top Ten Financial Tips on Late Show with David Letterman: http://tinyurl.com/ooafwn - Very funny!</td>\n",
       "      <td>2009-05-08 13:38:08</td>\n",
       "      <td>3.0</td>\n",
       "      <td>2</td>\n",
       "      <td>False</td>\n",
       "      <td>donald trump reads top ten financial tips on late show with david letterman : msciurl - very funny !</td>\n",
       "      <td>13</td>\n",
       "      <td>4</td>\n",
       "      <td>1</td>\n",
       "      <td>15</td>\n",
       "      <td>0</td>\n",
       "      <td>0.0</td>\n",
       "      <td>0</td>\n",
       "      <td>0</td>\n",
       "    </tr>\n",
       "    <tr>\n",
       "      <th>3</th>\n",
       "      <td>New Blog Post: Celebrity Apprentice Finale and Lessons Learned Along the Way: http://tinyurl.com/qlux5e</td>\n",
       "      <td>2009-05-08 20:40:15</td>\n",
       "      <td>8.0</td>\n",
       "      <td>27</td>\n",
       "      <td>False</td>\n",
       "      <td>new blog post : celebrity apprentice finale and lessons learned along the way : msciurl</td>\n",
       "      <td>20</td>\n",
       "      <td>4</td>\n",
       "      <td>1</td>\n",
       "      <td>12</td>\n",
       "      <td>0</td>\n",
       "      <td>0.0</td>\n",
       "      <td>0</td>\n",
       "      <td>0</td>\n",
       "    </tr>\n",
       "    <tr>\n",
       "      <th>4</th>\n",
       "      <td>My persona will never be that of a wallflower - I’d rather build walls than cling to them --Donald J. Trump</td>\n",
       "      <td>2009-05-12 14:07:28</td>\n",
       "      <td>1421.0</td>\n",
       "      <td>1950</td>\n",
       "      <td>False</td>\n",
       "      <td>my persona will never be that of a wallflower - i ' d rather build walls than cling to them -- donald j. trump</td>\n",
       "      <td>14</td>\n",
       "      <td>1</td>\n",
       "      <td>0</td>\n",
       "      <td>19</td>\n",
       "      <td>1</td>\n",
       "      <td>0.0</td>\n",
       "      <td>0</td>\n",
       "      <td>0</td>\n",
       "    </tr>\n",
       "  </tbody>\n",
       "</table>\n",
       "</div>"
      ],
      "text/plain": [
       "                                                                                                                                  text  \\\n",
       "0  Be sure to tune in and watch Donald Trump on Late Night with David Letterman as he presents the Top Ten List tonight!                 \n",
       "1  Donald Trump will be appearing on The View tomorrow morning to discuss Celebrity Apprentice and his new book Think Like A Champion!   \n",
       "2  Donald Trump reads Top Ten Financial Tips on Late Show with David Letterman: http://tinyurl.com/ooafwn - Very funny!                  \n",
       "3  New Blog Post: Celebrity Apprentice Finale and Lessons Learned Along the Way: http://tinyurl.com/qlux5e                               \n",
       "4  My persona will never be that of a wallflower - I’d rather build walls than cling to them --Donald J. Trump                           \n",
       "\n",
       "           created_at  retweet_count favorite_count  is_retweet  \\\n",
       "0 2009-05-04 18:54:25  253.0          202            False        \n",
       "1 2009-05-05 01:00:10  2.0            3              False        \n",
       "2 2009-05-08 13:38:08  3.0            2              False        \n",
       "3 2009-05-08 20:40:15  8.0            27             False        \n",
       "4 2009-05-12 14:07:28  1421.0         1950           False        \n",
       "\n",
       "                                                                                                                      preprocessed_text  \\\n",
       "0  be sure to tune in and watch donald trump on late night with david letterman as he presents the top ten list tonight !                 \n",
       "1  donald trump will be appearing on the view tomorrow morning to discuss celebrity apprentice and his new book think like a champion !   \n",
       "2  donald trump reads top ten financial tips on late show with david letterman : msciurl - very funny !                                   \n",
       "3  new blog post : celebrity apprentice finale and lessons learned along the way : msciurl                                                \n",
       "4  my persona will never be that of a wallflower - i ' d rather build walls than cling to them -- donald j. trump                         \n",
       "\n",
       "   created_hour  dow  num_links  num_words  above_monthly_avg  percent_caps  \\\n",
       "0  18            0    0          23         1                  0.0            \n",
       "1  1             1    0          21         0                  0.0            \n",
       "2  13            4    1          15         0                  0.0            \n",
       "3  20            4    1          12         0                  0.0            \n",
       "4  14            1    0          19         1                  0.0            \n",
       "\n",
       "   num_hashtags  num_mentions  \n",
       "0  0             0             \n",
       "1  0             0             \n",
       "2  0             0             \n",
       "3  0             0             \n",
       "4  0             0             "
      ]
     },
     "execution_count": 30,
     "metadata": {},
     "output_type": "execute_result"
    }
   ],
   "source": [
    "trumptweets.head(5)"
   ]
  },
  {
   "cell_type": "markdown",
   "metadata": {},
   "source": [
    "### Save"
   ]
  },
  {
   "cell_type": "code",
   "execution_count": 31,
   "metadata": {},
   "outputs": [],
   "source": [
    "trumptweets.to_csv(\"./stocks/{}\".format(output_file_name), index=False)"
   ]
  },
  {
   "cell_type": "code",
   "execution_count": null,
   "metadata": {},
   "outputs": [],
   "source": []
  }
 ],
 "metadata": {
  "kernelspec": {
   "display_name": "Python 3",
   "language": "python",
   "name": "python3"
  },
  "language_info": {
   "codemirror_mode": {
    "name": "ipython",
    "version": 3
   },
   "file_extension": ".py",
   "mimetype": "text/x-python",
   "name": "python",
   "nbconvert_exporter": "python",
   "pygments_lexer": "ipython3",
   "version": "3.5.2"
  }
 },
 "nbformat": 4,
 "nbformat_minor": 4
}
